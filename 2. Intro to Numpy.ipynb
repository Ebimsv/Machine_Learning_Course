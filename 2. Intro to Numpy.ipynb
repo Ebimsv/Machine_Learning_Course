{
 "cells": [
  {
   "cell_type": "markdown",
   "id": "436a27a3-5af9-4245-9bfa-deddfc6e9bd3",
   "metadata": {
    "tags": []
   },
   "source": [
    "# Numpy"
   ]
  },
  {
   "cell_type": "markdown",
   "id": "8acd5af4-adb4-4498-9691-590fdd011e5e",
   "metadata": {
    "tags": []
   },
   "source": [
    "## Arrays"
   ]
  },
  {
   "cell_type": "markdown",
   "id": "99b78458-85e1-478f-9baa-aec5f115e866",
   "metadata": {},
   "source": [
    "Arrays are the main object in NumPy and are used to **store and manipulate** large sets of numerical data efficiently. \n",
    "In NumPy, arrays are represented by the **ndarray class**, which is a multidimensional array.\n",
    "\n",
    "One of the key advantages of NumPy arrays over Python lists is that NumPy arrays are **homogeneous**, meaning they can only contain elements of the same data type. This allows NumPy to perform operations on arrays **much faster than Python** can on lists.\n",
    "\n",
    "To create a NumPy array, you can use the **array()** function and pass in a **Python list or tuple of numbers**."
   ]
  },
  {
   "cell_type": "markdown",
   "id": "b257f194-0fa6-45cd-9bcb-a9c17b22c0a3",
   "metadata": {},
   "source": [
    "### Create a **1D array** of integers"
   ]
  },
  {
   "cell_type": "code",
   "execution_count": 2,
   "id": "c5c2898c-3657-4f1b-9847-b1f3f2bc3faa",
   "metadata": {},
   "outputs": [
    {
     "name": "stdout",
     "output_type": "stream",
     "text": [
      "[1 2 3 4 5]\n"
     ]
    }
   ],
   "source": [
    "import numpy as np\n",
    "\n",
    "my_array = np.array([1, 2, 3, 4, 5])\n",
    "print(my_array)"
   ]
  },
  {
   "cell_type": "markdown",
   "id": "3fa66619-7d06-40e8-9eda-d0eeeefc0955",
   "metadata": {},
   "source": [
    "### create 2D or higher-dimensional arrays by passing in nested lists or tuples."
   ]
  },
  {
   "cell_type": "code",
   "execution_count": 9,
   "id": "eaf3108f-5dba-46c5-9b29-25dd72bba2a8",
   "metadata": {},
   "outputs": [
    {
     "name": "stdout",
     "output_type": "stream",
     "text": [
      "[[1 2 3]\n",
      " [4 5 6]\n",
      " [7 8 9]]\n"
     ]
    }
   ],
   "source": [
    "my_2d_array = np.array([[1, 2, 3], [4, 5, 6], [7, 8, 9]])\n",
    "print(my_2d_array)"
   ]
  },
  {
   "cell_type": "markdown",
   "id": "e83839d6-725b-4a54-88f4-448b7e561e6c",
   "metadata": {},
   "source": [
    "### Access its properties"
   ]
  },
  {
   "cell_type": "markdown",
   "id": "20a4d415-4ac3-4347-8365-cfbf37695399",
   "metadata": {},
   "source": [
    "#### shape"
   ]
  },
  {
   "cell_type": "code",
   "execution_count": 13,
   "id": "3fcad730-5018-4c4a-8d64-0913b589cb7a",
   "metadata": {},
   "outputs": [
    {
     "data": {
      "text/plain": [
       "(3, 3)"
      ]
     },
     "execution_count": 13,
     "metadata": {},
     "output_type": "execute_result"
    }
   ],
   "source": [
    "my_2d_array.shape"
   ]
  },
  {
   "cell_type": "markdown",
   "id": "24da5e7a-4835-4f5d-a9e9-ff7bce394bdc",
   "metadata": {},
   "source": [
    "#### size"
   ]
  },
  {
   "cell_type": "code",
   "execution_count": 12,
   "id": "b9946b4f-a97f-4268-b9f9-f779d4c41a67",
   "metadata": {},
   "outputs": [
    {
     "data": {
      "text/plain": [
       "9"
      ]
     },
     "execution_count": 12,
     "metadata": {},
     "output_type": "execute_result"
    }
   ],
   "source": [
    "my_2d_array.size"
   ]
  },
  {
   "cell_type": "markdown",
   "id": "926728f0-29fc-477f-a59a-4d1ed01c9559",
   "metadata": {},
   "source": [
    "dtype"
   ]
  },
  {
   "cell_type": "code",
   "execution_count": 14,
   "id": "d627619d-5013-472e-8d42-78d56d9f40e6",
   "metadata": {},
   "outputs": [
    {
     "data": {
      "text/plain": [
       "dtype('int32')"
      ]
     },
     "execution_count": 14,
     "metadata": {},
     "output_type": "execute_result"
    }
   ],
   "source": [
    "my_2d_array.dtype"
   ]
  },
  {
   "cell_type": "markdown",
   "id": "98fc9ecb-3693-4b67-a4da-1d0e1c7f690f",
   "metadata": {
    "tags": []
   },
   "source": [
    "## Array creation"
   ]
  },
  {
   "cell_type": "markdown",
   "id": "d3c20ff1-c76c-4092-9053-6ab5eaf743db",
   "metadata": {},
   "source": [
    "### 1. Creating an array from a Python list or tuple using the **array()**"
   ]
  },
  {
   "cell_type": "code",
   "execution_count": 15,
   "id": "4ea83a37-26d8-46ae-b138-c9ccbf3f5dd6",
   "metadata": {},
   "outputs": [
    {
     "name": "stdout",
     "output_type": "stream",
     "text": [
      "[1 2 3]\n"
     ]
    }
   ],
   "source": [
    "import numpy as np\n",
    "\n",
    "my_list = [1, 2, 3]\n",
    "my_array = np.array(my_list)\n",
    "print(my_array)"
   ]
  },
  {
   "cell_type": "markdown",
   "id": "22187f10-2fe7-4e44-9bcb-21c7f7fd8a3d",
   "metadata": {},
   "source": [
    "### 2. Creating an array of zeros using the **zeros()** function"
   ]
  },
  {
   "cell_type": "code",
   "execution_count": 16,
   "id": "33f9a675-453a-43c8-b3ce-d46c82b6da92",
   "metadata": {},
   "outputs": [
    {
     "name": "stdout",
     "output_type": "stream",
     "text": [
      "[[0. 0. 0. 0.]\n",
      " [0. 0. 0. 0.]\n",
      " [0. 0. 0. 0.]]\n"
     ]
    }
   ],
   "source": [
    "zeros_array = np.zeros((3, 4)) \n",
    "print(zeros_array)"
   ]
  },
  {
   "cell_type": "markdown",
   "id": "cff68a61-4554-4664-8a36-5dc247d74433",
   "metadata": {},
   "source": [
    "### 3. Creating an array of ones using the **ones()** function"
   ]
  },
  {
   "cell_type": "code",
   "execution_count": 17,
   "id": "4977bac8-b3b5-4e24-a27c-a0717931ac28",
   "metadata": {},
   "outputs": [
    {
     "name": "stdout",
     "output_type": "stream",
     "text": [
      "[[1. 1. 1.]\n",
      " [1. 1. 1.]]\n"
     ]
    }
   ],
   "source": [
    "ones_array = np.ones((2, 3))\n",
    "print(ones_array)"
   ]
  },
  {
   "cell_type": "markdown",
   "id": "d8eeff29-27a5-49f8-9b69-8412693f370e",
   "metadata": {},
   "source": [
    "### 4. Creating an empty array using the **empty()** function"
   ]
  },
  {
   "cell_type": "code",
   "execution_count": 18,
   "id": "6066cc90-1a58-4c34-896a-1313127831a4",
   "metadata": {},
   "outputs": [
    {
     "name": "stdout",
     "output_type": "stream",
     "text": [
      "[[1.53025421e-311 4.67296746e-307]\n",
      " [1.69121096e-306 1.39071870e-307]]\n"
     ]
    }
   ],
   "source": [
    "empty_array = np.empty((2, 2))\n",
    "print(empty_array)"
   ]
  },
  {
   "cell_type": "markdown",
   "id": "8d5a56e9-47f4-44d8-a196-92e3bd340e10",
   "metadata": {},
   "source": [
    "### 5. Creating an array of regularly spaced values using the **arange()** function"
   ]
  },
  {
   "cell_type": "code",
   "execution_count": 24,
   "id": "9d7f6143-63c4-4a99-962e-68be3f6bbb5f",
   "metadata": {},
   "outputs": [
    {
     "name": "stdout",
     "output_type": "stream",
     "text": [
      "[ 0  2  4  6  8 10 12 14 16 18 20 22 24 26 28]\n"
     ]
    }
   ],
   "source": [
    "arange_array = np.arange(0, 30, 2)\n",
    "print(arange_array)"
   ]
  },
  {
   "cell_type": "markdown",
   "id": "8b67a961-693f-4cbf-bb6b-d5d8ae51f0ce",
   "metadata": {},
   "source": [
    "### 6. Creating an array of evenly spaced values using the **linspace()** function"
   ]
  },
  {
   "cell_type": "code",
   "execution_count": 21,
   "id": "17e5a24d-cdbc-414f-adc9-1fe36e563a2d",
   "metadata": {},
   "outputs": [
    {
     "name": "stdout",
     "output_type": "stream",
     "text": [
      "[  0.  25.  50.  75. 100.]\n"
     ]
    }
   ],
   "source": [
    "linspace_array = np.linspace(0, 100, 5) \n",
    "print(linspace_array)"
   ]
  },
  {
   "cell_type": "markdown",
   "id": "bc79c854-839b-43fa-aaed-9ad8ba2d8fbf",
   "metadata": {},
   "source": [
    "### 7. Creating an identity matrix using the **eye()** function"
   ]
  },
  {
   "cell_type": "code",
   "execution_count": 25,
   "id": "dcb8eff4-4c5e-4e21-a088-ddc38a5be788",
   "metadata": {},
   "outputs": [
    {
     "name": "stdout",
     "output_type": "stream",
     "text": [
      "[[1. 0. 0.]\n",
      " [0. 1. 0.]\n",
      " [0. 0. 1.]]\n"
     ]
    }
   ],
   "source": [
    "identity_matrix = np.eye(3) \n",
    "print(identity_matrix)"
   ]
  },
  {
   "cell_type": "markdown",
   "id": "a1ccced1-85e5-4a91-94e2-2c8beee136fc",
   "metadata": {
    "jp-MarkdownHeadingCollapsed": true,
    "tags": []
   },
   "source": [
    "#### Example\n",
    "- Given the grade data of 10 students, create a code using NumPy that calculates and reports their\n",
    "grade average"
   ]
  },
  {
   "cell_type": "code",
   "execution_count": 28,
   "id": "996dc533-ee8c-4efc-857b-8a364ff1005a",
   "metadata": {},
   "outputs": [],
   "source": [
    "names = ['Alice', 'Bob', 'Charlie', 'David', 'Eve', 'Frank', 'Grace', 'Harry', 'Ivy', 'Jack']\n",
    "\n",
    "math_grades = [75, 80, 65, 25, 65, 45, 85, 80, 90, 88]\n",
    "algebra_grades = [70, 80, 75, 60, 80, 85, 90, 75, 80, 85]\n",
    "ml_grades = [85, 90, 80, 75, 95, 80, 85, 90, 90, 85]"
   ]
  },
  {
   "cell_type": "code",
   "execution_count": 30,
   "id": "8bae2674-af02-4693-92f1-401915a0038b",
   "metadata": {},
   "outputs": [
    {
     "name": "stdout",
     "output_type": "stream",
     "text": [
      "[76.66666667 83.33333333 73.33333333 53.33333333 80.         70.\n",
      " 86.66666667 81.66666667 86.66666667 86.        ]\n"
     ]
    }
   ],
   "source": [
    "avg_grades = np.zeros(10)\n",
    "\n",
    "for i, name in enumerate(names):\n",
    "    avg_grades[i] = np.mean([math_grades[i], algebra_grades[i], ml_grades[i]])\n",
    "    \n",
    "print(avg_grades)"
   ]
  },
  {
   "cell_type": "code",
   "execution_count": 35,
   "id": "68763d1b-fb45-445c-a457-371986527be0",
   "metadata": {},
   "outputs": [
    {
     "name": "stdout",
     "output_type": "stream",
     "text": [
      "Average for Alice is: 76.66666666666667\n",
      "Average for Bob is: 83.33333333333333\n",
      "Average for Charlie is: 73.33333333333333\n",
      "Average for David is: 53.333333333333336\n",
      "Average for Eve is: 80.0\n",
      "Average for Frank is: 70.0\n",
      "Average for Grace is: 86.66666666666667\n",
      "Average for Harry is: 81.66666666666667\n",
      "Average for Ivy is: 86.66666666666667\n",
      "Average for Jack is: 86.0\n"
     ]
    }
   ],
   "source": [
    "# better-looking code\n",
    "\n",
    "for i, name in enumerate(names):\n",
    "    print(f'Average for {name} is: {avg_grades[i]}')"
   ]
  },
  {
   "cell_type": "markdown",
   "id": "dc058ee9-551d-44f7-b387-f45ad2d6e660",
   "metadata": {
    "jp-MarkdownHeadingCollapsed": true,
    "tags": []
   },
   "source": [
    "#### Example \n",
    "use **np.linspace()** to create solution for *Quadratic Equation*"
   ]
  },
  {
   "cell_type": "markdown",
   "id": "36557004-07d2-4f1d-b067-1ea79e192f9c",
   "metadata": {},
   "source": [
    "f(x) = ax^2 + bx + c\n",
    "\n",
    "- where a, b, and c are constants, and x is the variable. \n",
    "- The graph of a quadratic function is a parabola, which can open upward or downward depending on the sign of a.\n",
    "\n",
    "For example, the quadratic function:\n",
    "\n",
    "- x^2 + 5x + 6 = 0"
   ]
  },
  {
   "attachments": {
    "822ff32d-84bc-4dee-a1af-b534ce9a8208.png": {
     "image/png": "[encoded data removed]"
    }
   },
   "cell_type": "markdown",
   "id": "8543e038-1fe8-4c7d-8a63-9d14fb070b6a",
   "metadata": {},
   "source": [
    "![image.png](attachment:822ff32d-84bc-4dee-a1af-b534ce9a8208.png)"
   ]
  },
  {
   "cell_type": "code",
   "execution_count": 49,
   "id": "18f6517f-085c-40da-b7a2-942660ef752d",
   "metadata": {},
   "outputs": [
    {
     "name": "stdout",
     "output_type": "stream",
     "text": [
      "found a possible answer is -3.0\n",
      "found a possible answer is -2.0\n"
     ]
    }
   ],
   "source": [
    "candidates = np.linspace(-10, 10, 4001)\n",
    "\n",
    "for c in candidates:\n",
    "    if (c**2 + 5*c + 6 == 0):\n",
    "        print(f'found a possible answer is {c}')"
   ]
  },
  {
   "cell_type": "code",
   "execution_count": 42,
   "id": "eedff1b9-36f2-4d1c-b1d1-d69a44ae2b08",
   "metadata": {},
   "outputs": [
    {
     "data": {
      "text/plain": [
       "array([-10.        ,  -9.59183673,  -9.18367347,  -8.7755102 ,\n",
       "        -8.36734694,  -7.95918367,  -7.55102041,  -7.14285714,\n",
       "        -6.73469388,  -6.32653061,  -5.91836735,  -5.51020408,\n",
       "        -5.10204082,  -4.69387755,  -4.28571429,  -3.87755102,\n",
       "        -3.46938776,  -3.06122449,  -2.65306122,  -2.24489796,\n",
       "        -1.83673469,  -1.42857143,  -1.02040816,  -0.6122449 ,\n",
       "        -0.20408163,   0.20408163,   0.6122449 ,   1.02040816,\n",
       "         1.42857143,   1.83673469,   2.24489796,   2.65306122,\n",
       "         3.06122449,   3.46938776,   3.87755102,   4.28571429,\n",
       "         4.69387755,   5.10204082,   5.51020408,   5.91836735,\n",
       "         6.32653061,   6.73469388,   7.14285714,   7.55102041,\n",
       "         7.95918367,   8.36734694,   8.7755102 ,   9.18367347,\n",
       "         9.59183673,  10.        ])"
      ]
     },
     "execution_count": 42,
     "metadata": {},
     "output_type": "execute_result"
    }
   ],
   "source": [
    "candidates"
   ]
  },
  {
   "cell_type": "markdown",
   "id": "bb924856-3df7-42f0-801e-11c34edccef0",
   "metadata": {
    "jp-MarkdownHeadingCollapsed": true,
    "tags": []
   },
   "source": [
    "## Indexing and slicing"
   ]
  },
  {
   "cell_type": "markdown",
   "id": "c2e45cab-3ece-49c5-bfa8-0b28cbc5a164",
   "metadata": {},
   "source": [
    "Indexing:\n",
    "\n",
    "- NumPy arrays can be indexed using integers, which refer to the position of the element in the array.\n",
    "- Indexing in NumPy is zero-based, meaning the first element of an array has an index of 0.\n",
    "- You can use square brackets *[]* to index an array. \n",
    "- You can also use negative indices to index from the end of the array.\n",
    "- You can index a multi-dimensional array by specifying the indices for each dimension separated by commas."
   ]
  },
  {
   "cell_type": "markdown",
   "id": "7a27a51d-3d3b-4dcd-9377-98b757b06ed5",
   "metadata": {},
   "source": [
    "Slicing:\n",
    "\n",
    "- NumPy arrays can also be sliced, which means extracting a portion of the array.\n",
    "- Slicing in NumPy is specified using the : operator. \n",
    "- You can also use negative indices for slicing. \n",
    "- You can slice a multi-dimensional array by specifying the slice for each dimension separated by commas."
   ]
  },
  {
   "cell_type": "markdown",
   "id": "56565015-093a-4a0b-b6b5-95d068a8202b",
   "metadata": {
    "tags": []
   },
   "source": [
    "## Operations"
   ]
  },
  {
   "cell_type": "markdown",
   "id": "773ef733-f3cd-4a73-a8e5-020142df25e3",
   "metadata": {},
   "source": [
    "### 1. Basic mathematical operations:"
   ]
  },
  {
   "cell_type": "markdown",
   "id": "9bbb3a63-861a-4dac-9330-712d4dc264cc",
   "metadata": {},
   "source": [
    "- Addition (+), \n",
    "- subtraction (-)\n",
    "- multiplication (*)\n",
    "- division (/)\n",
    "- modulus (%) \n",
    "- can be performed on arrays element-wise"
   ]
  },
  {
   "cell_type": "code",
   "execution_count": 52,
   "id": "61f69fa5-51b9-4298-bf13-ea5a624c4ef7",
   "metadata": {},
   "outputs": [],
   "source": [
    "a = np.array([1, 2, 3]) \n",
    "b = np.array([4, 5, 6])"
   ]
  },
  {
   "cell_type": "code",
   "execution_count": 54,
   "id": "1e5d4489-8171-4972-9250-101a39cd22bf",
   "metadata": {},
   "outputs": [
    {
     "name": "stdout",
     "output_type": "stream",
     "text": [
      "[5 7 9]\n",
      "[-3 -3 -3]\n",
      "[ 4 10 18]\n",
      "[0.25 0.4  0.5 ]\n",
      "[1 2 3]\n"
     ]
    }
   ],
   "source": [
    "print(a + b)\n",
    "print(a - b)\n",
    "print(a * b)\n",
    "print(a / b)\n",
    "print(a % b)"
   ]
  },
  {
   "cell_type": "markdown",
   "id": "a25509fa-50a2-4805-ac29-4334b4e5db9b",
   "metadata": {},
   "source": [
    "### 2. Trigonometric functions:"
   ]
  },
  {
   "cell_type": "markdown",
   "id": "b8293333-f3f6-4222-a0c1-243183001898",
   "metadata": {},
   "source": [
    "- sin())\n",
    "- cosine (cos()) \n",
    "- tangent (tan()"
   ]
  },
  {
   "cell_type": "code",
   "execution_count": 55,
   "id": "634d4457-6d37-49f1-a28b-88f292d6d9c8",
   "metadata": {},
   "outputs": [
    {
     "data": {
      "text/plain": [
       "array([0.84147098, 0.90929743, 0.14112001])"
      ]
     },
     "execution_count": 55,
     "metadata": {},
     "output_type": "execute_result"
    }
   ],
   "source": [
    "np.sin(a)"
   ]
  },
  {
   "cell_type": "markdown",
   "id": "8b9d495b-5d83-499f-8b98-d6ab3b7386f3",
   "metadata": {},
   "source": [
    "### 3. Exponential and logarithmic functions:"
   ]
  },
  {
   "cell_type": "markdown",
   "id": "7de92685-c239-4dba-8387-86b3a93cf4ca",
   "metadata": {},
   "source": [
    "- exp() and logarithmic functions:\n",
    "- natural logarithm (log())\n",
    "- base-10 logarithm (log10())"
   ]
  },
  {
   "cell_type": "code",
   "execution_count": 56,
   "id": "06aecb37-3c24-408c-b92b-f85271517fd8",
   "metadata": {},
   "outputs": [
    {
     "data": {
      "text/plain": [
       "array([ 2.71828183,  7.3890561 , 20.08553692])"
      ]
     },
     "execution_count": 56,
     "metadata": {},
     "output_type": "execute_result"
    }
   ],
   "source": [
    "np.exp(a)"
   ]
  },
  {
   "cell_type": "code",
   "execution_count": 57,
   "id": "6bd242e6-e5f1-47ac-8226-708d4ec55125",
   "metadata": {},
   "outputs": [
    {
     "data": {
      "text/plain": [
       "2.0"
      ]
     },
     "execution_count": 57,
     "metadata": {},
     "output_type": "execute_result"
    }
   ],
   "source": [
    "np.mean(a)"
   ]
  },
  {
   "cell_type": "markdown",
   "id": "26184942-6b4e-4a86-b560-ef0f69ffea35",
   "metadata": {},
   "source": [
    "### 4. Linear algebra operations"
   ]
  },
  {
   "cell_type": "markdown",
   "id": "9700a1bb-7019-4aa1-aa55-5a941cee1696",
   "metadata": {},
   "source": [
    "- matrix multiplication (dot()), matrix inversion (inv())\n",
    "- eigenvalue decomposition (eig())"
   ]
  },
  {
   "cell_type": "code",
   "execution_count": 59,
   "id": "a2ab07f9-d405-4601-b72f-0bf172bafdb6",
   "metadata": {},
   "outputs": [
    {
     "data": {
      "text/plain": [
       "32"
      ]
     },
     "execution_count": 59,
     "metadata": {},
     "output_type": "execute_result"
    }
   ],
   "source": [
    "np.dot(a, b)"
   ]
  },
  {
   "cell_type": "markdown",
   "id": "593b1291-d4bf-404f-a3e2-6be870e575bb",
   "metadata": {
    "tags": []
   },
   "source": [
    "### 5. Statistical functions"
   ]
  },
  {
   "cell_type": "markdown",
   "id": "08b93592-c21d-4aec-b837-6c80b7d341e0",
   "metadata": {},
   "source": [
    "- mean(np.mean())\n",
    "- median (np.median())\n",
    "- standard deviation (np.std())\n",
    "- and variance (np.var())\n",
    "- np.sum()\n",
    "- np.min()\n",
    "- np.max()"
   ]
  },
  {
   "cell_type": "markdown",
   "id": "325c6e2b-340d-4fd2-8a15-4cec4df5fb7e",
   "metadata": {
    "tags": []
   },
   "source": [
    "#### Axis"
   ]
  },
  {
   "cell_type": "markdown",
   "id": "246014f4-ce7d-4878-9a36-51387aafe5ce",
   "metadata": {},
   "source": [
    "These functions can be applied to multi-dimensional arrays as well, where they will perform the aggregation operation across all dimensions or along a specific dimension, depending on the **axis argument**."
   ]
  },
  {
   "cell_type": "markdown",
   "id": "502f9e7c-9452-441e-93d5-e4a32aae1003",
   "metadata": {
    "tags": []
   },
   "source": [
    "#### **None**: This value is used when performing an operation that does not require a specific axis. \n",
    "- For example, when computing the sum of all elements in **an array** using **np.sum()**, you can use **axis=None** or omit the axis parameter altogether."
   ]
  },
  {
   "cell_type": "code",
   "execution_count": 60,
   "id": "c39564e7-e84e-49e0-b4c7-43175fd73fd7",
   "metadata": {},
   "outputs": [
    {
     "data": {
      "text/plain": [
       "15"
      ]
     },
     "execution_count": 60,
     "metadata": {},
     "output_type": "execute_result"
    }
   ],
   "source": [
    "np.sum(b)"
   ]
  },
  {
   "cell_type": "markdown",
   "id": "cee69229-1a77-4d0e-ab60-3ad31dacbf6c",
   "metadata": {},
   "source": [
    "#### 0: This value is used to specify the operation is performed along the **vertical axis** (i.e., for each column). \n",
    "For example, when computing the sum of each column of a 2D array using np.sum(), you can use axis=0."
   ]
  },
  {
   "cell_type": "code",
   "execution_count": 65,
   "id": "4f1d6322-b162-42d1-93ef-24cddeb0f11b",
   "metadata": {},
   "outputs": [
    {
     "name": "stdout",
     "output_type": "stream",
     "text": [
      "[5 7 9]\n"
     ]
    }
   ],
   "source": [
    "arr = np.array([[1, 2, 3],\n",
    "                [4, 5, 6]])\n",
    "\n",
    "\n",
    "sum_along_axis0 = np.sum(arr, axis=0)\n",
    "print(sum_along_axis0)"
   ]
  },
  {
   "cell_type": "markdown",
   "id": "6bb1b2ce-1c27-47a2-9dd6-de42eca21469",
   "metadata": {},
   "source": [
    "#### 1: This value is used to specify the operation is performed along the horizontal axis (i.e., for each row). \n",
    "For example, when computing the sum of each row of a **2D array using np.sum()**, you can use **axis=1**"
   ]
  },
  {
   "cell_type": "code",
   "execution_count": 66,
   "id": "2dfdadee-b622-4e53-abc4-f89f04eaa9d2",
   "metadata": {},
   "outputs": [
    {
     "name": "stdout",
     "output_type": "stream",
     "text": [
      "[ 6 15]\n"
     ]
    }
   ],
   "source": [
    "sum_along_axis1 = np.sum(arr, axis=1)\n",
    "print(sum_along_axis1)"
   ]
  },
  {
   "cell_type": "markdown",
   "id": "4e12ab14-1873-47ca-9cc0-46d331d5c690",
   "metadata": {
    "tags": []
   },
   "source": [
    "## Reshaping and Transposing"
   ]
  },
  {
   "cell_type": "markdown",
   "id": "c5b843c8-550c-4ca0-9acb-ddc37397f951",
   "metadata": {},
   "source": [
    "### reshape()"
   ]
  },
  {
   "cell_type": "code",
   "execution_count": 67,
   "id": "a30807ee-c43b-4f42-86f7-604251aca667",
   "metadata": {},
   "outputs": [
    {
     "name": "stdout",
     "output_type": "stream",
     "text": [
      "[ 1  2  3  4  5  6  7  8  9 10 11 12]\n"
     ]
    }
   ],
   "source": [
    "arr = np.arange(1, 13)\n",
    "print(arr)"
   ]
  },
  {
   "cell_type": "code",
   "execution_count": 68,
   "id": "fdcf64f0-519f-4d71-8590-81f68e97f458",
   "metadata": {},
   "outputs": [
    {
     "name": "stdout",
     "output_type": "stream",
     "text": [
      "[[ 1  2  3  4]\n",
      " [ 5  6  7  8]\n",
      " [ 9 10 11 12]]\n"
     ]
    }
   ],
   "source": [
    "reshaped = arr.reshape((3, 4))\n",
    "print(reshaped)"
   ]
  },
  {
   "cell_type": "markdown",
   "id": "ae764317-9139-40c0-a8f8-b076209ec802",
   "metadata": {},
   "source": [
    "### transpose()"
   ]
  },
  {
   "cell_type": "code",
   "execution_count": 69,
   "id": "c09361e2-b615-4299-8e3c-3427548f1030",
   "metadata": {},
   "outputs": [
    {
     "name": "stdout",
     "output_type": "stream",
     "text": [
      "[[1 2]\n",
      " [3 4]]\n"
     ]
    }
   ],
   "source": [
    "arr = np.array([[1, 2], [3, 4]])\n",
    "print(arr)"
   ]
  },
  {
   "cell_type": "code",
   "execution_count": 70,
   "id": "ec4262ad-7a84-4434-9bfe-fec18ec11f8f",
   "metadata": {},
   "outputs": [
    {
     "name": "stdout",
     "output_type": "stream",
     "text": [
      "[[1 3]\n",
      " [2 4]]\n"
     ]
    }
   ],
   "source": [
    "transposed = arr.transpose()\n",
    "print(transposed)"
   ]
  },
  {
   "cell_type": "markdown",
   "id": "d6ebab00-7cfe-40fe-9892-806c38d0d192",
   "metadata": {
    "jp-MarkdownHeadingCollapsed": true,
    "tags": []
   },
   "source": [
    "## Random number generation"
   ]
  },
  {
   "cell_type": "markdown",
   "id": "08d7ee58-179e-46a0-aca4-0a29927c22dc",
   "metadata": {},
   "source": [
    "### 1. numpy.random.rand()"
   ]
  },
  {
   "cell_type": "markdown",
   "id": "cadce38d-1956-477e-a2bf-07c3b241263c",
   "metadata": {},
   "source": [
    "- returns an array of random numbers between 0 and 1"
   ]
  },
  {
   "cell_type": "markdown",
   "id": "83b900d8-ee5d-4c8c-b37d-a263803ccb50",
   "metadata": {
    "jp-MarkdownHeadingCollapsed": true,
    "tags": []
   },
   "source": [
    "### 2. numpy.random.randn()"
   ]
  },
  {
   "cell_type": "markdown",
   "id": "3a924ae0-24eb-44d7-9bfe-3f103f76a2f5",
   "metadata": {},
   "source": [
    "- returns an array of random numbers from a standard normal distribution with the specified shape."
   ]
  },
  {
   "cell_type": "code",
   "execution_count": 3,
   "id": "53eff74e-f929-458e-81f4-b1c6187c0102",
   "metadata": {},
   "outputs": [
    {
     "name": "stdout",
     "output_type": "stream",
     "text": [
      "[[3 8]\n",
      " [4 1]\n",
      " [5 3]]\n"
     ]
    }
   ],
   "source": [
    "randint_arr = np.random.randint(1, 10, size=(3, 2))\n",
    "print(randint_arr)"
   ]
  },
  {
   "cell_type": "markdown",
   "id": "bc58a94e-d4af-4722-bd02-63c5287e59a4",
   "metadata": {
    "jp-MarkdownHeadingCollapsed": true,
    "tags": []
   },
   "source": [
    "### 3. numpy.random.randint()"
   ]
  },
  {
   "cell_type": "markdown",
   "id": "d8cbb428-ba14-400b-bd36-7be9037b32cc",
   "metadata": {},
   "source": [
    "- returns an array of random integers between the specified range with the specified shape."
   ]
  },
  {
   "cell_type": "code",
   "execution_count": null,
   "id": "07ca2116-1521-4f35-9448-c9af4fa27d38",
   "metadata": {},
   "outputs": [],
   "source": [
    "randint_arr = np.random.randint(1, 10, size=(3, 2))\n",
    "print(randint_arr)"
   ]
  },
  {
   "cell_type": "markdown",
   "id": "26e48e28-fafa-41ec-9e43-ca4517cb45c0",
   "metadata": {
    "jp-MarkdownHeadingCollapsed": true,
    "tags": []
   },
   "source": [
    "### 4. numpy.random.choice()"
   ]
  },
  {
   "cell_type": "markdown",
   "id": "57397fef-6598-4c5d-ae63-d0ff76388dd6",
   "metadata": {},
   "source": [
    "- returns a random element from a given array or sequence."
   ]
  },
  {
   "cell_type": "code",
   "execution_count": 4,
   "id": "decf5a2b-ffe0-4760-a333-a47874fccb53",
   "metadata": {},
   "outputs": [
    {
     "name": "stdout",
     "output_type": "stream",
     "text": [
      "2\n"
     ]
    }
   ],
   "source": [
    "arr = np.array([1, 2, 3, 4, 5])\n",
    "random_choice = np.random.choice(arr)\n",
    "print(random_choice)"
   ]
  },
  {
   "cell_type": "markdown",
   "id": "a2294988-3c5d-459c-9dc4-8fa1f1a1ada1",
   "metadata": {
    "tags": []
   },
   "source": [
    "### 5. numpy.random.shuffle()"
   ]
  },
  {
   "cell_type": "markdown",
   "id": "671bd084-b06a-4516-bd3c-253afb3b40e2",
   "metadata": {},
   "source": [
    "- shuffles the elements of an array in place."
   ]
  },
  {
   "cell_type": "code",
   "execution_count": 5,
   "id": "2e354972-fd6c-43c9-bbc3-9c0d070c66de",
   "metadata": {},
   "outputs": [
    {
     "name": "stdout",
     "output_type": "stream",
     "text": [
      "[4 5 2 1 3]\n"
     ]
    }
   ],
   "source": [
    "arr = np.array([1, 2, 3, 4, 5])\n",
    "np.random.shuffle(arr)\n",
    "print(arr)"
   ]
  }
 ],
 "metadata": {
  "kernelspec": {
   "display_name": "Python 3 (ipykernel)",
   "language": "python",
   "name": "python3"
  },
  "language_info": {
   "codemirror_mode": {
    "name": "ipython",
    "version": 3
   },
   "file_extension": ".py",
   "mimetype": "text/x-python",
   "name": "python",
   "nbconvert_exporter": "python",
   "pygments_lexer": "ipython3",
   "version": "3.9.12"
  }
 },
 "nbformat": 4,
 "nbformat_minor": 5
}
