{
 "cells": [
  {
   "cell_type": "markdown",
   "id": "5eb1b1df-77f5-447f-a79c-68e0e252be83",
   "metadata": {
    "jp-MarkdownHeadingCollapsed": true,
    "tags": []
   },
   "source": [
    "# Session_0: Variables"
   ]
  },
  {
   "cell_type": "markdown",
   "id": "9e25dc69-fd03-4ee6-bd0f-a54b7bae26bb",
   "metadata": {
    "tags": []
   },
   "source": [
    "## 1. Variables"
   ]
  },
  {
   "cell_type": "markdown",
   "id": "2fba104b-bdd6-4346-9807-fdc220505c62",
   "metadata": {},
   "source": [
    "### int"
   ]
  },
  {
   "cell_type": "code",
   "execution_count": 1,
   "id": "9b64f2e9-57f7-452f-a37a-704879bd2806",
   "metadata": {},
   "outputs": [
    {
     "data": {
      "text/plain": [
       "int"
      ]
     },
     "execution_count": 1,
     "metadata": {},
     "output_type": "execute_result"
    }
   ],
   "source": [
    "a = 20\n",
    "type(a)"
   ]
  },
  {
   "cell_type": "markdown",
   "id": "b74d904b-e779-4c74-a87b-9a685df29433",
   "metadata": {},
   "source": [
    "### float"
   ]
  },
  {
   "cell_type": "code",
   "execution_count": 2,
   "id": "4247c52e-646d-4f32-bdf3-20fcebd524f8",
   "metadata": {},
   "outputs": [
    {
     "data": {
      "text/plain": [
       "float"
      ]
     },
     "execution_count": 2,
     "metadata": {},
     "output_type": "execute_result"
    }
   ],
   "source": [
    "b = 3.14\n",
    "type(b)"
   ]
  },
  {
   "cell_type": "markdown",
   "id": "017e56de-9e05-4964-8b59-09b4a2cf16b8",
   "metadata": {},
   "source": [
    "### boolean"
   ]
  },
  {
   "cell_type": "code",
   "execution_count": 3,
   "id": "74dc2dda-61b3-4fc5-b052-4ba1f094ae5f",
   "metadata": {},
   "outputs": [
    {
     "data": {
      "text/plain": [
       "bool"
      ]
     },
     "execution_count": 3,
     "metadata": {},
     "output_type": "execute_result"
    }
   ],
   "source": [
    "c = True\n",
    "type(c)"
   ]
  },
  {
   "cell_type": "markdown",
   "id": "1a06680e-3a35-4ac7-9a51-ca6c4ac01d7e",
   "metadata": {},
   "source": [
    "### string"
   ]
  },
  {
   "cell_type": "code",
   "execution_count": 4,
   "id": "4bd1cb34-046e-4a9d-8dc4-8b48c26b7757",
   "metadata": {},
   "outputs": [
    {
     "data": {
      "text/plain": [
       "str"
      ]
     },
     "execution_count": 4,
     "metadata": {},
     "output_type": "execute_result"
    }
   ],
   "source": [
    "s = 'hello'\n",
    "S = \"hello\"\n",
    "type(s)"
   ]
  },
  {
   "cell_type": "markdown",
   "id": "9d9b1d93-19e6-4457-95f9-22052b0f1f00",
   "metadata": {},
   "source": [
    "### Variable rules"
   ]
  },
  {
   "cell_type": "markdown",
   "id": "841f4276-4b04-4965-9b11-a5bd882a8ea7",
   "metadata": {},
   "source": [
    "- A variable name must start with a letter or the underscore character\n",
    "- A variable name cannot start with a number\n",
    "- A variable name can only contain alpha-numeric characters and underscores (A-z, 0-9, and _ )\n",
    "- Variable names are case-sensitive (age, Age and AGE are three different variables)\n",
    "- Use keyword is illegal for name a variable"
   ]
  },
  {
   "cell_type": "markdown",
   "id": "33658066-8497-4b2c-8ae9-520c10fe88e7",
   "metadata": {},
   "source": [
    "#### Legal variable names:"
   ]
  },
  {
   "cell_type": "code",
   "execution_count": 5,
   "id": "92be2d83-632a-427d-af58-5c3163e5c579",
   "metadata": {},
   "outputs": [],
   "source": [
    "myvar = \"Python\"\n",
    "my_var = \"Python\"\n",
    "_my_var = \"Python\"\n",
    "MYVAR = \"Python\""
   ]
  },
  {
   "cell_type": "markdown",
   "id": "2313022d-589b-4ed9-a770-6672e87043e1",
   "metadata": {},
   "source": [
    "#### Illegal variable names:"
   ]
  },
  {
   "cell_type": "code",
   "execution_count": 6,
   "id": "8eeabaf6-8032-4984-b6aa-ae137315a360",
   "metadata": {},
   "outputs": [
    {
     "ename": "SyntaxError",
     "evalue": "invalid syntax (767463159.py, line 3)",
     "output_type": "error",
     "traceback": [
      "\u001b[1;36m  Input \u001b[1;32mIn [6]\u001b[1;36m\u001b[0m\n\u001b[1;33m    my var = \"Python\"\u001b[0m\n\u001b[1;37m       ^\u001b[0m\n\u001b[1;31mSyntaxError\u001b[0m\u001b[1;31m:\u001b[0m invalid syntax\n"
     ]
    }
   ],
   "source": [
    "# 2myvar = \"Python\"\n",
    "# my-var = \"Python\"\n",
    "my var = \"Python\"\n",
    "my@var = 5."
   ]
  },
  {
   "cell_type": "markdown",
   "id": "d2c4efc3-b80c-49a0-a954-08f7b657e737",
   "metadata": {},
   "source": [
    "#### How to see Keywords"
   ]
  },
  {
   "cell_type": "code",
   "execution_count": null,
   "id": "275f7625-19f9-4255-91ff-486c532a3f78",
   "metadata": {},
   "outputs": [],
   "source": [
    "help(\"keywords\")"
   ]
  },
  {
   "cell_type": "markdown",
   "id": "86763477-8400-438d-a6da-175ce56e490d",
   "metadata": {
    "tags": []
   },
   "source": [
    "#### Variable types"
   ]
  },
  {
   "cell_type": "code",
   "execution_count": null,
   "id": "f989d51f-1178-462a-a58a-2aa9ade56940",
   "metadata": {},
   "outputs": [],
   "source": [
    "a = 2\n",
    "b = 3.\n",
    "c = 'ML'\n",
    "d = True"
   ]
  },
  {
   "cell_type": "code",
   "execution_count": null,
   "id": "964943e2-a7ff-4977-863a-9f17c4487f07",
   "metadata": {},
   "outputs": [],
   "source": [
    "type(a), type(b), type(c), type(d)"
   ]
  },
  {
   "cell_type": "markdown",
   "id": "7788ea5d-60e4-49d3-ac75-42cc3bc6ce06",
   "metadata": {},
   "source": [
    "##### convert type"
   ]
  },
  {
   "cell_type": "code",
   "execution_count": null,
   "id": "cb8c1fb6-4ec2-4507-aa18-8582750856bf",
   "metadata": {},
   "outputs": [],
   "source": [
    "a = 20\n",
    "print(a, type(a))\n",
    "\n",
    "a_f = float(a)\n",
    "type(a_f)"
   ]
  },
  {
   "cell_type": "code",
   "execution_count": null,
   "id": "aefaadaf-abd5-43fe-b7fd-56c233d44178",
   "metadata": {},
   "outputs": [],
   "source": [
    "b = 10.15\n",
    "\n",
    "c = int(b)\n",
    "type(c)\n",
    "c"
   ]
  },
  {
   "cell_type": "code",
   "execution_count": null,
   "id": "860c0846-7a89-4f63-bbc1-eba34fdf9f67",
   "metadata": {},
   "outputs": [],
   "source": [
    "a = 3.1\n",
    "type(a)\n",
    "\n",
    "str_a = str(a)\n",
    "str_a\n",
    "type(str_a)"
   ]
  },
  {
   "cell_type": "code",
   "execution_count": null,
   "id": "d93a85d3-8a10-46b9-bff4-57a0721ac50c",
   "metadata": {},
   "outputs": [],
   "source": [
    "a = 0\n",
    "type(a)\n",
    "\n",
    "a_bool = bool(a)\n",
    "type(a_bool)"
   ]
  },
  {
   "cell_type": "markdown",
   "id": "df63e530-ff1a-492e-b07d-c65723342d00",
   "metadata": {
    "tags": []
   },
   "source": [
    "## write in other modes"
   ]
  },
  {
   "cell_type": "markdown",
   "id": "3402d396-8118-4985-94d8-57b2acaedeec",
   "metadata": {},
   "source": [
    "### binary mode"
   ]
  },
  {
   "cell_type": "code",
   "execution_count": null,
   "id": "4391b71b-5f68-4ad3-b6e3-dd5061f24f3a",
   "metadata": {},
   "outputs": [],
   "source": [
    "x = 0b0101101\n",
    "print(x)\n",
    "\n",
    "print(bin(45))"
   ]
  },
  {
   "cell_type": "markdown",
   "id": "216a1074-48aa-4307-9437-205d925a4dfe",
   "metadata": {},
   "source": [
    "### write in octal mode"
   ]
  },
  {
   "cell_type": "code",
   "execution_count": null,
   "id": "fe2d7c9b-c671-464e-b1cd-f57e73679cf9",
   "metadata": {},
   "outputs": [],
   "source": [
    "x = 0o436\n",
    "print(x)\n",
    "\n",
    "print(oct(286))"
   ]
  },
  {
   "cell_type": "markdown",
   "id": "246a355a-1ed7-476d-93a9-3a216ba0523c",
   "metadata": {},
   "source": [
    "### write in hexadecimal mode,"
   ]
  },
  {
   "cell_type": "code",
   "execution_count": null,
   "id": "67861c78-eb4c-4678-a92e-0e69cb296378",
   "metadata": {},
   "outputs": [],
   "source": [
    "y = 0xa320\n",
    "y\n",
    "\n",
    "hex(41760)"
   ]
  },
  {
   "cell_type": "markdown",
   "id": "eb74748a-7fdf-47c7-887d-72aaf140bebc",
   "metadata": {
    "tags": []
   },
   "source": [
    "## Style code"
   ]
  },
  {
   "cell_type": "code",
   "execution_count": null,
   "id": "7158a718-0e00-46f1-a301-8c7d4cd0b6f9",
   "metadata": {},
   "outputs": [],
   "source": [
    "# PEP 20"
   ]
  },
  {
   "cell_type": "code",
   "execution_count": null,
   "id": "58007d3b-6580-432c-a50e-1744f9f5f130",
   "metadata": {},
   "outputs": [],
   "source": [
    "import this"
   ]
  },
  {
   "cell_type": "markdown",
   "id": "3828f1c8-0768-4b57-88ab-4998e06f2d22",
   "metadata": {},
   "source": [
    "## Copy and Deep copy"
   ]
  },
  {
   "cell_type": "markdown",
   "id": "b54b74e9-1080-45af-91a3-add3ff4a3372",
   "metadata": {},
   "source": [
    "### copy"
   ]
  },
  {
   "cell_type": "code",
   "execution_count": null,
   "id": "afaf24b5-6b91-4b93-a4a9-0190c0f19b9e",
   "metadata": {},
   "outputs": [],
   "source": [
    "li = [1, 2, [5, 8]]\n",
    "type(li)"
   ]
  },
  {
   "cell_type": "code",
   "execution_count": null,
   "id": "a74fa287-86d3-4b74-b23a-45134c49d9f9",
   "metadata": {},
   "outputs": [],
   "source": [
    "l1 = [1, 2, ['a', 'b']]\n",
    "\n",
    "l2 = l1.copy()\n",
    "\n",
    "l2[2][1] = 'z'\n",
    "\n",
    "print('l1 value:', l1)\n",
    "print('l2 value:', l2)"
   ]
  },
  {
   "cell_type": "markdown",
   "id": "0eda52f2-389c-40f5-be31-11381406fc78",
   "metadata": {},
   "source": [
    "### deepcopy"
   ]
  },
  {
   "cell_type": "code",
   "execution_count": null,
   "id": "5f995c18-b20f-4fa5-b976-c6b43981d7e1",
   "metadata": {},
   "outputs": [],
   "source": [
    "import copy\n",
    "\n",
    "l1 = [1, 2, ['a', 'b']]\n",
    "l2 = copy.deepcopy(l1)  # deepcopy\n",
    "\n",
    "l2[2][1] = 'z'  # in deepcopy if we change nested lists, it implies correctly\n",
    "print('l1:', l1)\n",
    "print('l2:', l2)"
   ]
  },
  {
   "cell_type": "markdown",
   "id": "f79d4781-4bbb-4eb2-a7bd-3dbef631f6ee",
   "metadata": {
    "jp-MarkdownHeadingCollapsed": true,
    "tags": []
   },
   "source": [
    "# Session_1: Operators"
   ]
  },
  {
   "cell_type": "markdown",
   "id": "d28e2b5d-7a99-45d5-9fb7-edc6d8a1e600",
   "metadata": {},
   "source": [
    "In Python, operators are special symbols or keywords that perform operations on values or variables. Some of the common types of operators in Python include:"
   ]
  },
  {
   "cell_type": "code",
   "execution_count": 2,
   "id": "c39732c4-7c57-445e-92f2-4fd4d8023cd6",
   "metadata": {},
   "outputs": [],
   "source": [
    "a = 5\n",
    "b = 2"
   ]
  },
  {
   "cell_type": "markdown",
   "id": "0a2c8f1f-7a12-499b-9906-a743124e59cb",
   "metadata": {
    "tags": []
   },
   "source": [
    "## 1. Arithmetic Operators"
   ]
  },
  {
   "cell_type": "markdown",
   "id": "defad29a-24e6-4b62-b880-5e608964cd12",
   "metadata": {},
   "source": [
    "### addition"
   ]
  },
  {
   "cell_type": "code",
   "execution_count": 3,
   "id": "a3c77945-1251-42f9-90ab-61d65e0a1e57",
   "metadata": {},
   "outputs": [
    {
     "name": "stdout",
     "output_type": "stream",
     "text": [
      "abde\n",
      "deab\n"
     ]
    }
   ],
   "source": [
    "a = 20\n",
    "b = 30\n",
    "\n",
    "d = 'ab'\n",
    "e = 'de'\n",
    "f = d + e\n",
    "print(f)\n",
    "\n",
    "g = e + d\n",
    "print(g)"
   ]
  },
  {
   "cell_type": "markdown",
   "id": "be17fc2c-0430-484e-bdc7-8028663a9029",
   "metadata": {},
   "source": [
    "### subtraction"
   ]
  },
  {
   "cell_type": "code",
   "execution_count": 4,
   "id": "3cbf435a-2685-4e30-b2e2-590f7a1fab32",
   "metadata": {},
   "outputs": [
    {
     "data": {
      "text/plain": [
       "-10"
      ]
     },
     "execution_count": 4,
     "metadata": {},
     "output_type": "execute_result"
    }
   ],
   "source": [
    "a - b"
   ]
  },
  {
   "cell_type": "markdown",
   "id": "4884e8f4-3354-4713-b240-7757862a8f72",
   "metadata": {},
   "source": [
    "### multiplication"
   ]
  },
  {
   "cell_type": "code",
   "execution_count": 5,
   "id": "8d75f8fc-78e7-4fe3-802e-3b9ccf20fdb4",
   "metadata": {},
   "outputs": [
    {
     "data": {
      "text/plain": [
       "600"
      ]
     },
     "execution_count": 5,
     "metadata": {},
     "output_type": "execute_result"
    }
   ],
   "source": [
    "a * b"
   ]
  },
  {
   "cell_type": "markdown",
   "id": "de7fd2d1-e7f5-4c5a-8958-19cb5d2b00a5",
   "metadata": {},
   "source": [
    "### division"
   ]
  },
  {
   "cell_type": "code",
   "execution_count": 6,
   "id": "b8c217a1-0678-400c-b2c3-8bde4e0f20a5",
   "metadata": {},
   "outputs": [
    {
     "data": {
      "text/plain": [
       "0.6666666666666666"
      ]
     },
     "execution_count": 6,
     "metadata": {},
     "output_type": "execute_result"
    }
   ],
   "source": [
    "a / b"
   ]
  },
  {
   "cell_type": "markdown",
   "id": "8874f861-32bc-4096-982a-05f69bec1520",
   "metadata": {},
   "source": [
    "### power"
   ]
  },
  {
   "cell_type": "code",
   "execution_count": 7,
   "id": "8f79cc0f-a82a-4ab5-af3a-0a5a2ee7dc3c",
   "metadata": {},
   "outputs": [
    {
     "data": {
      "text/plain": [
       "4.47213595499958"
      ]
     },
     "execution_count": 7,
     "metadata": {},
     "output_type": "execute_result"
    }
   ],
   "source": [
    "a**0.5"
   ]
  },
  {
   "cell_type": "markdown",
   "id": "7cbf6427-409c-43e0-adb3-ad896c2ca16c",
   "metadata": {},
   "source": [
    "### remainder"
   ]
  },
  {
   "cell_type": "code",
   "execution_count": 8,
   "id": "34fc20cb-83ae-447b-bfa3-5d2c14651b4d",
   "metadata": {},
   "outputs": [
    {
     "data": {
      "text/plain": [
       "20"
      ]
     },
     "execution_count": 8,
     "metadata": {},
     "output_type": "execute_result"
    }
   ],
   "source": [
    "a % b"
   ]
  },
  {
   "cell_type": "markdown",
   "id": "65ade67d-4067-4ba5-92e9-99a5fbf0c890",
   "metadata": {},
   "source": [
    "### quo"
   ]
  },
  {
   "cell_type": "code",
   "execution_count": 9,
   "id": "43b76302-8856-4194-aa4c-4b8697e20b13",
   "metadata": {},
   "outputs": [
    {
     "data": {
      "text/plain": [
       "0"
      ]
     },
     "execution_count": 9,
     "metadata": {},
     "output_type": "execute_result"
    }
   ],
   "source": [
    "a // b"
   ]
  },
  {
   "cell_type": "markdown",
   "id": "44f19c87-87a0-419d-a14e-c1eb1f3673e8",
   "metadata": {
    "tags": []
   },
   "source": [
    "## 2. Assignment Operators"
   ]
  },
  {
   "cell_type": "markdown",
   "id": "05d86814-be43-44f3-aa6d-b25dd5e66551",
   "metadata": {},
   "source": [
    "### Simple assignment"
   ]
  },
  {
   "cell_type": "code",
   "execution_count": 10,
   "id": "6b3e3db6-ab4f-4d49-a3d2-7bbaeb876993",
   "metadata": {},
   "outputs": [],
   "source": [
    "a = a - 1"
   ]
  },
  {
   "cell_type": "markdown",
   "id": "b8405b02-0928-4632-8942-2c5f6ea94fa3",
   "metadata": {},
   "source": [
    "### Add and equal"
   ]
  },
  {
   "cell_type": "code",
   "execution_count": 11,
   "id": "5538cd91-d2c3-4111-8c07-8e4cd4798ad2",
   "metadata": {},
   "outputs": [
    {
     "data": {
      "text/plain": [
       "20"
      ]
     },
     "execution_count": 11,
     "metadata": {},
     "output_type": "execute_result"
    }
   ],
   "source": [
    "a += 1\n",
    "a"
   ]
  },
  {
   "cell_type": "markdown",
   "id": "6d125557-bbca-468b-b8f0-ee05bc1d7665",
   "metadata": {},
   "source": [
    "### subtract and equal"
   ]
  },
  {
   "cell_type": "code",
   "execution_count": 12,
   "id": "9017412f-f1d3-4bb8-a118-978e7343dd08",
   "metadata": {},
   "outputs": [],
   "source": [
    "a -= b"
   ]
  },
  {
   "cell_type": "markdown",
   "id": "a355b366-f66f-4ec6-a1c9-58c5b5e0ac12",
   "metadata": {},
   "source": [
    "### Multiply and equal"
   ]
  },
  {
   "cell_type": "code",
   "execution_count": 13,
   "id": "299ac74f-fdc3-4894-9be8-aa2412084183",
   "metadata": {},
   "outputs": [
    {
     "data": {
      "text/plain": [
       "-20"
      ]
     },
     "execution_count": 13,
     "metadata": {},
     "output_type": "execute_result"
    }
   ],
   "source": [
    "a *= 2\n",
    "a"
   ]
  },
  {
   "cell_type": "markdown",
   "id": "1f460f7b-d4d0-42c0-946a-9b895ced15ff",
   "metadata": {},
   "source": [
    "### Divide and equa"
   ]
  },
  {
   "cell_type": "code",
   "execution_count": 14,
   "id": "ada1f2f2-9378-43f9-87b6-aea9a5c20d28",
   "metadata": {},
   "outputs": [
    {
     "data": {
      "text/plain": [
       "-0.6666666666666666"
      ]
     },
     "execution_count": 14,
     "metadata": {},
     "output_type": "execute_result"
    }
   ],
   "source": [
    "a /= b\n",
    "a"
   ]
  },
  {
   "cell_type": "markdown",
   "id": "537f6f26-cf67-4e33-8396-e3e7a70d1eca",
   "metadata": {},
   "source": [
    "### Power"
   ]
  },
  {
   "cell_type": "code",
   "execution_count": 15,
   "id": "1d73fb1b-1793-452b-978f-638d01ef1b21",
   "metadata": {},
   "outputs": [
    {
     "data": {
      "text/plain": [
       "256"
      ]
     },
     "execution_count": 15,
     "metadata": {},
     "output_type": "execute_result"
    }
   ],
   "source": [
    "x = 2\n",
    "x **= 8\n",
    "x"
   ]
  },
  {
   "cell_type": "markdown",
   "id": "e5c034f8-e4c8-4153-9ed7-618602e0b0bc",
   "metadata": {
    "tags": []
   },
   "source": [
    "## 3. Comparison Operators"
   ]
  },
  {
   "cell_type": "markdown",
   "id": "83f8a788-ce37-4012-9f37-55db4fd4555b",
   "metadata": {},
   "source": [
    "- **comparison operators** are used to compare the values of two operands and return a **Boolean** value (True or False) based on the comparison result."
   ]
  },
  {
   "cell_type": "code",
   "execution_count": 16,
   "id": "e2df9557-a2b3-436e-a377-59c8ef5d243e",
   "metadata": {},
   "outputs": [],
   "source": [
    "x = 10\n",
    "y = 20"
   ]
  },
  {
   "cell_type": "markdown",
   "id": "c47998d2-ee81-48a0-b73f-87860b31f07d",
   "metadata": {},
   "source": [
    "### == (equal to)"
   ]
  },
  {
   "cell_type": "code",
   "execution_count": 17,
   "id": "284325bd-819d-422e-9c22-174cf2c5f70f",
   "metadata": {},
   "outputs": [
    {
     "data": {
      "text/plain": [
       "False"
      ]
     },
     "execution_count": 17,
     "metadata": {},
     "output_type": "execute_result"
    }
   ],
   "source": [
    "x == y"
   ]
  },
  {
   "cell_type": "markdown",
   "id": "129fd6fa-071d-4939-b143-9e49aa5331f9",
   "metadata": {},
   "source": [
    "### != (not equal to)"
   ]
  },
  {
   "cell_type": "code",
   "execution_count": 18,
   "id": "04e492e8-eb1b-4265-98e0-30f54270086d",
   "metadata": {},
   "outputs": [
    {
     "data": {
      "text/plain": [
       "True"
      ]
     },
     "execution_count": 18,
     "metadata": {},
     "output_type": "execute_result"
    }
   ],
   "source": [
    "x != y"
   ]
  },
  {
   "cell_type": "markdown",
   "id": "eb2ee9ee-ea28-4e41-9bfc-15180f6d95d6",
   "metadata": {},
   "source": [
    "### > (greater than)"
   ]
  },
  {
   "cell_type": "code",
   "execution_count": 19,
   "id": "6c580029-76d1-4580-83a8-253b86eebdd8",
   "metadata": {},
   "outputs": [
    {
     "data": {
      "text/plain": [
       "False"
      ]
     },
     "execution_count": 19,
     "metadata": {},
     "output_type": "execute_result"
    }
   ],
   "source": [
    "x > y"
   ]
  },
  {
   "cell_type": "markdown",
   "id": "f61233e8-5ac4-43b3-8c90-59ff7672c27b",
   "metadata": {},
   "source": [
    "### < (less than)"
   ]
  },
  {
   "cell_type": "code",
   "execution_count": 20,
   "id": "815885cd-4cdb-4e6d-a0af-ba9dca5c8c04",
   "metadata": {},
   "outputs": [
    {
     "data": {
      "text/plain": [
       "True"
      ]
     },
     "execution_count": 20,
     "metadata": {},
     "output_type": "execute_result"
    }
   ],
   "source": [
    "x < y"
   ]
  },
  {
   "cell_type": "markdown",
   "id": "728391d9-01e7-4e44-b622-83d05abff085",
   "metadata": {},
   "source": [
    "### >= (greater than or equal to)"
   ]
  },
  {
   "cell_type": "code",
   "execution_count": 21,
   "id": "1b1951a6-eccc-46d9-a4c1-9ee81a76e2df",
   "metadata": {},
   "outputs": [
    {
     "data": {
      "text/plain": [
       "False"
      ]
     },
     "execution_count": 21,
     "metadata": {},
     "output_type": "execute_result"
    }
   ],
   "source": [
    "x >= y"
   ]
  },
  {
   "cell_type": "markdown",
   "id": "c383aa01-52b5-4c40-b18c-410d8fd868c3",
   "metadata": {},
   "source": [
    "### <= (less than or equal to)"
   ]
  },
  {
   "cell_type": "code",
   "execution_count": 22,
   "id": "e480dbaf-ef5a-4d32-a2d1-cd3e8ba99562",
   "metadata": {},
   "outputs": [
    {
     "data": {
      "text/plain": [
       "True"
      ]
     },
     "execution_count": 22,
     "metadata": {},
     "output_type": "execute_result"
    }
   ],
   "source": [
    "x <= y"
   ]
  },
  {
   "cell_type": "markdown",
   "id": "d1ebed84-4ecf-4c8a-9b2c-aa7a71c7ec83",
   "metadata": {
    "tags": []
   },
   "source": [
    "## 4. Logical Operators"
   ]
  },
  {
   "cell_type": "markdown",
   "id": "a3288af0-fbe1-4046-a01c-9a91cc13fdf0",
   "metadata": {},
   "source": [
    "- **logical operators** are used to combine two or more conditions and return a **Boolean** value (True or False) based on the outcome of the combination."
   ]
  },
  {
   "cell_type": "code",
   "execution_count": null,
   "id": "4588e6c4-5ca7-4649-8865-a7549b536c11",
   "metadata": {},
   "outputs": [],
   "source": [
    "x = 5\n",
    "y = 10\n",
    "z = 15"
   ]
  },
  {
   "cell_type": "markdown",
   "id": "b2fc8b41-dc06-40db-896c-3d560ec35144",
   "metadata": {},
   "source": [
    "### and"
   ]
  },
  {
   "cell_type": "code",
   "execution_count": null,
   "id": "28879c5a-07a6-4273-83d4-0bd38ebab5f7",
   "metadata": {},
   "outputs": [],
   "source": [
    "print(x < y and y < z) \n",
    "print(x < y and y > z) "
   ]
  },
  {
   "cell_type": "markdown",
   "id": "69714e52-eeba-4a1a-8aaa-f56eca366e97",
   "metadata": {},
   "source": [
    "### or"
   ]
  },
  {
   "cell_type": "code",
   "execution_count": null,
   "id": "3558a4da-d2f4-48d2-aa16-80ae0adb057a",
   "metadata": {},
   "outputs": [],
   "source": [
    "print(x < y or y > z)\n",
    "print(x > y or y > z) "
   ]
  },
  {
   "cell_type": "markdown",
   "id": "ee9ed029-0e37-4811-9302-3fe51d620fc3",
   "metadata": {},
   "source": [
    "### not"
   ]
  },
  {
   "cell_type": "code",
   "execution_count": null,
   "id": "0c323394-6012-4e76-a228-1f43ddbb7309",
   "metadata": {},
   "outputs": [],
   "source": [
    "print(not x < y)  \n",
    "print(not x > y)  "
   ]
  },
  {
   "cell_type": "markdown",
   "id": "27483f1a-08e5-4907-8d88-e2ef4050dead",
   "metadata": {
    "tags": []
   },
   "source": [
    "## 5. Bitwise Operators"
   ]
  },
  {
   "cell_type": "markdown",
   "id": "cb6daf6a-928e-4c09-9ba9-8f460f5e3454",
   "metadata": {},
   "source": [
    "-  bitwise operators are used to perform bitwise operations on binary representations of integers."
   ]
  },
  {
   "cell_type": "code",
   "execution_count": null,
   "id": "42d29b2b-b3cc-4ea4-83f0-2ec46ab2aed3",
   "metadata": {},
   "outputs": [],
   "source": [
    "x = 0b1100\n",
    "y = 0b1010"
   ]
  },
  {
   "cell_type": "markdown",
   "id": "d5e768ca-709e-48b4-984e-93e5fdf52d50",
   "metadata": {},
   "source": [
    "### & (bitwise AND)"
   ]
  },
  {
   "cell_type": "code",
   "execution_count": null,
   "id": "ab81c3be-a3cc-443f-96c9-b4d37a401673",
   "metadata": {},
   "outputs": [],
   "source": [
    "print(bin(x & y))"
   ]
  },
  {
   "cell_type": "markdown",
   "id": "d425f93d-cae2-4702-808e-6a53fbd599ff",
   "metadata": {},
   "source": [
    "### | (bitwise OR)"
   ]
  },
  {
   "cell_type": "code",
   "execution_count": null,
   "id": "46bc6014-1f68-4e01-b095-20d6ef995f04",
   "metadata": {},
   "outputs": [],
   "source": [
    "print(bin(x | y))"
   ]
  },
  {
   "cell_type": "markdown",
   "id": "80b8ccb1-8b8c-458d-9445-8f1d46162a69",
   "metadata": {},
   "source": [
    "### ^ (bitwise XOR)"
   ]
  },
  {
   "cell_type": "code",
   "execution_count": null,
   "id": "b0e8242f-c967-454a-9088-8df7cc4c1b56",
   "metadata": {},
   "outputs": [],
   "source": [
    "print(bin(x ^ y))"
   ]
  },
  {
   "cell_type": "markdown",
   "id": "65082e46-7654-4a1c-918d-b18746cef942",
   "metadata": {},
   "source": [
    "### ~ (bitwise NOT)"
   ]
  },
  {
   "cell_type": "code",
   "execution_count": null,
   "id": "bcf9c959-0ab0-4cec-863d-f1a48e2746db",
   "metadata": {},
   "outputs": [],
   "source": [
    "print(bin(~x))"
   ]
  },
  {
   "cell_type": "markdown",
   "id": "6e4ce77a-ca01-4aa5-af95-2be3b1f0e1de",
   "metadata": {},
   "source": [
    "### << (left shift)"
   ]
  },
  {
   "cell_type": "code",
   "execution_count": null,
   "id": "8c6033a4-457f-4469-bbdc-d81bbececc6b",
   "metadata": {},
   "outputs": [],
   "source": [
    "print(bin(x << 2))"
   ]
  },
  {
   "cell_type": "markdown",
   "id": "dcfe1a35-5df6-4a73-b045-4b7f6cd36b2f",
   "metadata": {},
   "source": [
    "### >> (right shift)"
   ]
  },
  {
   "cell_type": "code",
   "execution_count": null,
   "id": "50dee767-c0ec-4a78-9ca9-2f093ced7a66",
   "metadata": {},
   "outputs": [],
   "source": [
    "print(bin(x >> 2))"
   ]
  },
  {
   "cell_type": "markdown",
   "id": "49239f67-affb-4712-8f09-6c847f2ffd6f",
   "metadata": {
    "tags": []
   },
   "source": [
    "## 6. Membership Operators"
   ]
  },
  {
   "cell_type": "markdown",
   "id": "dd7ced84-5f96-464a-be6e-3a755adf6052",
   "metadata": {},
   "source": [
    "- **membership** operators are used to test whether a value is a member of a sequence or not."
   ]
  },
  {
   "cell_type": "code",
   "execution_count": null,
   "id": "c7b49b43-cf36-4aa2-b05b-561084a47cc3",
   "metadata": {},
   "outputs": [],
   "source": [
    "x = [1, 2, 3, 4, 5]"
   ]
  },
  {
   "cell_type": "markdown",
   "id": "9c143146-4af1-4a3b-97a1-dfb57b563411",
   "metadata": {},
   "source": [
    "### in"
   ]
  },
  {
   "cell_type": "code",
   "execution_count": null,
   "id": "0cd15d79-57bf-4816-831b-756376b76861",
   "metadata": {},
   "outputs": [],
   "source": [
    "print(3 in x)  \n",
    "print(6 in x)   "
   ]
  },
  {
   "cell_type": "markdown",
   "id": "c7f31672-de23-4dca-8fb0-7b9155c3a9bf",
   "metadata": {},
   "source": [
    "### not in"
   ]
  },
  {
   "cell_type": "code",
   "execution_count": null,
   "id": "13edc298-dbf9-4c4d-b2e5-d2fd90c0006f",
   "metadata": {},
   "outputs": [],
   "source": [
    "print(3 not in x)  \n",
    "print(6 not in x) "
   ]
  },
  {
   "cell_type": "markdown",
   "id": "1b798885-b938-4523-bd12-b0352d0a8262",
   "metadata": {
    "tags": []
   },
   "source": [
    "## 7. Identity Operators"
   ]
  },
  {
   "cell_type": "markdown",
   "id": "e1b0759b-aee8-4b2c-8d3b-0225fb3874ee",
   "metadata": {},
   "source": [
    "- **identity** operators are used to compare the **memory locations** of two objects to determine whether they refer to the same object or not. "
   ]
  },
  {
   "cell_type": "code",
   "execution_count": null,
   "id": "4f5eabd8-1b73-41a5-88a3-9a2d08dff3e2",
   "metadata": {},
   "outputs": [],
   "source": [
    "# x and y refer to the same object in memory\n",
    "\n",
    "x = [1, 2, 3]\n",
    "y = x\n",
    "z = [1, 2, 3]"
   ]
  },
  {
   "cell_type": "code",
   "execution_count": null,
   "id": "0a3637d8-afdd-45e4-b6f1-1cdf4e1ca3ca",
   "metadata": {},
   "outputs": [],
   "source": [
    "print(id(x))\n",
    "print(id(y))\n",
    "print(id(z))"
   ]
  },
  {
   "cell_type": "markdown",
   "id": "8cb738ae-4859-4189-8534-0eac66040af0",
   "metadata": {},
   "source": [
    "### is"
   ]
  },
  {
   "cell_type": "code",
   "execution_count": null,
   "id": "e26742ce-427f-487c-a029-63f05af8c1cc",
   "metadata": {},
   "outputs": [],
   "source": [
    "print(x is y)  \n",
    "print(x is z)  "
   ]
  },
  {
   "cell_type": "markdown",
   "id": "da01aec4-5d07-4169-a3ab-843beb2f4954",
   "metadata": {},
   "source": [
    "### is not"
   ]
  },
  {
   "cell_type": "code",
   "execution_count": null,
   "id": "4519d92c-3b22-4549-9809-6bb2d8a3f577",
   "metadata": {},
   "outputs": [],
   "source": [
    "print(x is not y) \n",
    "print(x is not z)  "
   ]
  },
  {
   "cell_type": "markdown",
   "id": "d453fe74-1fdd-41c2-90c2-4f7fd3d70215",
   "metadata": {
    "tags": []
   },
   "source": [
    "## Operator precedence"
   ]
  },
  {
   "cell_type": "markdown",
   "id": "e10f3dcb-8190-40bd-a1ff-966f1f1058c7",
   "metadata": {},
   "source": [
    "- operator precedence determines the order in which operators are evaluated in an expression. Operators with higher precedence are evaluated before operators with lower precedence."
   ]
  },
  {
   "attachments": {
    "055fd62e-8d2c-4dd5-890d-2c704d65efca.png": {
     "image/png": "[encoded data removed]"
    }
   },
   "cell_type": "markdown",
   "id": "db486e38-b5f7-470a-a686-d891b7fd7d11",
   "metadata": {},
   "source": [
    "![image.png](attachment:055fd62e-8d2c-4dd5-890d-2c704d65efca.png)"
   ]
  },
  {
   "cell_type": "code",
   "execution_count": null,
   "id": "90826bdc-4292-4cf2-9065-081ed57341ea",
   "metadata": {},
   "outputs": [],
   "source": [
    "x = 2\n",
    "y = 3\n",
    "z = 4"
   ]
  },
  {
   "cell_type": "markdown",
   "id": "90ab7e0b-bec5-4c16-9d37-2f9f7e7ef973",
   "metadata": {},
   "source": [
    "### Arithmetic operators "
   ]
  },
  {
   "cell_type": "code",
   "execution_count": null,
   "id": "734cff26-323c-489b-af50-bc9ba45f3689",
   "metadata": {},
   "outputs": [],
   "source": [
    "result = x + y * z  # equivalent to ...\n",
    "print(result) "
   ]
  },
  {
   "cell_type": "markdown",
   "id": "03165313-6c92-431d-9936-dc33ec11b1c3",
   "metadata": {},
   "source": [
    "### comparison operators"
   ]
  },
  {
   "cell_type": "code",
   "execution_count": null,
   "id": "5e934aa1-7321-4bf6-889d-741c238c0a85",
   "metadata": {},
   "outputs": [],
   "source": [
    "result = x < y and y < z or z == x + y  # equivalent to ...\n",
    "print(result)  "
   ]
  },
  {
   "cell_type": "markdown",
   "id": "cd7858f2-f0f0-4592-aec2-da3846ba03ea",
   "metadata": {
    "tags": []
   },
   "source": [
    "## Data Types"
   ]
  },
  {
   "cell_type": "markdown",
   "id": "cc85bf9c-4ea5-4a2b-a20c-b808daab920c",
   "metadata": {},
   "source": [
    "- In Python, data types represent the type of data that a variable or object can store. Here are the built-in data types in Python"
   ]
  },
  {
   "cell_type": "markdown",
   "id": "20848286-ff9c-410e-b956-8f16c6f42578",
   "metadata": {
    "tags": []
   },
   "source": [
    "### 1. Numeric Types (int, float, complex)"
   ]
  },
  {
   "cell_type": "code",
   "execution_count": null,
   "id": "df02d42f-38d0-403e-aee4-8e05a2df0585",
   "metadata": {},
   "outputs": [],
   "source": [
    "x = 5\n",
    "y = 3.14\n",
    "z = 2 + 3j"
   ]
  },
  {
   "cell_type": "markdown",
   "id": "177174b5-369f-4c21-8201-6d933e88bd30",
   "metadata": {
    "tags": []
   },
   "source": [
    "### 2. Text Type (str)"
   ]
  },
  {
   "cell_type": "code",
   "execution_count": null,
   "id": "b9420657-7bb0-430d-9653-b5ab0239799e",
   "metadata": {},
   "outputs": [],
   "source": [
    "my_string = \"Hello, World!\""
   ]
  },
  {
   "cell_type": "markdown",
   "id": "c2bc86e4-23fc-4f70-ae14-08c28c0974ba",
   "metadata": {
    "tags": []
   },
   "source": [
    "### 3. Sequence Types (list, tuple, range)"
   ]
  },
  {
   "cell_type": "markdown",
   "id": "4853ef56-f37d-4523-9964-34463c5db1a1",
   "metadata": {},
   "source": [
    "#### list \n",
    "Represents an **ordered** collection of elements, which can be of different data types."
   ]
  },
  {
   "cell_type": "code",
   "execution_count": null,
   "id": "da269b5d-2b55-4d93-b3fb-940aaa2a4e67",
   "metadata": {},
   "outputs": [],
   "source": [
    "x = [1, 'apple', 3.14]"
   ]
  },
  {
   "cell_type": "markdown",
   "id": "64d92c48-6a69-4c90-a547-93c5bdbd40b0",
   "metadata": {},
   "source": [
    "#### tuple\n",
    "- Represents an **ordered** collection of elements, which can be of different data types. \n",
    "- Tuples are **immutable**, meaning their values **cannot be changed after creation**."
   ]
  },
  {
   "cell_type": "code",
   "execution_count": null,
   "id": "5fced61e-e0bd-4261-b22b-97f41391d1e0",
   "metadata": {},
   "outputs": [],
   "source": [
    "my_tuple = (1, 'apple', 3.14)\n",
    "my_range = range(10)"
   ]
  },
  {
   "cell_type": "markdown",
   "id": "890d6f00-ba0d-4fd9-a195-a4a5c65061db",
   "metadata": {},
   "source": [
    "#### range\n",
    "- Represents an immutable sequence of numbers."
   ]
  },
  {
   "cell_type": "code",
   "execution_count": 9,
   "id": "ed9a11a7-8b6b-40d7-82b4-d29f68df9fef",
   "metadata": {},
   "outputs": [
    {
     "data": {
      "text/plain": [
       "range(0, 10)"
      ]
     },
     "execution_count": 9,
     "metadata": {},
     "output_type": "execute_result"
    }
   ],
   "source": [
    "range(10)"
   ]
  },
  {
   "cell_type": "markdown",
   "id": "552cebf7-2722-4733-a299-09765eee1622",
   "metadata": {
    "tags": []
   },
   "source": [
    "### 4. Mapping Type"
   ]
  },
  {
   "cell_type": "markdown",
   "id": "8651a6eb-a3d2-4f81-a9a2-d5865a59c051",
   "metadata": {},
   "source": [
    "#### dict\n",
    "- Represents a collection of **key-value pairs**, where each key is unique and maps to a corresponding value. "
   ]
  },
  {
   "cell_type": "code",
   "execution_count": null,
   "id": "e30f72f3-97a2-4aea-b6da-736e99130c73",
   "metadata": {},
   "outputs": [],
   "source": [
    "x = {'name': 'John', 'age': 30}"
   ]
  },
  {
   "cell_type": "markdown",
   "id": "681dd6f7-e8da-40ec-b534-a56d2d7fe41c",
   "metadata": {
    "tags": []
   },
   "source": [
    "### 5. Set Types (set)"
   ]
  },
  {
   "cell_type": "markdown",
   "id": "2f9e9ebf-d3ae-44f7-b618-44e942648d7c",
   "metadata": {},
   "source": [
    "#### set \n",
    "- Represents an unordered collection of unique elements. "
   ]
  },
  {
   "cell_type": "code",
   "execution_count": 18,
   "id": "b677c891-f3c0-4e1a-8342-8f645b1fdd86",
   "metadata": {},
   "outputs": [
    {
     "data": {
      "text/plain": [
       "{1, 3}"
      ]
     },
     "execution_count": 18,
     "metadata": {},
     "output_type": "execute_result"
    }
   ],
   "source": [
    "x = {1, 2, 3}\n",
    "x.remove(2)\n",
    "x"
   ]
  },
  {
   "cell_type": "markdown",
   "id": "ff2b556b-8f24-4d02-abcc-700848801454",
   "metadata": {
    "tags": []
   },
   "source": [
    "#### frozenset \n",
    "- Represents an immutable unordered collection of unique elements."
   ]
  },
  {
   "cell_type": "code",
   "execution_count": 19,
   "id": "da6d30d4-2b86-4371-886b-ad195743de18",
   "metadata": {},
   "outputs": [
    {
     "ename": "AttributeError",
     "evalue": "'frozenset' object has no attribute 'remove'",
     "output_type": "error",
     "traceback": [
      "\u001b[1;31m---------------------------------------------------------------------------\u001b[0m",
      "\u001b[1;31mAttributeError\u001b[0m                            Traceback (most recent call last)",
      "Input \u001b[1;32mIn [19]\u001b[0m, in \u001b[0;36m<cell line: 2>\u001b[1;34m()\u001b[0m\n\u001b[0;32m      1\u001b[0m x \u001b[38;5;241m=\u001b[39m \u001b[38;5;28mfrozenset\u001b[39m({\u001b[38;5;241m1\u001b[39m, \u001b[38;5;241m2\u001b[39m, \u001b[38;5;241m3\u001b[39m})\n\u001b[1;32m----> 2\u001b[0m \u001b[43mx\u001b[49m\u001b[38;5;241;43m.\u001b[39;49m\u001b[43mremove\u001b[49m(\u001b[38;5;241m2\u001b[39m)\n",
      "\u001b[1;31mAttributeError\u001b[0m: 'frozenset' object has no attribute 'remove'"
     ]
    }
   ],
   "source": [
    "x = frozenset({1, 2, 3})\n",
    "x.remove(2)"
   ]
  },
  {
   "cell_type": "markdown",
   "id": "95b8436d-fe74-4ead-87b3-f3443104eec5",
   "metadata": {
    "tags": []
   },
   "source": [
    "### 6. Boolean Type"
   ]
  },
  {
   "cell_type": "markdown",
   "id": "f5244b87-1152-4e32-8d4b-aa55b14eae85",
   "metadata": {},
   "source": [
    "#### bool \n",
    "- Represents a Boolean value, which can be either True or False."
   ]
  },
  {
   "cell_type": "code",
   "execution_count": null,
   "id": "e30ffa9f-a367-4517-95d5-6c284ad7943e",
   "metadata": {},
   "outputs": [],
   "source": [
    "x = True"
   ]
  },
  {
   "cell_type": "markdown",
   "id": "c05beccd-7b17-4b57-9bc9-b92617042a57",
   "metadata": {
    "tags": []
   },
   "source": [
    "### 7. Binary Types"
   ]
  },
  {
   "cell_type": "markdown",
   "id": "1b209fed-9ecd-4548-8f97-eff86289eb43",
   "metadata": {},
   "source": [
    "#### bytes \n",
    "- Represents a sequence of bytes."
   ]
  },
  {
   "cell_type": "code",
   "execution_count": null,
   "id": "aafb5ceb-668f-4902-a6d1-b93e3d7877af",
   "metadata": {},
   "outputs": [],
   "source": [
    "my_bytes = b\"Hello\""
   ]
  },
  {
   "cell_type": "markdown",
   "id": "1e3c2c9b-e24b-417a-994d-c74b24f478f7",
   "metadata": {},
   "source": [
    "#### bytearray\n",
    "- Represents a mutable sequence of bytes."
   ]
  },
  {
   "cell_type": "code",
   "execution_count": null,
   "id": "d2ec2dac-5ab6-49de-ba75-732a2424b5c8",
   "metadata": {},
   "outputs": [],
   "source": [
    "my_bytearray = bytearray(b\"Hello\")"
   ]
  },
  {
   "cell_type": "markdown",
   "id": "38f9edb4-2032-4529-8c78-72dd484356f4",
   "metadata": {},
   "source": [
    "#### memoryview \n",
    "- Represents a memory view of a sequence of bytes."
   ]
  },
  {
   "cell_type": "code",
   "execution_count": null,
   "id": "b2d9926d-971b-4490-956d-523eb7f227a2",
   "metadata": {},
   "outputs": [],
   "source": [
    "my_memoryview = memoryview(b\"Hello\")"
   ]
  },
  {
   "cell_type": "markdown",
   "id": "3f5edbc8-d64f-4cfe-b5cd-bfe447ed3684",
   "metadata": {
    "tags": []
   },
   "source": [
    "## List"
   ]
  },
  {
   "cell_type": "markdown",
   "id": "77c862a6-89fb-4285-9904-ea46a4631ca5",
   "metadata": {},
   "source": [
    "- list is a collection of items that are **ordered and changeable**. Lists are defined using square brackets **[]** and the items in a list are separated by commas."
   ]
  },
  {
   "cell_type": "markdown",
   "id": "f4e4eb0b-e2a2-4c63-a019-ee2df65cf223",
   "metadata": {},
   "source": [
    "### Different types of creating list"
   ]
  },
  {
   "cell_type": "markdown",
   "id": "c19c0da7-21de-4f89-825e-4cc73955f000",
   "metadata": {},
   "source": [
    "#### 1. Using square brackets and comma-separated values"
   ]
  },
  {
   "cell_type": "code",
   "execution_count": null,
   "id": "4657b320-c738-48de-8aa8-d042ac188732",
   "metadata": {},
   "outputs": [],
   "source": [
    "list1 = [\"apple\", \"banana\", \"orange\"]"
   ]
  },
  {
   "cell_type": "code",
   "execution_count": null,
   "id": "defd0044-c5f8-47ec-95a9-e9e9d9b72cdb",
   "metadata": {},
   "outputs": [],
   "source": [
    "list2 = [12, 25, 13, 4, 11, 3, 1]"
   ]
  },
  {
   "cell_type": "code",
   "execution_count": null,
   "id": "204e9887-e1b8-4722-87f0-bb0b3b000281",
   "metadata": {},
   "outputs": [],
   "source": [
    "list3 = [True, False, True]"
   ]
  },
  {
   "cell_type": "markdown",
   "id": "40c45bd4-bda4-4b6d-867d-7acee89cabc2",
   "metadata": {},
   "source": [
    "#### 2. Using the **list() constructor** and an iterable (such as a string or tuple)"
   ]
  },
  {
   "cell_type": "code",
   "execution_count": null,
   "id": "48b890c3-9277-4efe-9149-e661bbe32687",
   "metadata": {},
   "outputs": [],
   "source": [
    "numbers = list((1, 2, 3, 4))"
   ]
  },
  {
   "cell_type": "code",
   "execution_count": null,
   "id": "ddb35dae-4d07-47f1-aacb-ea4310c3449e",
   "metadata": {},
   "outputs": [],
   "source": [
    "string = 'Machine Learning'\n",
    "\n",
    "b = [string]\n",
    "b"
   ]
  },
  {
   "cell_type": "code",
   "execution_count": null,
   "id": "24ac79d8-121f-4cd0-b0a5-a6a78cfe181a",
   "metadata": {},
   "outputs": [],
   "source": [
    "c = list(string)\n",
    "c"
   ]
  },
  {
   "cell_type": "markdown",
   "id": "7700118b-eaa2-4c45-8a1d-955951564533",
   "metadata": {
    "tags": []
   },
   "source": [
    "#### 3. Using the **range() function** and the list() constructor:"
   ]
  },
  {
   "cell_type": "code",
   "execution_count": null,
   "id": "1ff7e101-887a-4a65-83b4-f3c99c08d334",
   "metadata": {},
   "outputs": [],
   "source": [
    "even_numbers = list(range(0, 11, 2))"
   ]
  },
  {
   "cell_type": "markdown",
   "id": "0b1c2c40-4cb3-4c8b-b0ee-90cc248a09ab",
   "metadata": {
    "tags": []
   },
   "source": [
    "#### 4. Using a list comprehension:"
   ]
  },
  {
   "cell_type": "code",
   "execution_count": null,
   "id": "c4683dde-122c-45b3-ae89-8f2ae01527f0",
   "metadata": {},
   "outputs": [],
   "source": [
    "squares = [x**2 for x in range(1, 6)]"
   ]
  },
  {
   "cell_type": "markdown",
   "id": "adfc7b64-c84a-427f-897e-3bc99752b597",
   "metadata": {
    "tags": []
   },
   "source": [
    "#### 5. Creating an **empty list** and then adding items to it using the append() method"
   ]
  },
  {
   "cell_type": "code",
   "execution_count": null,
   "id": "a07dde75-948f-422b-84c4-6a649973c8d7",
   "metadata": {},
   "outputs": [],
   "source": [
    "my_list = []\n",
    "my_list.append(\"apple\")\n",
    "my_list.append(\"banana\")"
   ]
  },
  {
   "cell_type": "markdown",
   "id": "1809a6b3-c9b6-418f-bc26-f54c1bcfac8c",
   "metadata": {
    "tags": []
   },
   "source": [
    "### type"
   ]
  },
  {
   "cell_type": "code",
   "execution_count": null,
   "id": "18a204bf-cfb1-4dab-bf44-5a8ec74246b2",
   "metadata": {},
   "outputs": [],
   "source": [
    "type(list1), list1.__class__"
   ]
  },
  {
   "cell_type": "markdown",
   "id": "2048e7bf-ce37-4741-8ce8-6f96c2a1f394",
   "metadata": {
    "tags": []
   },
   "source": [
    "### Nested list"
   ]
  },
  {
   "cell_type": "markdown",
   "id": "2bcb5c72-d2fb-489f-a1f0-20ccbf68e2e8",
   "metadata": {},
   "source": [
    "- Nested list is a list that contains other lists as its elements."
   ]
  },
  {
   "cell_type": "code",
   "execution_count": null,
   "id": "495f871d-d12f-4c8b-a550-fe474ab264f8",
   "metadata": {},
   "outputs": [],
   "source": [
    "matrix = [[1, 2, 3], [4, 5, 6], [7, 8, 9]]"
   ]
  },
  {
   "cell_type": "markdown",
   "id": "33da4b58-f613-4e5d-9c09-8fd0ef622db2",
   "metadata": {
    "tags": []
   },
   "source": [
    "### Indexing in List"
   ]
  },
  {
   "cell_type": "markdown",
   "id": "27cbe0cb-f83a-4f43-99cb-87938e456101",
   "metadata": {},
   "source": [
    "- indexing is the process of accessing individual elements in a list by their position or index. \n",
    "- The index of an element in a list is its position within the list, and it **starts at 0 (zero indexing)** for the first element."
   ]
  },
  {
   "cell_type": "code",
   "execution_count": null,
   "id": "3e48185b-de07-47d0-92b7-9f0441368a37",
   "metadata": {},
   "outputs": [],
   "source": [
    "a = [10, 20, 30, 40, 50, 60]\n",
    "a[0]\n",
    "a[5]"
   ]
  },
  {
   "cell_type": "markdown",
   "id": "3b077c82-6261-4987-96b5-203c5f282f1a",
   "metadata": {},
   "source": [
    "#### Negative indexing"
   ]
  },
  {
   "cell_type": "code",
   "execution_count": null,
   "id": "73e2a405-af6e-4c94-a600-bec66023045b",
   "metadata": {},
   "outputs": [],
   "source": [
    "a[-1]\n",
    "a[-2]"
   ]
  },
  {
   "cell_type": "markdown",
   "id": "8ba007b3-7f27-416a-b5b6-ce892ee68368",
   "metadata": {
    "tags": []
   },
   "source": [
    "### Slicing"
   ]
  },
  {
   "cell_type": "markdown",
   "id": "980935db-246e-4180-86c1-4b3b8adef43d",
   "metadata": {},
   "source": [
    "- slicing is the process of extracting a **subset of elements** from a list. \n",
    "- Slicing is performed using the **colon (:)** operator inside the square brackets **([])**.\n",
    "- my_list[start:end:step]"
   ]
  },
  {
   "cell_type": "code",
   "execution_count": null,
   "id": "39f27640-f515-4489-93ef-033aa8d31e2c",
   "metadata": {},
   "outputs": [],
   "source": [
    "a = [10, 20, 30, 40, 50, 60, 70, 80]"
   ]
  },
  {
   "cell_type": "code",
   "execution_count": null,
   "id": "dcfc0109-2820-4074-9444-54e0f442e55b",
   "metadata": {},
   "outputs": [],
   "source": [
    "a[0:5]"
   ]
  },
  {
   "cell_type": "code",
   "execution_count": null,
   "id": "9c294451-dae3-45c9-959a-472997f9ea3e",
   "metadata": {},
   "outputs": [],
   "source": [
    "a[4:-1]"
   ]
  },
  {
   "cell_type": "code",
   "execution_count": null,
   "id": "1640a7c4-9d85-4fe3-882f-e759ba4d7427",
   "metadata": {},
   "outputs": [],
   "source": [
    "a[-3:-1]"
   ]
  },
  {
   "cell_type": "code",
   "execution_count": null,
   "id": "7ae4cde8-00fe-4039-af36-2f42743b34be",
   "metadata": {},
   "outputs": [],
   "source": [
    "a[::2]"
   ]
  },
  {
   "cell_type": "markdown",
   "id": "b985ec3d-146e-4951-a10d-158f6f4e4d98",
   "metadata": {},
   "source": [
    "#### Replace values in a list"
   ]
  },
  {
   "cell_type": "code",
   "execution_count": null,
   "id": "aed9633a-04c1-443d-b8bc-9fa6d8137ea5",
   "metadata": {},
   "outputs": [],
   "source": [
    "a[6] = 800\n",
    "a"
   ]
  },
  {
   "cell_type": "code",
   "execution_count": null,
   "id": "345b64ba-2c85-4371-965d-6a43c516cdde",
   "metadata": {},
   "outputs": [],
   "source": [
    "a[-2:] = [-1, -1]\n",
    "a"
   ]
  },
  {
   "cell_type": "markdown",
   "id": "f1da2d23-8f55-4474-8107-a629bc36c01f",
   "metadata": {},
   "source": [
    "### List methods"
   ]
  },
  {
   "cell_type": "code",
   "execution_count": null,
   "id": "434792d9-fe7b-4273-bb02-d91e133b66c3",
   "metadata": {},
   "outputs": [],
   "source": [
    "print(dir(list))"
   ]
  },
  {
   "cell_type": "markdown",
   "id": "443f4f86-381f-435f-aa09-898292a6b2dc",
   "metadata": {},
   "source": [
    "#### 1. append()"
   ]
  },
  {
   "cell_type": "markdown",
   "id": "b6185088-75d4-4518-8f19-2c80329fe165",
   "metadata": {},
   "source": [
    "- adds an element to the **end** of the list."
   ]
  },
  {
   "cell_type": "code",
   "execution_count": null,
   "id": "4663fa7a-227e-4318-8314-6af9d0a43af6",
   "metadata": {},
   "outputs": [],
   "source": [
    "my_list = [\"AI\", \"ML\", \"DL\"]\n",
    "my_list.append(\"CV\")"
   ]
  },
  {
   "cell_type": "markdown",
   "id": "b87b132f-7d27-4f11-bc18-a800bdf5a4cb",
   "metadata": {},
   "source": [
    "#### 2. insert()"
   ]
  },
  {
   "cell_type": "markdown",
   "id": "acdfae3f-9521-454e-9917-2eba6fc121b0",
   "metadata": {},
   "source": [
    "- inserts an element at a **specific index** in the list."
   ]
  },
  {
   "cell_type": "code",
   "execution_count": null,
   "id": "4e5e0aff-9a16-4326-8ec1-0a2162c2a457",
   "metadata": {},
   "outputs": [],
   "source": [
    "my_list = [\"AI\", \"ML\", \"DL\"]\n",
    "my_list.insert(2, \"CV\")\n",
    "my_list"
   ]
  },
  {
   "cell_type": "markdown",
   "id": "f1730de6-860f-493b-97a4-686b92eabda6",
   "metadata": {},
   "source": [
    "#### 3. remove()"
   ]
  },
  {
   "cell_type": "markdown",
   "id": "1e2e4141-e163-4bc6-8a54-297de76d81f7",
   "metadata": {},
   "source": [
    "- removes the **first occurrence** of an element from the list."
   ]
  },
  {
   "cell_type": "code",
   "execution_count": null,
   "id": "93876c66-b778-45d0-a5ee-48f52200b772",
   "metadata": {},
   "outputs": [],
   "source": [
    "my_list = [12, 10, 20, 10, 11]\n",
    "my_list.remove(10)\n",
    "my_list"
   ]
  },
  {
   "cell_type": "markdown",
   "id": "b455504f-5b03-4911-8f0a-fbd1a535c85c",
   "metadata": {},
   "source": [
    "#### 4. pop()"
   ]
  },
  {
   "cell_type": "markdown",
   "id": "82355ddf-3dcc-455c-9093-caafefdbf540",
   "metadata": {},
   "source": [
    "- removes and returns the element at a specific index in the list."
   ]
  },
  {
   "cell_type": "code",
   "execution_count": null,
   "id": "0debef5f-6720-4a72-9449-7a521db392eb",
   "metadata": {},
   "outputs": [],
   "source": [
    "my_list = [12, 10, 20, 10, 11]\n",
    "my_list.pop(3)\n",
    "my_list"
   ]
  },
  {
   "cell_type": "markdown",
   "id": "22aca208-b088-4bee-9c44-2baf5c7cf9b6",
   "metadata": {},
   "source": [
    "#### 5. sort()"
   ]
  },
  {
   "cell_type": "markdown",
   "id": "100ac753-43ff-4aa5-95cd-e3934956272f",
   "metadata": {},
   "source": [
    "- sorts the elements of the list in ascending order."
   ]
  },
  {
   "cell_type": "code",
   "execution_count": null,
   "id": "0f572a90-4726-4f79-929d-ee36ffdad886",
   "metadata": {},
   "outputs": [],
   "source": [
    "num = [4, 2, 1, 3, 5, 1]\n",
    "num.sort()\n",
    "\n",
    "print(numbers)  "
   ]
  },
  {
   "cell_type": "markdown",
   "id": "7a10d240-c73d-489b-867b-18e543409a05",
   "metadata": {},
   "source": [
    "#### 6. reverse()"
   ]
  },
  {
   "cell_type": "markdown",
   "id": "c9b0cc5c-7873-4eec-b1a5-663c60919175",
   "metadata": {},
   "source": [
    "- reverses the order of the elements in the list."
   ]
  },
  {
   "cell_type": "code",
   "execution_count": null,
   "id": "e20980de-6629-4881-8fc9-cc87915c526c",
   "metadata": {},
   "outputs": [],
   "source": [
    "fruits = [\"a\", \"b\", \"c\", \"d\"]\n",
    "fruits.reverse()\n",
    "\n",
    "print(fruits) "
   ]
  },
  {
   "cell_type": "markdown",
   "id": "c305801b-7039-43a8-b4cf-2501c9128a8d",
   "metadata": {},
   "source": [
    "#### 7. extend()"
   ]
  },
  {
   "cell_type": "markdown",
   "id": "b831c493-c688-4637-94bb-8e1f36f83b86",
   "metadata": {},
   "source": [
    "- adds the elements of a list (or any iterable) to the end of the list."
   ]
  },
  {
   "cell_type": "code",
   "execution_count": null,
   "id": "77908a7e-d989-46e8-bbad-7ac7cc5f7da7",
   "metadata": {},
   "outputs": [],
   "source": [
    "a1 = [\"iphone\", \"android\", \"ios\"]\n",
    "b1 = [\"samsung\", \"mac\"]\n",
    "\n",
    "a1.extend(b1)\n",
    "print(a1)"
   ]
  },
  {
   "cell_type": "markdown",
   "id": "d2a61b97-f087-4b9e-bbe0-80ecaaa83f81",
   "metadata": {},
   "source": [
    "#### 8. index()"
   ]
  },
  {
   "cell_type": "markdown",
   "id": "64e59753-8731-47fb-bced-4e164ebc7a58",
   "metadata": {},
   "source": [
    "- returns the index of the first occurrence of an element in the list."
   ]
  },
  {
   "cell_type": "code",
   "execution_count": null,
   "id": "0bb7f392-60cd-418c-97f5-87488a4615d0",
   "metadata": {},
   "outputs": [],
   "source": [
    "a1 = [\"iphone\", \"android\", \"ios\"]\n",
    "a1.index('android')"
   ]
  },
  {
   "cell_type": "markdown",
   "id": "a6bcd59e-0b1e-4bad-af7e-901815428203",
   "metadata": {},
   "source": [
    "#### 9. count()"
   ]
  },
  {
   "cell_type": "markdown",
   "id": "0f0bfe3d-3554-4beb-af3b-bc3486f28592",
   "metadata": {},
   "source": [
    "- returns the number of times an element appears in the list."
   ]
  },
  {
   "cell_type": "code",
   "execution_count": null,
   "id": "69213be1-75e3-43bf-8005-d03cf85da1d9",
   "metadata": {},
   "outputs": [],
   "source": [
    "list1 = [1, 2, 2, 15, 12, 2]\n",
    "list1.count(2)"
   ]
  },
  {
   "cell_type": "markdown",
   "id": "c789d1d5-7524-40ad-b91f-983c2d540107",
   "metadata": {},
   "source": [
    "#### 10. clear()"
   ]
  },
  {
   "cell_type": "markdown",
   "id": "067e5780-5025-40b4-b802-808234599310",
   "metadata": {},
   "source": [
    "- removes all elements from the list."
   ]
  },
  {
   "cell_type": "code",
   "execution_count": null,
   "id": "20c00d99-1ef3-4b82-a989-8ce519f9590d",
   "metadata": {},
   "outputs": [],
   "source": [
    "list1 = [1, 2, 2, 15, 12, 2]\n",
    "list1.clear()\n",
    "\n",
    "print(list1)"
   ]
  },
  {
   "cell_type": "markdown",
   "id": "8d59d8ac-4853-481e-a524-79d228860c91",
   "metadata": {},
   "source": [
    "#### 11. copy()"
   ]
  },
  {
   "cell_type": "code",
   "execution_count": null,
   "id": "b22fca64-5ca8-4f48-a4fe-ab51462a6ec4",
   "metadata": {},
   "outputs": [],
   "source": [
    "list1 = [1, 2, 2, 15, 12, 2]\n",
    "list2 = list1.copy()\n",
    "\n",
    "list2"
   ]
  },
  {
   "cell_type": "markdown",
   "id": "3fa429e3-45c0-400f-947b-c7e5cc3fe674",
   "metadata": {},
   "source": [
    "#### 12. len()"
   ]
  },
  {
   "cell_type": "markdown",
   "id": "e71f337b-9b4b-4ecd-a4db-af412fa8e05e",
   "metadata": {},
   "source": [
    "- returns the number of elements in the list."
   ]
  },
  {
   "cell_type": "code",
   "execution_count": null,
   "id": "fca4fa55-d7d9-4879-b793-b40acb87e0b1",
   "metadata": {},
   "outputs": [],
   "source": [
    "list1 = [1, 2, 2, 15, 12, 2]\n",
    "num = len(list1)\n",
    "\n",
    "num"
   ]
  },
  {
   "cell_type": "markdown",
   "id": "cabbab83-921c-494e-8697-a054572d2c69",
   "metadata": {},
   "source": [
    "### list characteristics"
   ]
  },
  {
   "cell_type": "markdown",
   "id": "14525529-6e6b-416a-9402-6158c67192c1",
   "metadata": {},
   "source": [
    "#### 1. Mutable"
   ]
  },
  {
   "cell_type": "code",
   "execution_count": 10,
   "id": "61dc3d21-f1ff-4fc3-9987-2384a2409998",
   "metadata": {},
   "outputs": [
    {
     "data": {
      "text/plain": [
       "['a', 'h', 'c']"
      ]
     },
     "execution_count": 10,
     "metadata": {},
     "output_type": "execute_result"
    }
   ],
   "source": [
    "a1 = [\"a\", \"b\", \"c\"]\n",
    "a1[1] = \"h\"\n",
    "a1 "
   ]
  },
  {
   "cell_type": "markdown",
   "id": "a343a4ae-adcc-4cfe-ac3c-06dab111b867",
   "metadata": {},
   "source": [
    "#### 2. Ordered"
   ]
  },
  {
   "cell_type": "code",
   "execution_count": 11,
   "id": "d7c64943-54c5-487d-9b98-c2ccade56436",
   "metadata": {},
   "outputs": [
    {
     "data": {
      "text/plain": [
       "False"
      ]
     },
     "execution_count": 11,
     "metadata": {},
     "output_type": "execute_result"
    }
   ],
   "source": [
    "a = [1, 2, 3]\n",
    "b = [3, 1, 2]\n",
    "\n",
    "a is b"
   ]
  },
  {
   "cell_type": "markdown",
   "id": "18c2ae2b-f3cd-41cb-b55a-4553a1240a73",
   "metadata": {},
   "source": [
    "#### 3. Heterogeneous"
   ]
  },
  {
   "cell_type": "code",
   "execution_count": null,
   "id": "094f44bf-ed1c-4b3f-8294-441fd84ab0d4",
   "metadata": {},
   "outputs": [],
   "source": [
    "my_list = [1, \"apple\", True, 3.14]"
   ]
  },
  {
   "cell_type": "markdown",
   "id": "52a6a1ae-528a-4380-a5ff-1315b373f699",
   "metadata": {},
   "source": [
    "#### 4. Variable length"
   ]
  },
  {
   "cell_type": "code",
   "execution_count": 12,
   "id": "ae00c955-497d-4d38-8bcd-60ed663c8dae",
   "metadata": {},
   "outputs": [
    {
     "name": "stdout",
     "output_type": "stream",
     "text": [
      "['a', 'b', 'c', 'd']\n"
     ]
    }
   ],
   "source": [
    "m_list = [\"a\", \"b\", \"c\"]\n",
    "m_list.append(\"d\")\n",
    "print(m_list) "
   ]
  },
  {
   "cell_type": "markdown",
   "id": "65444ca7-94f7-4694-ad81-37d29bb764b0",
   "metadata": {},
   "source": [
    "#### 5. Nestable"
   ]
  },
  {
   "cell_type": "code",
   "execution_count": 13,
   "id": "8fbd0167-214b-49f3-9078-e6d993f3e80d",
   "metadata": {},
   "outputs": [
    {
     "name": "stdout",
     "output_type": "stream",
     "text": [
      "6\n"
     ]
    }
   ],
   "source": [
    "matrix = [[1, 2, 3], [4, 5, 6], [7, 8, 9]]\n",
    "\n",
    "print(matrix[1][2]) "
   ]
  },
  {
   "cell_type": "markdown",
   "id": "b5425c3b-9699-43fa-9d97-fdb204ee261f",
   "metadata": {},
   "source": [
    "#### 6. Iterable"
   ]
  },
  {
   "cell_type": "code",
   "execution_count": 15,
   "id": "75cd689a-8b9c-457f-baf1-b0f7630a2a24",
   "metadata": {},
   "outputs": [
    {
     "name": "stdout",
     "output_type": "stream",
     "text": [
      "a\n",
      "n\n",
      "h\n",
      "jj\n"
     ]
    }
   ],
   "source": [
    "my_list = [\"a\", \"n\", \"h\", \"jj\"]\n",
    "for m in my_list:\n",
    "    print(m)"
   ]
  }
 ],
 "metadata": {
  "kernelspec": {
   "display_name": "Python 3 (ipykernel)",
   "language": "python",
   "name": "python3"
  },
  "language_info": {
   "codemirror_mode": {
    "name": "ipython",
    "version": 3
   },
   "file_extension": ".py",
   "mimetype": "text/x-python",
   "name": "python",
   "nbconvert_exporter": "python",
   "pygments_lexer": "ipython3",
   "version": "3.9.12"
  }
 },
 "nbformat": 4,
 "nbformat_minor": 5
}
