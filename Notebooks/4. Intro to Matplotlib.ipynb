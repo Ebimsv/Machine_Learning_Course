{
 "cells": [
  {
   "cell_type": "markdown",
   "id": "09e970ee-0e94-432a-bd80-ac54a5312cd2",
   "metadata": {
    "tags": []
   },
   "source": [
    "# Matplotlib"
   ]
  },
  {
   "cell_type": "code",
   "execution_count": 3,
   "id": "4edae9f6-ade9-4dea-8661-d8eb400c53b3",
   "metadata": {},
   "outputs": [],
   "source": [
    "import matplotlib as mpl\n",
    "import matplotlib.pyplot as plt\n",
    "import numpy as np"
   ]
  },
  {
   "cell_type": "markdown",
   "id": "df40f39e-28dd-492a-8919-44844608ba43",
   "metadata": {},
   "source": [
    "### plot "
   ]
  },
  {
   "cell_type": "code",
   "execution_count": 1,
   "id": "03ba88ef-7df7-4f98-abcf-950ef29fe48b",
   "metadata": {},
   "outputs": [],
   "source": [
    "x = [1, 2, 3, 4, 5]\n",
    "y = [2, 4, 6, 8, 10]\n",
    "\n"
   ]
  },
  {
   "cell_type": "markdown",
   "id": "b62a57aa-d69a-410a-838b-6e9ccdaa3962",
   "metadata": {},
   "source": [
    "### Plot $y=x^2+5$ line"
   ]
  },
  {
   "cell_type": "code",
   "execution_count": null,
   "id": "e619ab5d-2337-4adc-a3cc-05fae82dfdbf",
   "metadata": {},
   "outputs": [],
   "source": []
  },
  {
   "cell_type": "markdown",
   "id": "b0077ef4-b47c-496f-897a-dbbe24bbfaa0",
   "metadata": {},
   "source": [
    "### Plot sqrt(a*x)"
   ]
  },
  {
   "cell_type": "code",
   "execution_count": 86,
   "id": "3549654d-d4ce-47a9-8edc-3cac91745460",
   "metadata": {},
   "outputs": [],
   "source": []
  },
  {
   "cell_type": "code",
   "execution_count": null,
   "id": "f7125e84-97cd-4d79-b3c5-fc4080f7f278",
   "metadata": {},
   "outputs": [],
   "source": []
  },
  {
   "cell_type": "code",
   "execution_count": null,
   "id": "fa1bd232-d1d5-4936-9e0d-8191165ef85d",
   "metadata": {},
   "outputs": [],
   "source": [
    "\n",
    "\n"
   ]
  },
  {
   "cell_type": "code",
   "execution_count": null,
   "id": "2fd28a84-3ec2-4574-86f0-529ac92934d4",
   "metadata": {},
   "outputs": [],
   "source": []
  },
  {
   "cell_type": "markdown",
   "id": "42a9fb98-1972-4d4c-8331-915151341057",
   "metadata": {},
   "source": [
    "### Plot `cos()` function"
   ]
  },
  {
   "cell_type": "code",
   "execution_count": 4,
   "id": "09381e04-dde2-45f3-a2d7-c42d053d5b82",
   "metadata": {},
   "outputs": [],
   "source": [
    "x = np.linspace(0, 10, 1000)\n"
   ]
  },
  {
   "cell_type": "markdown",
   "id": "786b3bc7-1005-4409-b6ff-84a504080721",
   "metadata": {
    "tags": []
   },
   "source": [
    "## Plot properties"
   ]
  },
  {
   "cell_type": "markdown",
   "id": "b673923e-6e2d-4529-8823-4d78b3b18d5b",
   "metadata": {},
   "source": [
    "### linestyles"
   ]
  },
  {
   "cell_type": "markdown",
   "id": "d371790a-02a4-4a71-bd48-5907685b47c5",
   "metadata": {},
   "source": [
    "- https://matplotlib.org/stable/gallery/lines_bars_and_markers/linestyles.html"
   ]
  },
  {
   "cell_type": "code",
   "execution_count": 5,
   "id": "20f2f9c1-ad1b-4fc6-b8cf-ac51c57a0f5c",
   "metadata": {},
   "outputs": [],
   "source": [
    "\n"
   ]
  },
  {
   "cell_type": "markdown",
   "id": "62297ff2-a77d-4e78-828a-866d2188e22c",
   "metadata": {},
   "source": [
    "### color"
   ]
  },
  {
   "cell_type": "code",
   "execution_count": 6,
   "id": "cd477dcb-0968-478c-ac4b-6373ebb0ff1d",
   "metadata": {},
   "outputs": [],
   "source": [
    "\n",
    "\n"
   ]
  },
  {
   "cell_type": "markdown",
   "id": "d58365be-967a-45c1-b913-61b42e785b6f",
   "metadata": {
    "tags": []
   },
   "source": [
    "## marker"
   ]
  },
  {
   "cell_type": "markdown",
   "id": "141a68b1-7e35-40bf-a97c-20f89197450a",
   "metadata": {},
   "source": [
    "- https://matplotlib.org/stable/gallery/lines_bars_and_markers/marker_reference.html"
   ]
  },
  {
   "cell_type": "code",
   "execution_count": null,
   "id": "66c67315-55b4-4f2d-aaf7-845db6124fad",
   "metadata": {},
   "outputs": [],
   "source": []
  },
  {
   "cell_type": "markdown",
   "id": "be56eb38-9aba-45bc-83f3-211997e9b8d2",
   "metadata": {},
   "source": [
    "### title and xlabel, ylabel"
   ]
  },
  {
   "cell_type": "code",
   "execution_count": null,
   "id": "a718c1b4-ae84-4576-a5c0-4d87633614eb",
   "metadata": {},
   "outputs": [],
   "source": []
  },
  {
   "cell_type": "code",
   "execution_count": null,
   "id": "afa1c1b4-1563-4b1b-b37c-bd408f30a05c",
   "metadata": {},
   "outputs": [],
   "source": []
  },
  {
   "cell_type": "markdown",
   "id": "074ee3b8-cf36-418e-b7ae-c579cc97ac56",
   "metadata": {},
   "source": [
    "## scatter plot"
   ]
  },
  {
   "cell_type": "code",
   "execution_count": null,
   "id": "698ecdee-6387-446f-ab3d-4c774846c985",
   "metadata": {},
   "outputs": [],
   "source": []
  }
 ],
 "metadata": {
  "kernelspec": {
   "display_name": "Python 3 (ipykernel)",
   "language": "python",
   "name": "python3"
  },
  "language_info": {
   "codemirror_mode": {
    "name": "ipython",
    "version": 3
   },
   "file_extension": ".py",
   "mimetype": "text/x-python",
   "name": "python",
   "nbconvert_exporter": "python",
   "pygments_lexer": "ipython3",
   "version": "3.9.12"
  }
 },
 "nbformat": 4,
 "nbformat_minor": 5
}
