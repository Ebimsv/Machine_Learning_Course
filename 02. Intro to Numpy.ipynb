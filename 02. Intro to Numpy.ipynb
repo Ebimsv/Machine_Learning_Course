{
 "cells": [
  {
   "cell_type": "markdown",
   "id": "8acd5af4-adb4-4498-9691-590fdd011e5e",
   "metadata": {
    "tags": []
   },
   "source": [
    "# 1. Numpy Arrays"
   ]
  },
  {
   "cell_type": "markdown",
   "id": "99b78458-85e1-478f-9baa-aec5f115e866",
   "metadata": {},
   "source": [
    "Arrays are the main object in NumPy and are used to **store and manipulate** large sets of numerical data efficiently.   \n",
    "In NumPy, arrays are represented by the **ndarray class**, which is a multidimensional array.\n",
    "\n",
    "One of the key advantages of NumPy arrays over Python lists is that NumPy arrays are **homogeneous**, meaning they can only contain elements of the same data type.   \n",
    "This allows NumPy to perform operations on arrays **much faster than Python** can on lists."
   ]
  },
  {
   "cell_type": "markdown",
   "id": "94574a06",
   "metadata": {},
   "source": [
    "## 1-1. Creating Arrays\n",
    "To create a NumPy array, you can use the `array()` function and pass in a **Python list or tuple of numbers**."
   ]
  },
  {
   "cell_type": "markdown",
   "id": "b257f194-0fa6-45cd-9bcb-a9c17b22c0a3",
   "metadata": {},
   "source": [
    "### Scalar (0-dimensional array):\n",
    "A scalar in NumPy is a single value, technically a 0-dimensional array."
   ]
  },
  {
   "cell_type": "code",
   "execution_count": 118,
   "id": "d6acea45",
   "metadata": {},
   "outputs": [
    {
     "name": "stdout",
     "output_type": "stream",
     "text": [
      "42\n"
     ]
    }
   ],
   "source": [
    "import numpy as np\n",
    "\n",
    "scalar = np.array(42)\n",
    "print(scalar)"
   ]
  },
  {
   "cell_type": "markdown",
   "id": "7b242615",
   "metadata": {},
   "source": [
    "### 1D Vector:\n",
    "A 1D vector is a simple array with a single row of elements."
   ]
  },
  {
   "cell_type": "code",
   "execution_count": 119,
   "id": "f0c28bb1",
   "metadata": {},
   "outputs": [
    {
     "name": "stdout",
     "output_type": "stream",
     "text": [
      "[1 2 3 4]\n"
     ]
    }
   ],
   "source": [
    "vector = np.array([1, 2, 3, 4])\n",
    "print(vector)"
   ]
  },
  {
   "cell_type": "markdown",
   "id": "7e0e2083",
   "metadata": {},
   "source": [
    "### 2D Vector (Matrix):\n",
    "A 2D vector or matrix consists of rows and columns, representing data in two dimensions."
   ]
  },
  {
   "cell_type": "code",
   "execution_count": 120,
   "id": "c5c2898c-3657-4f1b-9847-b1f3f2bc3faa",
   "metadata": {},
   "outputs": [
    {
     "name": "stdout",
     "output_type": "stream",
     "text": [
      "[[1 2]\n",
      " [3 4]\n",
      " [5 6]]\n"
     ]
    }
   ],
   "source": [
    "matrix = np.array([[1, 2], [3, 4], [5, 6]])\n",
    "print(matrix)"
   ]
  },
  {
   "cell_type": "markdown",
   "id": "ef8d75ec",
   "metadata": {},
   "source": [
    "### 3D Matrix:\n",
    "A 3D matrix extends the concept to three dimensions, like a cube of numbers."
   ]
  },
  {
   "cell_type": "code",
   "execution_count": 121,
   "id": "9eb6fb46",
   "metadata": {},
   "outputs": [
    {
     "name": "stdout",
     "output_type": "stream",
     "text": [
      "[[[1 2]\n",
      "  [3 4]]\n",
      "\n",
      " [[5 6]\n",
      "  [7 8]]]\n"
     ]
    }
   ],
   "source": [
    "matrix_3d = np.array([[[1, 2], [3, 4]], [[5, 6], [7, 8]]])\n",
    "print(matrix_3d)"
   ]
  },
  {
   "cell_type": "markdown",
   "id": "64b083e2",
   "metadata": {},
   "source": [
    "## 1-2. Array Attributes\n",
    "NumPy arrays come with several attributes that give us information about the array’s structure:\n",
    "\n",
    "- `ndim`: Returns the number of dimensions (axes) of the array.  \n",
    "- `shape`: Returns a tuple representing the size of the array in each dimension.  \n",
    "- `size`: Returns the total number of elements in the array.  \n",
    "- `dtype`: Returns the data type of the elements in the array.  \n",
    "\n",
    "\n",
    "Example:"
   ]
  },
  {
   "cell_type": "code",
   "execution_count": 5,
   "id": "b0d7c7ca",
   "metadata": {},
   "outputs": [
    {
     "name": "stdout",
     "output_type": "stream",
     "text": [
      "2\n",
      "(3, 2)\n",
      "6\n",
      "int64\n"
     ]
    }
   ],
   "source": [
    "print(matrix.ndim)    # Number of dimensions\n",
    "print(matrix.shape)   # Shape of the array\n",
    "print(matrix.size)    # Total number of elements\n",
    "print(matrix.dtype)   # Data type of elements"
   ]
  },
  {
   "cell_type": "markdown",
   "id": "22ec4edd",
   "metadata": {},
   "source": [
    "## 1-3. Array Indexing and Slicing\n",
    "Indexing and slicing are essential for accessing specific elements or subarrays within a NumPy array:\n",
    "\n",
    "- **Indexing**: Accessing a specific element in an array."
   ]
  },
  {
   "cell_type": "code",
   "execution_count": 122,
   "id": "77bd362b",
   "metadata": {},
   "outputs": [
    {
     "name": "stdout",
     "output_type": "stream",
     "text": [
      "3\n"
     ]
    }
   ],
   "source": [
    "element = matrix[1, 0]  # Access element at row 1, column 0\n",
    "print(element)"
   ]
  },
  {
   "cell_type": "markdown",
   "id": "d686d3ef",
   "metadata": {},
   "source": [
    "- **Slicing**: Extracting subarrays using the colon : operator."
   ]
  },
  {
   "cell_type": "code",
   "execution_count": 7,
   "id": "11d8d904",
   "metadata": {},
   "outputs": [
    {
     "name": "stdout",
     "output_type": "stream",
     "text": [
      "[[2]\n",
      " [4]]\n"
     ]
    }
   ],
   "source": [
    "sub_array = matrix[:2, 1:]  # Get a subarray from first two rows and second column onward\n",
    "print(sub_array)"
   ]
  },
  {
   "cell_type": "markdown",
   "id": "8a2acdfb",
   "metadata": {},
   "source": [
    "## 1-4. Array Data Types\n",
    "NumPy arrays can store elements of various data types.   \n",
    "You can specify the data type explicitly **when creating an array**, or NumPy can infer it automatically. Common data types include `int`, `float`, and `complex`.\n",
    "\n",
    "**Example:**"
   ]
  },
  {
   "cell_type": "code",
   "execution_count": 8,
   "id": "a480cdf9",
   "metadata": {},
   "outputs": [
    {
     "name": "stdout",
     "output_type": "stream",
     "text": [
      "[1.5 2.3 3.7]\n",
      "float64\n"
     ]
    }
   ],
   "source": [
    "float_array = np.array([1.5, 2.3, 3.7], dtype=float)\n",
    "print(float_array)\n",
    "print(float_array.dtype)  # Output: float64"
   ]
  },
  {
   "cell_type": "markdown",
   "id": "41b651d1",
   "metadata": {},
   "source": [
    "# 2. Array Manipulation in NumPy"
   ]
  },
  {
   "cell_type": "markdown",
   "id": "f074eea5",
   "metadata": {},
   "source": [
    "Array manipulation allowing you to **reshape**, **combine**, and **perform operations on arrays** efficiently. Here's how we can use some common array manipulation techniques:"
   ]
  },
  {
   "cell_type": "markdown",
   "id": "cea19b83",
   "metadata": {},
   "source": [
    "## 2-1. Reshaping Arrays  "
   ]
  },
  {
   "cell_type": "markdown",
   "id": "911c7b8d",
   "metadata": {},
   "source": [
    "Reshaping is the process of changing the shape of an array without altering its data.   \n",
    "This is useful when you need to reformat data to fit a specific algorithm or visualization."
   ]
  },
  {
   "cell_type": "markdown",
   "id": "fa81faaf",
   "metadata": {},
   "source": [
    "- **Reshape**: Changes the shape of an array to the desired dimensions. The total number of elements must remain the same."
   ]
  },
  {
   "cell_type": "code",
   "execution_count": 9,
   "id": "04955c59",
   "metadata": {},
   "outputs": [
    {
     "name": "stdout",
     "output_type": "stream",
     "text": [
      "[[1 2 3]\n",
      " [4 5 6]]\n"
     ]
    }
   ],
   "source": [
    "import numpy as np\n",
    "\n",
    "array = np.array([1, 2, 3, 4, 5, 6])\n",
    "reshaped_array = array.reshape(2, 3)  # Reshaped to 2 rows and 3 columns\n",
    "print(reshaped_array)"
   ]
  },
  {
   "cell_type": "markdown",
   "id": "e978ff6b",
   "metadata": {},
   "source": [
    "- **Flatten**: Converts a multi-dimensional array into a 1D array."
   ]
  },
  {
   "cell_type": "code",
   "execution_count": 10,
   "id": "20ace5d3",
   "metadata": {},
   "outputs": [
    {
     "name": "stdout",
     "output_type": "stream",
     "text": [
      "[1 2 3 4 5 6]\n"
     ]
    }
   ],
   "source": [
    "matrix = np.array([[1, 2, 3], [4, 5, 6]])\n",
    "flat_array = matrix.flatten()\n",
    "print(flat_array)"
   ]
  },
  {
   "cell_type": "markdown",
   "id": "2751dc88",
   "metadata": {},
   "source": [
    "- **Resize**: Similar to reshape, but modifies the original array in-place."
   ]
  },
  {
   "cell_type": "code",
   "execution_count": 11,
   "id": "86f3bbb3",
   "metadata": {},
   "outputs": [
    {
     "name": "stdout",
     "output_type": "stream",
     "text": [
      "[[1 2]\n",
      " [3 4]\n",
      " [5 6]]\n"
     ]
    }
   ],
   "source": [
    "matrix.resize(3, 2)\n",
    "print(matrix)"
   ]
  },
  {
   "cell_type": "markdown",
   "id": "fa84a396",
   "metadata": {},
   "source": [
    "## 2-2. Joining and Splitting Arrays \n",
    "\n",
    "Combining and splitting arrays allows you to manage and organize your data more flexibly."
   ]
  },
  {
   "cell_type": "markdown",
   "id": "71105da3",
   "metadata": {},
   "source": [
    "- **Concatenate**: Combines two or more arrays along an existing axis."
   ]
  },
  {
   "cell_type": "code",
   "execution_count": 12,
   "id": "331f5559",
   "metadata": {},
   "outputs": [
    {
     "name": "stdout",
     "output_type": "stream",
     "text": [
      "[1 2 3 4 5 6]\n"
     ]
    }
   ],
   "source": [
    "array1 = np.array([1, 2, 3])\n",
    "array2 = np.array([4, 5, 6])\n",
    "joined_array = np.concatenate((array1, array2))\n",
    "print(joined_array)"
   ]
  },
  {
   "cell_type": "markdown",
   "id": "23d66f52",
   "metadata": {},
   "source": [
    "- **Stack**: Stacks arrays along a new axis.   \n",
    "You can stack along rows (vstack), columns (hstack), or other dimensions."
   ]
  },
  {
   "cell_type": "code",
   "execution_count": 13,
   "id": "17d433f8",
   "metadata": {},
   "outputs": [
    {
     "name": "stdout",
     "output_type": "stream",
     "text": [
      "[[1 2]\n",
      " [3 4]\n",
      " [5 6]\n",
      " [7 8]]\n"
     ]
    }
   ],
   "source": [
    "matrix1 = np.array([[1, 2], [3, 4]])\n",
    "matrix2 = np.array([[5, 6], [7, 8]])\n",
    "stacked_array = np.vstack((matrix1, matrix2))  # Stack along rows\n",
    "print(stacked_array)"
   ]
  },
  {
   "cell_type": "code",
   "execution_count": 15,
   "id": "70521f85",
   "metadata": {},
   "outputs": [
    {
     "name": "stdout",
     "output_type": "stream",
     "text": [
      "[[1 2 5 6]\n",
      " [3 4 7 8]]\n"
     ]
    }
   ],
   "source": [
    "matrix1 = np.array([[1, 2], [3, 4]])\n",
    "matrix2 = np.array([[5, 6], [7, 8]])\n",
    "stacked_array = np.hstack((matrix1, matrix2))  # Stack along columns\n",
    "print(stacked_array)"
   ]
  },
  {
   "cell_type": "markdown",
   "id": "5215b87b",
   "metadata": {},
   "source": [
    "- **Split**: Divides an array into multiple sub-arrays.   \n",
    "You can specify the number of equal parts or specific indices for splitting."
   ]
  },
  {
   "cell_type": "code",
   "execution_count": 16,
   "id": "3a329dbd",
   "metadata": {},
   "outputs": [
    {
     "name": "stdout",
     "output_type": "stream",
     "text": [
      "[array([1, 2]), array([3, 4]), array([5, 6])]\n"
     ]
    }
   ],
   "source": [
    "array = np.array([1, 2, 3, 4, 5, 6])\n",
    "split_array = np.array_split(array, 3)\n",
    "print(split_array)"
   ]
  },
  {
   "cell_type": "markdown",
   "id": "aa8fdac2",
   "metadata": {},
   "source": [
    "## 2-3. Array Broadcasting  "
   ]
  },
  {
   "cell_type": "markdown",
   "id": "4c14d0a8",
   "metadata": {},
   "source": [
    "Broadcasting allows NumPy to perform arithmetic operations on arrays of different shapes.   \n",
    "This is done by \"stretching\" the smaller array to match the shape of the larger one, without actually copying the data.\n",
    "\n",
    "**Broadcasting Rules:**\n",
    "\n",
    "- Arrays with fewer dimensions are prepended with ones to match the shape of the larger array.\n",
    "- Arrays are compatible if, for each dimension, the size of the dimension is the same or one of the arrays has size 1.  \n",
    "Example:"
   ]
  },
  {
   "cell_type": "code",
   "execution_count": 17,
   "id": "d887e1e1",
   "metadata": {},
   "outputs": [
    {
     "name": "stdout",
     "output_type": "stream",
     "text": [
      "[[11 12 13]\n",
      " [21 22 23]\n",
      " [31 32 33]]\n"
     ]
    }
   ],
   "source": [
    "array1 = np.array([1, 2, 3])\n",
    "array2 = np.array([[10], [20], [30]])\n",
    "broadcasted_sum = array1 + array2\n",
    "print(broadcasted_sum)"
   ]
  },
  {
   "cell_type": "markdown",
   "id": "5c38e5f5",
   "metadata": {},
   "source": [
    "Here, array1 is broadcast across array2, allowing element-wise addition without explicitly reshaping the arrays."
   ]
  },
  {
   "cell_type": "markdown",
   "id": "e8d7a70d",
   "metadata": {},
   "source": [
    "# 3. Mathematical Operations with Arrays"
   ]
  },
  {
   "cell_type": "markdown",
   "id": "4f0241bd",
   "metadata": {},
   "source": [
    "NumPy provides a wide range of mathematical functions to perform operations on arrays efficiently. Here's an overview of some key mathematical operations you can perform using NumPy, along with detailed examples."
   ]
  },
  {
   "cell_type": "markdown",
   "id": "a7f52b80",
   "metadata": {},
   "source": [
    "## 3-1. Basic Arithmetic Operations    \n",
    "NumPy allows you to perform element-wise arithmetic operations directly on arrays, which is both intuitive and efficient."
   ]
  },
  {
   "cell_type": "markdown",
   "id": "e127bf26",
   "metadata": {},
   "source": [
    "- **Addition**: Adding two arrays element-wise."
   ]
  },
  {
   "cell_type": "code",
   "execution_count": 18,
   "id": "e71b46d2",
   "metadata": {},
   "outputs": [
    {
     "name": "stdout",
     "output_type": "stream",
     "text": [
      "[5 7 9]\n"
     ]
    }
   ],
   "source": [
    "import numpy as np\n",
    "\n",
    "array1 = np.array([1, 2, 3])\n",
    "array2 = np.array([4, 5, 6])\n",
    "sum_array = array1 + array2\n",
    "print(sum_array)  "
   ]
  },
  {
   "cell_type": "markdown",
   "id": "607a1cc9",
   "metadata": {},
   "source": [
    "- **Subtraction**: Subtracting one array from another element-wise."
   ]
  },
  {
   "cell_type": "code",
   "execution_count": 19,
   "id": "3d66662f",
   "metadata": {},
   "outputs": [
    {
     "name": "stdout",
     "output_type": "stream",
     "text": [
      "[3 3 3]\n"
     ]
    }
   ],
   "source": [
    "diff_array = array2 - array1\n",
    "print(diff_array) "
   ]
  },
  {
   "cell_type": "markdown",
   "id": "3cca1b13",
   "metadata": {},
   "source": [
    "- **Multiplication**: Multiplying two arrays element-wise."
   ]
  },
  {
   "cell_type": "code",
   "execution_count": 20,
   "id": "c405c409",
   "metadata": {},
   "outputs": [
    {
     "name": "stdout",
     "output_type": "stream",
     "text": [
      "[ 4 10 18]\n"
     ]
    }
   ],
   "source": [
    "prod_array = array1 * array2\n",
    "print(prod_array) "
   ]
  },
  {
   "cell_type": "markdown",
   "id": "2394385d",
   "metadata": {},
   "source": [
    "- **Division**: Dividing one array by another element-wise."
   ]
  },
  {
   "cell_type": "code",
   "execution_count": 21,
   "id": "637e32ad",
   "metadata": {},
   "outputs": [
    {
     "name": "stdout",
     "output_type": "stream",
     "text": [
      "[4.  2.5 2. ]\n"
     ]
    }
   ],
   "source": [
    "div_array = array2 / array1\n",
    "print(div_array) "
   ]
  },
  {
   "cell_type": "markdown",
   "id": "f27c23b7",
   "metadata": {},
   "source": [
    "- **Exponentiation**: Raising each element of an array to a power."
   ]
  },
  {
   "cell_type": "code",
   "execution_count": 22,
   "id": "13a22831",
   "metadata": {},
   "outputs": [
    {
     "name": "stdout",
     "output_type": "stream",
     "text": [
      "[1 4 9]\n"
     ]
    }
   ],
   "source": [
    "exp_array = array1 ** 2\n",
    "print(exp_array) "
   ]
  },
  {
   "cell_type": "markdown",
   "id": "8a75ac22",
   "metadata": {},
   "source": [
    "## 3-2. Universal Functions (ufuncs)  \n",
    "Universal functions (ufuncs) are functions that operate element-wise on arrays, providing fast and efficient computation.  \n",
    "NumPy has many built-in ufuncs for various operations, such as trigonometric, logarithmic, and exponential functions."
   ]
  },
  {
   "cell_type": "markdown",
   "id": "a729c1b9",
   "metadata": {},
   "source": [
    "- Sine Function:"
   ]
  },
  {
   "cell_type": "code",
   "execution_count": 23,
   "id": "5955aa6b",
   "metadata": {},
   "outputs": [
    {
     "name": "stdout",
     "output_type": "stream",
     "text": [
      "[0.0000000e+00 1.0000000e+00 1.2246468e-16]\n"
     ]
    }
   ],
   "source": [
    "angles = np.array([0, np.pi/2, np.pi])\n",
    "sine_values = np.sin(angles)\n",
    "print(sine_values)  "
   ]
  },
  {
   "cell_type": "markdown",
   "id": "b803880d",
   "metadata": {},
   "source": [
    "- **Exponential Function**:"
   ]
  },
  {
   "cell_type": "code",
   "execution_count": 24,
   "id": "87905d8c",
   "metadata": {},
   "outputs": [
    {
     "name": "stdout",
     "output_type": "stream",
     "text": [
      "[ 2.71828183  7.3890561  20.08553692]\n"
     ]
    }
   ],
   "source": [
    "values = np.array([1, 2, 3])\n",
    "exp_values = np.exp(values)\n",
    "print(exp_values)"
   ]
  },
  {
   "cell_type": "markdown",
   "id": "ac0efafb",
   "metadata": {},
   "source": [
    "- **Logarithm Function**:"
   ]
  },
  {
   "cell_type": "code",
   "execution_count": 25,
   "id": "c42c6e9d",
   "metadata": {},
   "outputs": [
    {
     "name": "stdout",
     "output_type": "stream",
     "text": [
      "[0.         0.69314718 1.09861229]\n"
     ]
    }
   ],
   "source": [
    "log_values = np.log(values)\n",
    "print(log_values)"
   ]
  },
  {
   "cell_type": "markdown",
   "id": "c7f2d63f",
   "metadata": {},
   "source": [
    "## 3-3. Statistical Functions    \n",
    "NumPy provides functions to perform statistical operations on arrays, such as calculating the mean, median, standard deviation, and more."
   ]
  },
  {
   "cell_type": "markdown",
   "id": "84600ee1",
   "metadata": {},
   "source": [
    "- **Mean**: The average of the array elements."
   ]
  },
  {
   "cell_type": "code",
   "execution_count": 26,
   "id": "bba6d626",
   "metadata": {},
   "outputs": [
    {
     "name": "stdout",
     "output_type": "stream",
     "text": [
      "30.0\n"
     ]
    }
   ],
   "source": [
    "data = np.array([10, 20, 30, 40, 50])\n",
    "mean_value = np.mean(data)\n",
    "print(mean_value) "
   ]
  },
  {
   "cell_type": "markdown",
   "id": "b07212c0",
   "metadata": {},
   "source": [
    "- **Median**: The middle value of the array elements."
   ]
  },
  {
   "cell_type": "code",
   "execution_count": 27,
   "id": "e0f0f0d2",
   "metadata": {},
   "outputs": [
    {
     "name": "stdout",
     "output_type": "stream",
     "text": [
      "30.0\n"
     ]
    }
   ],
   "source": [
    "median_value = np.median(data)\n",
    "print(median_value) "
   ]
  },
  {
   "cell_type": "markdown",
   "id": "4fdb62a7",
   "metadata": {},
   "source": [
    "- **Standard Deviation**: A measure of the spread of the array elements."
   ]
  },
  {
   "cell_type": "code",
   "execution_count": 28,
   "id": "314f1a7d",
   "metadata": {},
   "outputs": [
    {
     "name": "stdout",
     "output_type": "stream",
     "text": [
      "14.142135623730951\n"
     ]
    }
   ],
   "source": [
    "std_value = np.std(data)\n",
    "print(std_value)"
   ]
  },
  {
   "cell_type": "markdown",
   "id": "31f08569",
   "metadata": {},
   "source": [
    "- **Sum**: The total sum of the array elements."
   ]
  },
  {
   "cell_type": "code",
   "execution_count": 29,
   "id": "7c71f5b1",
   "metadata": {},
   "outputs": [
    {
     "name": "stdout",
     "output_type": "stream",
     "text": [
      "150\n"
     ]
    }
   ],
   "source": [
    "sum_value = np.sum(data)\n",
    "print(sum_value) "
   ]
  },
  {
   "cell_type": "markdown",
   "id": "67005e83",
   "metadata": {},
   "source": [
    "- **Max and Min**: The maximum and minimum values in the array."
   ]
  },
  {
   "cell_type": "code",
   "execution_count": 30,
   "id": "90d09375",
   "metadata": {},
   "outputs": [
    {
     "name": "stdout",
     "output_type": "stream",
     "text": [
      "50\n",
      "10\n"
     ]
    }
   ],
   "source": [
    "max_value = np.max(data)\n",
    "min_value = np.min(data)\n",
    "print(max_value) \n",
    "print(min_value)  "
   ]
  },
  {
   "cell_type": "markdown",
   "id": "4ae0f153",
   "metadata": {},
   "source": [
    "## 3-4. Linear Algebra with NumPy  \n",
    "NumPy also includes powerful functions for performing linear algebra operations, which are essential for many scientific and engineering applications."
   ]
  },
  {
   "cell_type": "markdown",
   "id": "ef461b44",
   "metadata": {},
   "source": [
    "- **Dot Product**: The dot product of two arrays."
   ]
  },
  {
   "cell_type": "code",
   "execution_count": 31,
   "id": "e6646941",
   "metadata": {},
   "outputs": [
    {
     "name": "stdout",
     "output_type": "stream",
     "text": [
      "32\n"
     ]
    }
   ],
   "source": [
    "vector1 = np.array([1, 2, 3])\n",
    "vector2 = np.array([4, 5, 6])\n",
    "dot_product = np.dot(vector1, vector2)\n",
    "print(dot_product) "
   ]
  },
  {
   "cell_type": "markdown",
   "id": "8bbe1ea7",
   "metadata": {},
   "source": [
    "- **Matrix Multiplication**: Multiplying two 2D arrays (matrices)."
   ]
  },
  {
   "cell_type": "code",
   "execution_count": 32,
   "id": "d974b0ed",
   "metadata": {},
   "outputs": [
    {
     "name": "stdout",
     "output_type": "stream",
     "text": [
      "[[19 22]\n",
      " [43 50]]\n"
     ]
    }
   ],
   "source": [
    "matrix1 = np.array([[1, 2], [3, 4]])\n",
    "matrix2 = np.array([[5, 6], [7, 8]])\n",
    "\n",
    "matrix_product = np.dot(matrix1, matrix2)\n",
    "print(matrix_product)"
   ]
  },
  {
   "cell_type": "markdown",
   "id": "f36ec698",
   "metadata": {},
   "source": [
    "- **Determinant**: The determinant of a square matrix."
   ]
  },
  {
   "cell_type": "code",
   "execution_count": 33,
   "id": "a6c70cc2",
   "metadata": {},
   "outputs": [
    {
     "name": "stdout",
     "output_type": "stream",
     "text": [
      "-2.0000000000000004\n"
     ]
    }
   ],
   "source": [
    "det_value = np.linalg.det(matrix1)\n",
    "print(det_value)"
   ]
  },
  {
   "cell_type": "markdown",
   "id": "19c9a130",
   "metadata": {},
   "source": [
    "- **Inverse**: The inverse of a square matrix."
   ]
  },
  {
   "cell_type": "code",
   "execution_count": 34,
   "id": "afa16cc0",
   "metadata": {},
   "outputs": [
    {
     "name": "stdout",
     "output_type": "stream",
     "text": [
      "[[-2.   1. ]\n",
      " [ 1.5 -0.5]]\n"
     ]
    }
   ],
   "source": [
    "inv_matrix = np.linalg.inv(matrix1)\n",
    "print(inv_matrix)"
   ]
  },
  {
   "cell_type": "markdown",
   "id": "967f10ab",
   "metadata": {},
   "source": [
    "- **Eigenvalues and Eigenvectors**: Calculation of eigenvalues and eigenvectors."
   ]
  },
  {
   "cell_type": "code",
   "execution_count": 36,
   "id": "723266b3",
   "metadata": {},
   "outputs": [
    {
     "name": "stdout",
     "output_type": "stream",
     "text": [
      "Eigenvalues: [-0.37228132  5.37228132]\n",
      "Eigenvectors: [[-0.82456484 -0.41597356]\n",
      " [ 0.56576746 -0.90937671]]\n"
     ]
    }
   ],
   "source": [
    "eigenvalues, eigenvectors = np.linalg.eig(matrix1)\n",
    "\n",
    "print(\"Eigenvalues:\", eigenvalues)\n",
    "print(\"Eigenvectors:\", eigenvectors)"
   ]
  },
  {
   "cell_type": "markdown",
   "id": "4756f083",
   "metadata": {},
   "source": [
    "# 4. Advanced Array Operations"
   ]
  },
  {
   "cell_type": "markdown",
   "id": "f722b64f",
   "metadata": {},
   "source": [
    "Advanced array operations in NumPy allow for more sophisticated data manipulation and access techniques. These operations are crucial for efficiently handling and analyzing complex datasets."
   ]
  },
  {
   "cell_type": "markdown",
   "id": "f53ece38",
   "metadata": {},
   "source": [
    "## 4-1. Fancy Indexing \n",
    "Fancy indexing refers to using arrays of indices to access specific elements of an array.   \n",
    "This technique is useful when you want to select multiple non-contiguous elements or customize the order of elements you access."
   ]
  },
  {
   "cell_type": "markdown",
   "id": "258bc773",
   "metadata": {},
   "source": [
    "- **Basic Fancy Indexing**:"
   ]
  },
  {
   "cell_type": "code",
   "execution_count": 38,
   "id": "a80e08cc",
   "metadata": {},
   "outputs": [
    {
     "name": "stdout",
     "output_type": "stream",
     "text": [
      "[10 30 50]\n"
     ]
    }
   ],
   "source": [
    "import numpy as np\n",
    "\n",
    "array = np.array([10, 20, 30, 40, 50])\n",
    "indices = np.array([0, 2, 4])\n",
    "selected_elements = array[indices]\n",
    "\n",
    "print(selected_elements)\n"
   ]
  },
  {
   "cell_type": "markdown",
   "id": "4f9decab",
   "metadata": {},
   "source": [
    "- **Fancy Indexing with 2D Arrays**:"
   ]
  },
  {
   "cell_type": "code",
   "execution_count": 40,
   "id": "ceccf769",
   "metadata": {},
   "outputs": [
    {
     "name": "stdout",
     "output_type": "stream",
     "text": [
      "[20 30 60]\n"
     ]
    }
   ],
   "source": [
    "matrix = np.array([[10, 20], [30, 40], [50, 60]])\n",
    "row_indices = np.array([0, 1, 2])\n",
    "col_indices = np.array([1, 0, 1])\n",
    "selected_elements = matrix[row_indices, col_indices]\n",
    "\n",
    "print(selected_elements)"
   ]
  },
  {
   "cell_type": "markdown",
   "id": "14949186",
   "metadata": {},
   "source": [
    "In this example, we access the elements at positions (0, 1), (1, 0), and (2, 1)."
   ]
  },
  {
   "cell_type": "markdown",
   "id": "5d339cdd",
   "metadata": {},
   "source": [
    "- **Modifying Elements with Fancy Indexing**:"
   ]
  },
  {
   "cell_type": "code",
   "execution_count": 41,
   "id": "50d07d98",
   "metadata": {},
   "outputs": [
    {
     "name": "stdout",
     "output_type": "stream",
     "text": [
      "[100  20 300  40 500]\n"
     ]
    }
   ],
   "source": [
    "array[indices] = [100, 300, 500]\n",
    "print(array)"
   ]
  },
  {
   "cell_type": "markdown",
   "id": "89e83f94",
   "metadata": {},
   "source": [
    "## 4-2. Boolean Indexing    \n",
    "Boolean indexing allows you to select elements from an array based on conditions. This is particularly useful for filtering data."
   ]
  },
  {
   "cell_type": "markdown",
   "id": "5c07fbcf",
   "metadata": {},
   "source": [
    "- **Basic Boolean Indexing**:"
   ]
  },
  {
   "cell_type": "code",
   "execution_count": 43,
   "id": "e6d5bb67",
   "metadata": {},
   "outputs": [
    {
     "name": "stdout",
     "output_type": "stream",
     "text": [
      "[40 50]\n"
     ]
    }
   ],
   "source": [
    "array = np.array([10, 20, 30, 40, 50])\n",
    "boolean_mask = array > 30\n",
    "selected_elements = array[boolean_mask]\n",
    "\n",
    "print(selected_elements)"
   ]
  },
  {
   "cell_type": "markdown",
   "id": "97fcc117",
   "metadata": {},
   "source": [
    "- **Boolean Indexing with 2D Arrays**:"
   ]
  },
  {
   "cell_type": "code",
   "execution_count": 44,
   "id": "bf226c94",
   "metadata": {},
   "outputs": [
    {
     "name": "stdout",
     "output_type": "stream",
     "text": [
      "[40 50 60]\n"
     ]
    }
   ],
   "source": [
    "matrix = np.array([[10, 20], [30, 40], [50, 60]])\n",
    "boolean_mask = matrix > 30\n",
    "selected_elements = matrix[boolean_mask]\n",
    "print(selected_elements)"
   ]
  },
  {
   "cell_type": "markdown",
   "id": "8ac2becf",
   "metadata": {},
   "source": [
    "- **Combining Conditions**:  \n",
    "    We can combine multiple conditions using logical operators (&,  |,  ~)."
   ]
  },
  {
   "cell_type": "code",
   "execution_count": 45,
   "id": "1d38eb25",
   "metadata": {},
   "outputs": [
    {
     "name": "stdout",
     "output_type": "stream",
     "text": [
      "[30 40]\n"
     ]
    }
   ],
   "source": [
    "combined_mask = (array > 20) & (array < 50)\n",
    "selected_elements = array[combined_mask]\n",
    "print(selected_elements)"
   ]
  },
  {
   "cell_type": "markdown",
   "id": "095677ab",
   "metadata": {},
   "source": [
    "## 4-3. Sorting Arrays    \n",
    "Sorting is a fundamental operation in data analysis. NumPy provides flexible and efficient ways to sort arrays."
   ]
  },
  {
   "cell_type": "markdown",
   "id": "cb27f0c8",
   "metadata": {},
   "source": [
    "- **Sorting a 1D Array:**"
   ]
  },
  {
   "cell_type": "code",
   "execution_count": 46,
   "id": "95d27e17",
   "metadata": {},
   "outputs": [
    {
     "name": "stdout",
     "output_type": "stream",
     "text": [
      "[10 20 30 40 50]\n"
     ]
    }
   ],
   "source": [
    "unsorted_array = np.array([30, 10, 20, 50, 40])\n",
    "sorted_array = np.sort(unsorted_array)\n",
    "print(sorted_array)"
   ]
  },
  {
   "cell_type": "markdown",
   "id": "dd4b96aa",
   "metadata": {},
   "source": [
    "- **Sorting a 2D Array**:  \n",
    "By default, np.sort sorts along the last axis, but you can specify the axis along which to sort."
   ]
  },
  {
   "cell_type": "code",
   "execution_count": 47,
   "id": "47a30b27",
   "metadata": {},
   "outputs": [
    {
     "name": "stdout",
     "output_type": "stream",
     "text": [
      "[[10 20]\n",
      " [30 40]\n",
      " [50 60]]\n"
     ]
    }
   ],
   "source": [
    "matrix = np.array([[30, 20], [10, 40], [50, 60]])\n",
    "sorted_matrix = np.sort(matrix, axis=0)  # Sort along columns\n",
    "print(sorted_matrix)"
   ]
  },
  {
   "cell_type": "markdown",
   "id": "0adb7855",
   "metadata": {},
   "source": [
    "- **To sort along rows:**"
   ]
  },
  {
   "cell_type": "code",
   "execution_count": 48,
   "id": "0a0b0ec1",
   "metadata": {},
   "outputs": [
    {
     "name": "stdout",
     "output_type": "stream",
     "text": [
      "[[20 30]\n",
      " [10 40]\n",
      " [50 60]]\n"
     ]
    }
   ],
   "source": [
    "sorted_matrix = np.sort(matrix, axis=1)  # Sort along rows\n",
    "print(sorted_matrix)\n"
   ]
  },
  {
   "cell_type": "markdown",
   "id": "1b3daffd",
   "metadata": {},
   "source": [
    "- **Argsort**:  \n",
    "np.argsort returns the indices that would sort an array, which is useful when you need the sorted order but want to rearrange elements in another array accordingly."
   ]
  },
  {
   "cell_type": "code",
   "execution_count": 49,
   "id": "6c50c122",
   "metadata": {},
   "outputs": [
    {
     "name": "stdout",
     "output_type": "stream",
     "text": [
      "[1 2 0 4 3]\n",
      "[10 20 30 40 50]\n"
     ]
    }
   ],
   "source": [
    "indices = np.argsort(unsorted_array)\n",
    "sorted_array_using_indices = unsorted_array[indices]\n",
    "print(indices)  # Output: [1 2 0 4 3]\n",
    "print(sorted_array_using_indices) "
   ]
  },
  {
   "cell_type": "markdown",
   "id": "5945fd4f",
   "metadata": {},
   "source": [
    "# 5. Working with Random Numbers in NumPy"
   ]
  },
  {
   "cell_type": "markdown",
   "id": "8e03ca58",
   "metadata": {},
   "source": [
    "NumPy provides a powerful random module for generating random numbers and performing random sampling, which is crucial in simulations, data analysis, and machine learning. Let’s explore some key operations involving random numbers."
   ]
  },
  {
   "cell_type": "markdown",
   "id": "9b53d811",
   "metadata": {},
   "source": [
    "## 5-1. Generating Random Numbers    \n",
    "NumPy allows you to generate different types of random numbers, including uniformly distributed, normally distributed, and integers."
   ]
  },
  {
   "cell_type": "markdown",
   "id": "43bc8822",
   "metadata": {},
   "source": [
    "- **Uniformly Distributed Random Numbers**:  \n",
    "These numbers are drawn from a uniform distribution over a specified interval."
   ]
  },
  {
   "cell_type": "code",
   "execution_count": 54,
   "id": "d8d82154",
   "metadata": {},
   "outputs": [
    {
     "data": {
      "image/png": "[encoded data removed]",
      "text/plain": [
       "<Figure size 640x480 with 1 Axes>"
      ]
     },
     "metadata": {},
     "output_type": "display_data"
    }
   ],
   "source": [
    "import numpy as np\n",
    "import matplotlib.pyplot as plt\n",
    "\n",
    "uniform_randoms = np.random.rand(10000)  # 10000 random numbers between 0 and 1\n",
    "plt.hist(uniform_randoms, bins=15, alpha=0.7, color='green')\n",
    "plt.title(\"Histogram of Uniformly Distributed Random Numbers\")\n",
    "plt.show()"
   ]
  },
  {
   "cell_type": "markdown",
   "id": "02d7bb9c",
   "metadata": {},
   "source": [
    "- **Normally Distributed Random Numbers**:  \n",
    "These numbers are drawn from a normal (Gaussian) distribution with a specified mean and standard deviation.  \n",
    "**Mean = 0, Standard Deviation = 1**"
   ]
  },
  {
   "cell_type": "code",
   "execution_count": 61,
   "id": "72ee533e",
   "metadata": {},
   "outputs": [
    {
     "data": {
      "image/png": "[encoded data removed]",
      "text/plain": [
       "<Figure size 640x480 with 1 Axes>"
      ]
     },
     "metadata": {},
     "output_type": "display_data"
    }
   ],
   "source": [
    "normal_randoms = np.random.randn(10000)  \n",
    "plt.hist(normal_randoms, bins=100, alpha=0.7, color='green')\n",
    "plt.title(\"Histogram of Normally Distributed Random Numbers\")\n",
    "plt.show()"
   ]
  },
  {
   "cell_type": "markdown",
   "id": "1e6e0cc7",
   "metadata": {},
   "source": [
    "- **Random Integers**:  \n",
    "You can generate random integers within a specified range."
   ]
  },
  {
   "cell_type": "code",
   "execution_count": 62,
   "id": "49761d83",
   "metadata": {},
   "outputs": [
    {
     "data": {
      "image/png": "[encoded data removed]",
      "text/plain": [
       "<Figure size 640x480 with 1 Axes>"
      ]
     },
     "metadata": {},
     "output_type": "display_data"
    }
   ],
   "source": [
    "random_integers = np.random.randint(1, 100, size=1000)  # 1000 random integers between 1 and 100\n",
    "plt.hist(random_integers, bins=30, alpha=0.7, color='orange')\n",
    "plt.title(\"Histogram of Random Integers\")\n",
    "plt.show()"
   ]
  },
  {
   "cell_type": "markdown",
   "id": "6e574044",
   "metadata": {},
   "source": [
    "## 5-2. Random Sampling    \n",
    "Random sampling involves selecting a subset of data randomly, which is useful in statistical analysis and machine learning."
   ]
  },
  {
   "cell_type": "markdown",
   "id": "c7630ac8",
   "metadata": {},
   "source": [
    "- **Random Sampling from an Array:**  \n",
    "You can randomly select elements from an existing array."
   ]
  },
  {
   "cell_type": "code",
   "execution_count": 63,
   "id": "742881ae",
   "metadata": {},
   "outputs": [
    {
     "name": "stdout",
     "output_type": "stream",
     "text": [
      "[3 2 9 4 7]\n"
     ]
    }
   ],
   "source": [
    "array = np.array([1, 2, 3, 4, 5, 6, 7, 8, 9, 10])\n",
    "random_sample = np.random.choice(array, size=5, replace=False)  # Sample 5 unique elements\n",
    "print(random_sample)"
   ]
  },
  {
   "cell_type": "markdown",
   "id": "76c0c0dc",
   "metadata": {},
   "source": [
    "- **Shuffling an Array**:  \n",
    "Shuffling randomly rearranges the elements in an array."
   ]
  },
  {
   "cell_type": "code",
   "execution_count": 64,
   "id": "77eafa8d",
   "metadata": {},
   "outputs": [
    {
     "name": "stdout",
     "output_type": "stream",
     "text": [
      "[ 8  3  7  5  9  4  1  6 10  2]\n"
     ]
    }
   ],
   "source": [
    "shuffled_array = np.random.permutation(array)\n",
    "print(shuffled_array)"
   ]
  },
  {
   "cell_type": "markdown",
   "id": "83d66546",
   "metadata": {},
   "source": [
    "- **Plotting Random Sampling**:  \n",
    "    Here’s how to plot the result of random sampling:\n",
    "\n"
   ]
  },
  {
   "cell_type": "code",
   "execution_count": 65,
   "id": "907811a4",
   "metadata": {},
   "outputs": [
    {
     "data": {
      "image/png": "[encoded data removed]",
      "text/plain": [
       "<Figure size 640x480 with 1 Axes>"
      ]
     },
     "metadata": {},
     "output_type": "display_data"
    }
   ],
   "source": [
    "x = np.linspace(0, 10, 100)\n",
    "y = np.sin(x)\n",
    "sample_indices = np.random.choice(len(x), size=20, replace=False)\n",
    "x_sample = x[sample_indices]\n",
    "y_sample = y[sample_indices]\n",
    "\n",
    "plt.plot(x, y, label='Original Function')\n",
    "plt.scatter(x_sample, y_sample, color='red', label='Random Sample')\n",
    "plt.title(\"Random Sampling from Sine Function\")\n",
    "plt.legend()\n",
    "plt.show()"
   ]
  },
  {
   "cell_type": "markdown",
   "id": "63ea1627",
   "metadata": {},
   "source": [
    "## 5-3. Setting Seed for Reproducibility    \n",
    "When working with random numbers, it’s often important to ensure that your results are reproducible, meaning that the same random numbers are generated each time you run the code. This is achieved by setting a seed."
   ]
  },
  {
   "cell_type": "markdown",
   "id": "6afcf5f8",
   "metadata": {},
   "source": [
    "- **Setting a Seed**:  \n",
    "Setting a seed ensures that the random numbers generated are consistent across different runs."
   ]
  },
  {
   "cell_type": "code",
   "execution_count": 68,
   "id": "8796cf57",
   "metadata": {},
   "outputs": [
    {
     "name": "stdout",
     "output_type": "stream",
     "text": [
      "[0.37454012 0.95071431 0.73199394 0.59865848 0.15601864]\n"
     ]
    }
   ],
   "source": [
    "np.random.seed(42)\n",
    "reproducible_randoms = np.random.rand(5)\n",
    "print(reproducible_randoms)"
   ]
  },
  {
   "cell_type": "markdown",
   "id": "e001eb00",
   "metadata": {},
   "source": [
    "- **Plotting with Reproducible Random Numbers:**  \n",
    "You can use a seed to ensure that the same plot is generated every time."
   ]
  },
  {
   "cell_type": "code",
   "execution_count": 72,
   "id": "9927dce9",
   "metadata": {},
   "outputs": [
    {
     "data": {
      "image/png": "[encoded data removed]",
      "text/plain": [
       "<Figure size 640x480 with 1 Axes>"
      ]
     },
     "metadata": {},
     "output_type": "display_data"
    }
   ],
   "source": [
    "np.random.seed(42)\n",
    "reproducible_randoms = np.random.rand(100)\n",
    "plt.hist(reproducible_randoms, bins=30, alpha=0.7, color='purple')\n",
    "plt.title(\"Histogram of Reproducible Random Numbers\")\n",
    "plt.show()\n"
   ]
  },
  {
   "cell_type": "markdown",
   "id": "5d17dc19",
   "metadata": {},
   "source": [
    "# 6. NumPy for Data Analysis"
   ]
  },
  {
   "cell_type": "markdown",
   "id": "7cc9e65e",
   "metadata": {},
   "source": [
    "NumPy is a fundamental package for data analysis in Python, offering tools to load, save, and manage data efficiently. Below are detailed explanations and examples for loading data from files, saving data to files, and handling missing data in NumPy."
   ]
  },
  {
   "cell_type": "markdown",
   "id": "8426e0af",
   "metadata": {},
   "source": [
    "## 6-1. Loading Data from Files    \n",
    "Loading data from files is a common task in data analysis. NumPy provides functions to load data from text and CSV files."
   ]
  },
  {
   "cell_type": "markdown",
   "id": "d15b7994",
   "metadata": {},
   "source": [
    "- **Loading Data from a Text File:**  \n",
    "The np.loadtxt function loads data from a text file. It assumes that the data is numerical and formatted consistently."
   ]
  },
  {
   "cell_type": "code",
   "execution_count": 73,
   "id": "f1f6319d",
   "metadata": {},
   "outputs": [
    {
     "name": "stdout",
     "output_type": "stream",
     "text": [
      "[[1. 2. 3.]\n",
      " [4. 5. 6.]\n",
      " [7. 8. 9.]]\n"
     ]
    }
   ],
   "source": [
    "import numpy as np\n",
    "\n",
    "# Suppose you have a file 'data.txt' with the following content:\n",
    "# 1.0 2.0 3.0\n",
    "# 4.0 5.0 6.0\n",
    "# 7.0 8.0 9.0\n",
    "\n",
    "data = np.loadtxt('Datasets/data.txt')\n",
    "print(data)"
   ]
  },
  {
   "cell_type": "markdown",
   "id": "d73b195c",
   "metadata": {},
   "source": [
    "- **Loading Data with Different Delimiters:**  \n",
    "You can specify the delimiter used in the file using the delimiter parameter."
   ]
  },
  {
   "cell_type": "code",
   "execution_count": 74,
   "id": "494b14a8",
   "metadata": {},
   "outputs": [
    {
     "name": "stdout",
     "output_type": "stream",
     "text": [
      "[[1. 2. 3.]\n",
      " [4. 5. 6.]\n",
      " [7. 8. 9.]]\n"
     ]
    }
   ],
   "source": [
    "# Suppose 'data.csv' uses commas instead of spaces:\n",
    "# 1.0,2.0,3.0\n",
    "# 4.0,5.0,6.0\n",
    "# 7.0,8.0,9.0\n",
    "\n",
    "data = np.loadtxt('Datasets/numpy_data.csv', delimiter=',')\n",
    "print(data)"
   ]
  },
  {
   "cell_type": "markdown",
   "id": "9fe4f05a",
   "metadata": {},
   "source": [
    "- **Loading Data with Missing Values**:  \n",
    "If your file contains missing values, you can use **np.genfromtxt**, which handles missing data more gracefully."
   ]
  },
  {
   "cell_type": "code",
   "execution_count": 75,
   "id": "913af685",
   "metadata": {},
   "outputs": [
    {
     "name": "stdout",
     "output_type": "stream",
     "text": [
      "[[ 1.  2.  3.]\n",
      " [ 4. nan  6.]\n",
      " [ 7.  8.  9.]]\n"
     ]
    }
   ],
   "source": [
    "# Suppose 'data_with_missing.csv' has missing entries:\n",
    "# 1.0,2.0,3.0\n",
    "# 4.0,,6.0\n",
    "# 7.0,8.0,9.0\n",
    "\n",
    "data = np.genfromtxt('Datasets/numpy_data_with_missing.csv', delimiter=',')\n",
    "print(data)"
   ]
  },
  {
   "cell_type": "markdown",
   "id": "13d26e24",
   "metadata": {},
   "source": [
    "- **Loading Data with Specific Data Types**:  \n",
    "You can also specify the data type of the loaded data."
   ]
  },
  {
   "cell_type": "code",
   "execution_count": 83,
   "id": "7e63b947",
   "metadata": {},
   "outputs": [
    {
     "name": "stdout",
     "output_type": "stream",
     "text": [
      "[[1 2 3]\n",
      " [4 5 6]\n",
      " [7 8 9]]\n"
     ]
    },
    {
     "name": "stderr",
     "output_type": "stream",
     "text": [
      "/tmp/ipykernel_33935/2589530627.py:1: DeprecationWarning: loadtxt(): Parsing an integer via a float is deprecated.  To avoid this warning, you can:\n",
      "    * make sure the original data is stored as integers.\n",
      "    * use the `converters=` keyword argument.  If you only use\n",
      "      NumPy 1.23 or later, `converters=float` will normally work.\n",
      "    * Use `np.loadtxt(...).astype(np.int64)` parsing the file as\n",
      "      floating point and then convert it.  (On all NumPy versions.)\n",
      "  (Deprecated NumPy 1.23)\n",
      "  data = np.loadtxt('Datasets/numpy_data.txt', dtype=int)\n"
     ]
    }
   ],
   "source": [
    "data = np.loadtxt('Datasets/numpy_data.txt', dtype=int)\n",
    "print(data)\n"
   ]
  },
  {
   "cell_type": "markdown",
   "id": "edd18e46",
   "metadata": {},
   "source": [
    "## 6-2. Saving Data to Files    \n",
    "Saving data to files is essential for storing results or sharing data. NumPy offers several ways to save data."
   ]
  },
  {
   "cell_type": "markdown",
   "id": "522d7c37",
   "metadata": {},
   "source": [
    "- **Saving Data to a Text File**:  \n",
    "The **np.savetxt** function allows you to save an array to a text file."
   ]
  },
  {
   "cell_type": "code",
   "execution_count": 87,
   "id": "db3c92f2",
   "metadata": {},
   "outputs": [
    {
     "name": "stdout",
     "output_type": "stream",
     "text": [
      "[[1. 2. 3.]\n",
      " [4. 5. 6.]\n",
      " [7. 8. 9.]]\n"
     ]
    }
   ],
   "source": [
    "data = np.array([[1.0, 2.0, 3.0], [4.0, 5.0, 6.0], [7.0, 8.0, 9.0]])\n",
    "\n",
    "np.savetxt('Datasets/numpy_output.txt', data)\n",
    "print(data)\n",
    "\n",
    "# This will create a file 'output.txt' with the content:"
   ]
  },
  {
   "cell_type": "markdown",
   "id": "8c751677",
   "metadata": {},
   "source": [
    "- **Saving Data with Custom Delimiters and Format**:  \n",
    "You can customize the delimiter and format of the saved data."
   ]
  },
  {
   "cell_type": "code",
   "execution_count": 88,
   "id": "3eeba55e",
   "metadata": {},
   "outputs": [],
   "source": [
    "np.savetxt('Datasets/numpy_output.txt', data, delimiter=',', fmt='%0.2f')\n",
    "# This will save the data in 'output.csv' with two decimal places and commas as delimiters."
   ]
  },
  {
   "cell_type": "markdown",
   "id": "c19dbcfd",
   "metadata": {},
   "source": [
    "- **Saving and Loading Binary Data**:  \n",
    "NumPy provides `np.save` and `np.load` for efficient saving and loading of binary data."
   ]
  },
  {
   "cell_type": "code",
   "execution_count": 90,
   "id": "e622366e",
   "metadata": {},
   "outputs": [
    {
     "name": "stdout",
     "output_type": "stream",
     "text": [
      "[[1. 2. 3.]\n",
      " [4. 5. 6.]\n",
      " [7. 8. 9.]]\n"
     ]
    }
   ],
   "source": [
    "np.save('Datasets/numpy_output.npy', data)          # Save the data in binary format\n",
    "\n",
    "loaded_data = np.load('Datasets/numpy_output.npy')  # Load the binary data\n",
    "print(loaded_data)"
   ]
  },
  {
   "cell_type": "markdown",
   "id": "146010ca",
   "metadata": {},
   "source": [
    "- **Saving and Loading Multiple Arrays**:  \n",
    "You can save and load multiple arrays using `np.savez` and `np.load`."
   ]
  },
  {
   "cell_type": "code",
   "execution_count": 92,
   "id": "403d7ab5",
   "metadata": {},
   "outputs": [
    {
     "name": "stdout",
     "output_type": "stream",
     "text": [
      "[1 2 3]\n",
      "[4 5 6]\n"
     ]
    }
   ],
   "source": [
    "array1 = np.array([1, 2, 3])\n",
    "array2 = np.array([4, 5, 6])\n",
    "\n",
    "np.savez('Datasets/multiple_arrays.npz', array1=array1, array2=array2)\n",
    "\n",
    "loaded = np.load('Datasets/multiple_arrays.npz')\n",
    "print(loaded['array1'])  # Output: [1 2 3]\n",
    "print(loaded['array2'])  # Output: [4 5 6]"
   ]
  },
  {
   "cell_type": "markdown",
   "id": "ce6d09d9",
   "metadata": {},
   "source": [
    "## 6-3. Working with Missing Data    \n",
    "Handling missing data is a common challenge in data analysis. NumPy has tools to detect, handle, and clean missing data."
   ]
  },
  {
   "cell_type": "markdown",
   "id": "655be842",
   "metadata": {},
   "source": [
    "- **Detecting Missing Data**:  \n",
    "Missing data is often represented by np.nan (Not a Number). You can detect missing values using `np.isnan`."
   ]
  },
  {
   "cell_type": "code",
   "execution_count": 93,
   "id": "d889e162",
   "metadata": {},
   "outputs": [
    {
     "name": "stdout",
     "output_type": "stream",
     "text": [
      "[False  True False  True False]\n"
     ]
    }
   ],
   "source": [
    "data = np.array([1.0, np.nan, 3.0, np.nan, 5.0])\n",
    "\n",
    "missing_mask = np.isnan(data)\n",
    "print(missing_mask)"
   ]
  },
  {
   "cell_type": "markdown",
   "id": "70c8ac57",
   "metadata": {},
   "source": [
    "- **Filling Missing Data**:  \n",
    "You can replace missing values with a specific value, such as the mean or median of the data."
   ]
  },
  {
   "cell_type": "code",
   "execution_count": 94,
   "id": "9301742e",
   "metadata": {},
   "outputs": [
    {
     "name": "stdout",
     "output_type": "stream",
     "text": [
      "[1. 3. 3. 3. 5.]\n"
     ]
    }
   ],
   "source": [
    "filled_data = np.where(np.isnan(data), np.nanmean(data), data)\n",
    "print(filled_data)  # Output: [1. 3. 3. 3. 5.]"
   ]
  },
  {
   "cell_type": "markdown",
   "id": "0f44f2f8",
   "metadata": {},
   "source": [
    "- **Removing Missing Data**:  \n",
    "If you prefer to remove missing data entirely, you can filter out `np.nan` values."
   ]
  },
  {
   "cell_type": "code",
   "execution_count": 95,
   "id": "ed83f7c2",
   "metadata": {},
   "outputs": [
    {
     "name": "stdout",
     "output_type": "stream",
     "text": [
      "[1. 3. 5.]\n"
     ]
    }
   ],
   "source": [
    "cleaned_data = data[~np.isnan(data)]\n",
    "print(cleaned_data)  # Output: [1. 3. 5.]"
   ]
  },
  {
   "cell_type": "markdown",
   "id": "d424f951",
   "metadata": {},
   "source": [
    "- **Handling Missing Data in 2D Arrays**:  \n",
    "For 2D arrays, you might want to remove rows or columns containing missing data."
   ]
  },
  {
   "cell_type": "code",
   "execution_count": 102,
   "id": "abf8919a",
   "metadata": {},
   "outputs": [],
   "source": [
    "matrix = np.array([[1.0, 2.0, np.nan], [4.0, np.nan, 6.0], [7.0, 8.0, 9.0]])"
   ]
  },
  {
   "cell_type": "code",
   "execution_count": 103,
   "id": "49135ae2",
   "metadata": {},
   "outputs": [
    {
     "name": "stdout",
     "output_type": "stream",
     "text": [
      "[[7. 8. 9.]]\n"
     ]
    }
   ],
   "source": [
    "# Remove rows with any missing values\n",
    "cleaned_matrix = matrix[~np.isnan(matrix).any(axis=1)]\n",
    "print(cleaned_matrix)\n",
    "\n",
    "# Output:\n",
    "# [[7. 8. 9.]]"
   ]
  },
  {
   "cell_type": "code",
   "execution_count": 104,
   "id": "06343dd3",
   "metadata": {},
   "outputs": [
    {
     "name": "stdout",
     "output_type": "stream",
     "text": [
      "[[1.]\n",
      " [4.]\n",
      " [7.]]\n"
     ]
    }
   ],
   "source": [
    "# Remove columns with any missing values\n",
    "cleaned_matrix_cols = matrix[:, ~np.isnan(matrix).any(axis=0)]\n",
    "print(cleaned_matrix_cols)"
   ]
  },
  {
   "cell_type": "markdown",
   "id": "5ad11dc3",
   "metadata": {},
   "source": [
    "# 7. Performance and Optimization in NumPy"
   ]
  },
  {
   "cell_type": "markdown",
   "id": "67c5e742",
   "metadata": {},
   "source": [
    "Optimizing the performance of your code is crucial, especially when working with large datasets.   \n",
    "NumPy provides several tools and techniques to enhance performance and make computations more efficient.   \n",
    "Let’s explore some key concepts and techniques for performance optimization in NumPy."
   ]
  },
  {
   "cell_type": "markdown",
   "id": "2e29eb5f",
   "metadata": {},
   "source": [
    "## 7-1. Vectorization  \n",
    "Vectorization is the process of converting iterative operations (typically loops) into array operations.  \n",
    "This approach leverages NumPy’s optimized C backend to perform operations more efficiently."
   ]
  },
  {
   "cell_type": "markdown",
   "id": "baef0f0e",
   "metadata": {},
   "source": [
    "Consider a simple operation where you want to add two arrays element-wise."
   ]
  },
  {
   "cell_type": "markdown",
   "id": "e478f4ce",
   "metadata": {},
   "source": [
    "    Using a Loop:"
   ]
  },
  {
   "cell_type": "code",
   "execution_count": 105,
   "id": "3fabc86f",
   "metadata": {},
   "outputs": [
    {
     "name": "stdout",
     "output_type": "stream",
     "text": [
      "[ 6  8 10 12]\n"
     ]
    }
   ],
   "source": [
    "import numpy as np\n",
    "\n",
    "array1 = np.array([1, 2, 3, 4])\n",
    "array2 = np.array([5, 6, 7, 8])\n",
    "result = np.empty_like(array1)\n",
    "\n",
    "for i in range(len(array1)):\n",
    "    result[i] = array1[i] + array2[i]\n",
    "\n",
    "print(result)  # Output: [ 6  8 10 12]\n"
   ]
  },
  {
   "cell_type": "markdown",
   "id": "369c4847",
   "metadata": {},
   "source": [
    "    Using Vectorization:"
   ]
  },
  {
   "cell_type": "code",
   "execution_count": 106,
   "id": "d85e6cc8",
   "metadata": {},
   "outputs": [
    {
     "name": "stdout",
     "output_type": "stream",
     "text": [
      "[ 6  8 10 12]\n"
     ]
    }
   ],
   "source": [
    "result = array1 + array2\n",
    "print(result)  # Output: [ 6  8 10 12]"
   ]
  },
  {
   "cell_type": "markdown",
   "id": "253863fa",
   "metadata": {},
   "source": [
    "The vectorized version is not only shorter and more readable, but it also performs better because it avoids the overhead of Python loops and directly leverages NumPy’s optimized operations."
   ]
  },
  {
   "cell_type": "markdown",
   "id": "492f0da8",
   "metadata": {},
   "source": [
    "    Comparing Loop vs Vectorization in NumPy    "
   ]
  },
  {
   "cell_type": "markdown",
   "id": "e5a011ab",
   "metadata": {},
   "source": [
    "In this example, we will measure the execution time of two methods for adding two large arrays in NumPy:   \n",
    "using a `traditional loop` and using `vectorized operations`.   "
   ]
  },
  {
   "cell_type": "code",
   "execution_count": 108,
   "id": "1215fca4",
   "metadata": {},
   "outputs": [
    {
     "name": "stdout",
     "output_type": "stream",
     "text": [
      "Loop execution time: 0.442262 seconds\n",
      "Vectorized execution time: 0.003416 seconds\n",
      "Speedup gained by vectorization: 129.47x\n",
      "Results match: True\n"
     ]
    }
   ],
   "source": [
    "import numpy as np  \n",
    "import time  \n",
    "\n",
    "# Define array size  \n",
    "n = 1000000  \n",
    "\n",
    "# Generate random arrays  \n",
    "x = np.random.rand(n)  \n",
    "y = np.random.rand(n)  \n",
    "\n",
    "# Loop method  \n",
    "start_time = time.time()  \n",
    "z_loop = np.zeros(n)  \n",
    "for i in range(n):  \n",
    "    z_loop[i] = x[i] + y[i]  \n",
    "end_time = time.time()  \n",
    "loop_time = end_time - start_time  \n",
    "\n",
    "# Vectorization method  \n",
    "start_time = time.time()  \n",
    "z_vector = x + y  \n",
    "end_time = time.time()  \n",
    "vector_time = end_time - start_time  \n",
    "\n",
    "# Calculate speedup  \n",
    "speedup = loop_time / vector_time  \n",
    "\n",
    "# Print results  \n",
    "print(f\"Loop execution time: {loop_time:.6f} seconds\")  \n",
    "print(f\"Vectorized execution time: {vector_time:.6f} seconds\")  \n",
    "print(f\"Speedup gained by vectorization: {speedup:.2f}x\")  \n",
    "print(f\"Results match: {np.allclose(z_loop, z_vector)}\")"
   ]
  },
  {
   "cell_type": "markdown",
   "id": "1a71d691",
   "metadata": {},
   "source": [
    "- **Vectorization with Mathematical Operations**:  \n",
    "You can apply vectorization to a wide range of mathematical operations, such as trigonometric functions, exponential functions, and more."
   ]
  },
  {
   "cell_type": "code",
   "execution_count": 123,
   "id": "f87bf90e",
   "metadata": {},
   "outputs": [
    {
     "name": "stdout",
     "output_type": "stream",
     "text": [
      "[0.0000000e+00 1.0000000e+00 1.2246468e-16]\n"
     ]
    }
   ],
   "source": [
    "angles = np.array([0, np.pi/2, np.pi])\n",
    "sin_values = np.sin(angles)  # Vectorized computation\n",
    "print(sin_values) "
   ]
  },
  {
   "cell_type": "markdown",
   "id": "cca01e52",
   "metadata": {},
   "source": [
    "## 7-2. Memory Layout of Arrays   \n",
    "Understanding the memory layout of arrays can significantly impact performance, particularly when performing operations on large arrays.\n",
    "\n",
    "- Row-major (C-order) vs. Column-major (Fortran-order) Layout:\n",
    "\n",
    "    - In C-order (row-major), the array is stored row by row in memory.\n",
    "    - In Fortran-order (column-major), the array is stored column by column in memory."
   ]
  },
  {
   "cell_type": "markdown",
   "id": "867dbbdd",
   "metadata": {},
   "source": [
    "You can specify the memory layout when creating an array:"
   ]
  },
  {
   "cell_type": "code",
   "execution_count": 111,
   "id": "175b26e8",
   "metadata": {},
   "outputs": [],
   "source": [
    "array_c = np.array([[1, 2, 3], [4, 5, 6]], order='C')  # Row-major\n",
    "array_f = np.array([[1, 2, 3], [4, 5, 6]], order='F')  # Column-major"
   ]
  },
  {
   "cell_type": "markdown",
   "id": "2aead43c",
   "metadata": {},
   "source": [
    "Accessing elements that are contiguous in memory is faster, so operations like row-wise or column-wise summations can be optimized by choosing the appropriate memory layout."
   ]
  },
  {
   "cell_type": "markdown",
   "id": "7e1cf686",
   "metadata": {},
   "source": [
    "- **Efficient Memory Access**:  \n",
    "Consider accessing and summing elements along different axes:"
   ]
  },
  {
   "cell_type": "code",
   "execution_count": 112,
   "id": "103b4c1f",
   "metadata": {},
   "outputs": [],
   "source": [
    "array = np.random.rand(1000, 1000)\n",
    "\n",
    "# Sum along columns (axis 0)\n",
    "sum_cols = np.sum(array, axis=0)\n",
    "\n",
    "# Sum along rows (axis 1)\n",
    "sum_rows = np.sum(array, axis=1)"
   ]
  },
  {
   "cell_type": "markdown",
   "id": "97aec581",
   "metadata": {},
   "source": [
    "If your data is in C-order (row-major), summing along rows is faster because it accesses contiguous memory blocks.   \n",
    "Conversely, Fortran-order (column-major) would optimize summing along columns."
   ]
  },
  {
   "cell_type": "markdown",
   "id": "4e3678b7",
   "metadata": {},
   "source": [
    "## 7-3. Performance Tips   \n",
    "Here are some additional tips to optimize the performance of your NumPy operations:\n",
    "\n",
    "- **Avoid Loops**: Use vectorized operations whenever possible to leverage NumPy’s optimized performance.  \n",
    "- **Use In-Place Operations**: In-place operations (e.g., `+=`, `*=`) modify the existing array instead of creating a new one, reducing memory usage and improving speed."
   ]
  },
  {
   "cell_type": "code",
   "execution_count": 113,
   "id": "ebfa5483",
   "metadata": {},
   "outputs": [
    {
     "name": "stdout",
     "output_type": "stream",
     "text": [
      "[3 4 5]\n"
     ]
    }
   ],
   "source": [
    "array = np.array([1, 2, 3])\n",
    "array += 2    # In-place addition\n",
    "print(array)  # Output: [3 4 5]"
   ]
  },
  {
   "cell_type": "markdown",
   "id": "78c50e44",
   "metadata": {},
   "source": [
    "- Leverage Built-in Functions: NumPy’s built-in functions are usually more optimized than custom implementations. For example, use `np.sum()` instead of writing a loop to sum elements.\n",
    "\n",
    "- Use `np.where` for Conditional Operations: Instead of loops or `if-else` constructs, use `np.where` for condition-based element selection or modification."
   ]
  },
  {
   "cell_type": "code",
   "execution_count": 114,
   "id": "b2689035",
   "metadata": {},
   "outputs": [
    {
     "name": "stdout",
     "output_type": "stream",
     "text": [
      "[10 20 60 80]\n"
     ]
    }
   ],
   "source": [
    "array = np.array([10, 20, 30, 40])\n",
    "result = np.where(array > 20, array * 2, array)\n",
    "print(result)  # Output: [10 20 60 80]"
   ]
  },
  {
   "cell_type": "markdown",
   "id": "10d079e6",
   "metadata": {},
   "source": [
    "- **Preallocate Arrays**:  \n",
    "If you need to build an array iteratively, preallocate the array size instead of appending elements, which reduces the overhead of dynamically resizing arrays."
   ]
  },
  {
   "cell_type": "code",
   "execution_count": 115,
   "id": "6e4d2cf8",
   "metadata": {},
   "outputs": [],
   "source": [
    "result = np.empty(1000)\n",
    "for i in range(1000):\n",
    "    result[i] = i ** 2  # Preallocated and filled"
   ]
  },
  {
   "cell_type": "markdown",
   "id": "0840182f",
   "metadata": {},
   "source": [
    "- **Profiling and Benchmarking**:  \n",
    "Use tools like `timeit` and `cProfile` to profile your code and identify bottlenecks."
   ]
  },
  {
   "cell_type": "code",
   "execution_count": 117,
   "id": "a84934ad",
   "metadata": {},
   "outputs": [
    {
     "data": {
      "text/plain": [
       "0.057869645999744534"
      ]
     },
     "execution_count": 117,
     "metadata": {},
     "output_type": "execute_result"
    }
   ],
   "source": [
    "import timeit\n",
    "timeit.timeit('np.sum(np.arange(1000))', setup='import numpy as np', number=10000)"
   ]
  },
  {
   "cell_type": "code",
   "execution_count": null,
   "id": "c239cae3",
   "metadata": {},
   "outputs": [],
   "source": []
  },
  {
   "cell_type": "code",
   "execution_count": null,
   "id": "b32481a4",
   "metadata": {},
   "outputs": [],
   "source": []
  },
  {
   "cell_type": "code",
   "execution_count": null,
   "id": "e7da5b08",
   "metadata": {},
   "outputs": [],
   "source": []
  },
  {
   "cell_type": "markdown",
   "id": "a1ccced1-85e5-4a91-94e2-2c8beee136fc",
   "metadata": {
    "jp-MarkdownHeadingCollapsed": true,
    "tags": []
   },
   "source": [
    "#### Example\n",
    "- Given the grade data of 10 students, create a code using NumPy that calculates and reports their\n",
    "grade average"
   ]
  },
  {
   "cell_type": "code",
   "execution_count": 28,
   "id": "996dc533-ee8c-4efc-857b-8a364ff1005a",
   "metadata": {},
   "outputs": [],
   "source": [
    "names = ['Alice', 'Bob', 'Charlie', 'David', 'Eve', 'Frank', 'Grace', 'Harry', 'Ivy', 'Jack']\n",
    "\n",
    "math_grades = [75, 80, 65, 25, 65, 45, 85, 80, 90, 88]\n",
    "algebra_grades = [70, 80, 75, 60, 80, 85, 90, 75, 80, 85]\n",
    "ml_grades = [85, 90, 80, 75, 95, 80, 85, 90, 90, 85]"
   ]
  },
  {
   "cell_type": "code",
   "execution_count": 30,
   "id": "8bae2674-af02-4693-92f1-401915a0038b",
   "metadata": {},
   "outputs": [
    {
     "name": "stdout",
     "output_type": "stream",
     "text": [
      "[76.66666667 83.33333333 73.33333333 53.33333333 80.         70.\n",
      " 86.66666667 81.66666667 86.66666667 86.        ]\n"
     ]
    }
   ],
   "source": [
    "avg_grades = np.zeros(10)\n",
    "\n",
    "for i, name in enumerate(names):\n",
    "    avg_grades[i] = np.mean([math_grades[i], algebra_grades[i], ml_grades[i]])\n",
    "    \n",
    "print(avg_grades)"
   ]
  },
  {
   "cell_type": "code",
   "execution_count": 35,
   "id": "68763d1b-fb45-445c-a457-371986527be0",
   "metadata": {},
   "outputs": [
    {
     "name": "stdout",
     "output_type": "stream",
     "text": [
      "Average for Alice is: 76.66666666666667\n",
      "Average for Bob is: 83.33333333333333\n",
      "Average for Charlie is: 73.33333333333333\n",
      "Average for David is: 53.333333333333336\n",
      "Average for Eve is: 80.0\n",
      "Average for Frank is: 70.0\n",
      "Average for Grace is: 86.66666666666667\n",
      "Average for Harry is: 81.66666666666667\n",
      "Average for Ivy is: 86.66666666666667\n",
      "Average for Jack is: 86.0\n"
     ]
    }
   ],
   "source": [
    "# better-looking code\n",
    "\n",
    "for i, name in enumerate(names):\n",
    "    print(f'Average for {name} is: {avg_grades[i]}')"
   ]
  },
  {
   "cell_type": "markdown",
   "id": "dc058ee9-551d-44f7-b387-f45ad2d6e660",
   "metadata": {
    "jp-MarkdownHeadingCollapsed": true,
    "tags": []
   },
   "source": [
    "#### Example \n",
    "use **np.linspace()** to create solution for *Quadratic Equation*"
   ]
  },
  {
   "cell_type": "markdown",
   "id": "36557004-07d2-4f1d-b067-1ea79e192f9c",
   "metadata": {},
   "source": [
    "f(x) = ax^2 + bx + c\n",
    "\n",
    "- where a, b, and c are constants, and x is the variable. \n",
    "- The graph of a quadratic function is a parabola, which can open upward or downward depending on the sign of a.\n",
    "\n",
    "For example, the quadratic function:\n",
    "\n",
    "- x^2 + 5x + 6 = 0"
   ]
  },
  {
   "attachments": {
    "822ff32d-84bc-4dee-a1af-b534ce9a8208.png": {
     "image/png": "[encoded data removed]"
    }
   },
   "cell_type": "markdown",
   "id": "8543e038-1fe8-4c7d-8a63-9d14fb070b6a",
   "metadata": {},
   "source": [
    "![image.png](attachment:822ff32d-84bc-4dee-a1af-b534ce9a8208.png)"
   ]
  },
  {
   "cell_type": "code",
   "execution_count": 49,
   "id": "18f6517f-085c-40da-b7a2-942660ef752d",
   "metadata": {},
   "outputs": [
    {
     "name": "stdout",
     "output_type": "stream",
     "text": [
      "found a possible answer is -3.0\n",
      "found a possible answer is -2.0\n"
     ]
    }
   ],
   "source": [
    "candidates = np.linspace(-10, 10, 4001)\n",
    "\n",
    "for c in candidates:\n",
    "    if (c**2 + 5*c + 6 == 0):\n",
    "        print(f'found a possible answer is {c}')"
   ]
  },
  {
   "cell_type": "code",
   "execution_count": 42,
   "id": "eedff1b9-36f2-4d1c-b1d1-d69a44ae2b08",
   "metadata": {},
   "outputs": [
    {
     "data": {
      "text/plain": [
       "array([-10.        ,  -9.59183673,  -9.18367347,  -8.7755102 ,\n",
       "        -8.36734694,  -7.95918367,  -7.55102041,  -7.14285714,\n",
       "        -6.73469388,  -6.32653061,  -5.91836735,  -5.51020408,\n",
       "        -5.10204082,  -4.69387755,  -4.28571429,  -3.87755102,\n",
       "        -3.46938776,  -3.06122449,  -2.65306122,  -2.24489796,\n",
       "        -1.83673469,  -1.42857143,  -1.02040816,  -0.6122449 ,\n",
       "        -0.20408163,   0.20408163,   0.6122449 ,   1.02040816,\n",
       "         1.42857143,   1.83673469,   2.24489796,   2.65306122,\n",
       "         3.06122449,   3.46938776,   3.87755102,   4.28571429,\n",
       "         4.69387755,   5.10204082,   5.51020408,   5.91836735,\n",
       "         6.32653061,   6.73469388,   7.14285714,   7.55102041,\n",
       "         7.95918367,   8.36734694,   8.7755102 ,   9.18367347,\n",
       "         9.59183673,  10.        ])"
      ]
     },
     "execution_count": 42,
     "metadata": {},
     "output_type": "execute_result"
    }
   ],
   "source": [
    "candidates"
   ]
  },
  {
   "cell_type": "markdown",
   "id": "bb924856-3df7-42f0-801e-11c34edccef0",
   "metadata": {
    "jp-MarkdownHeadingCollapsed": true,
    "tags": []
   },
   "source": [
    "## 3. Indexing and slicing"
   ]
  },
  {
   "cell_type": "markdown",
   "id": "c2e45cab-3ece-49c5-bfa8-0b28cbc5a164",
   "metadata": {},
   "source": [
    "Indexing:\n",
    "\n",
    "- NumPy arrays can be indexed using integers, which refer to the position of the element in the array.\n",
    "- Indexing in NumPy is zero-based, meaning the first element of an array has an index of 0.\n",
    "- You can use square brackets *[]* to index an array. \n",
    "- You can also use negative indices to index from the end of the array.\n",
    "- You can index a multi-dimensional array by specifying the indices for each dimension separated by commas."
   ]
  },
  {
   "cell_type": "markdown",
   "id": "7a27a51d-3d3b-4dcd-9377-98b757b06ed5",
   "metadata": {},
   "source": [
    "Slicing:\n",
    "\n",
    "- NumPy arrays can also be sliced, which means extracting a portion of the array.\n",
    "- Slicing in NumPy is specified using the : operator. \n",
    "- You can also use negative indices for slicing. \n",
    "- You can slice a multi-dimensional array by specifying the slice for each dimension separated by commas."
   ]
  },
  {
   "cell_type": "markdown",
   "id": "56565015-093a-4a0b-b6b5-95d068a8202b",
   "metadata": {
    "tags": []
   },
   "source": [
    "## 4. Operations"
   ]
  },
  {
   "cell_type": "markdown",
   "id": "773ef733-f3cd-4a73-a8e5-020142df25e3",
   "metadata": {},
   "source": [
    "### 1. Basic mathematical operations:"
   ]
  },
  {
   "cell_type": "markdown",
   "id": "9bbb3a63-861a-4dac-9330-712d4dc264cc",
   "metadata": {},
   "source": [
    "- Addition (+), \n",
    "- subtraction (-)\n",
    "- multiplication (*)\n",
    "- division (/)\n",
    "- modulus (%) \n",
    "- can be performed on arrays element-wise"
   ]
  },
  {
   "cell_type": "code",
   "execution_count": 52,
   "id": "61f69fa5-51b9-4298-bf13-ea5a624c4ef7",
   "metadata": {},
   "outputs": [],
   "source": [
    "a = np.array([1, 2, 3]) \n",
    "b = np.array([4, 5, 6])"
   ]
  },
  {
   "cell_type": "code",
   "execution_count": 54,
   "id": "1e5d4489-8171-4972-9250-101a39cd22bf",
   "metadata": {},
   "outputs": [
    {
     "name": "stdout",
     "output_type": "stream",
     "text": [
      "[5 7 9]\n",
      "[-3 -3 -3]\n",
      "[ 4 10 18]\n",
      "[0.25 0.4  0.5 ]\n",
      "[1 2 3]\n"
     ]
    }
   ],
   "source": [
    "print(a + b)\n",
    "print(a - b)\n",
    "print(a * b)\n",
    "print(a / b)\n",
    "print(a % b)"
   ]
  },
  {
   "cell_type": "markdown",
   "id": "a25509fa-50a2-4805-ac29-4334b4e5db9b",
   "metadata": {},
   "source": [
    "### 2. Trigonometric functions:"
   ]
  },
  {
   "cell_type": "markdown",
   "id": "b8293333-f3f6-4222-a0c1-243183001898",
   "metadata": {},
   "source": [
    "- sin())\n",
    "- cosine (cos()) \n",
    "- tangent (tan()"
   ]
  },
  {
   "cell_type": "code",
   "execution_count": 55,
   "id": "634d4457-6d37-49f1-a28b-88f292d6d9c8",
   "metadata": {},
   "outputs": [
    {
     "data": {
      "text/plain": [
       "array([0.84147098, 0.90929743, 0.14112001])"
      ]
     },
     "execution_count": 55,
     "metadata": {},
     "output_type": "execute_result"
    }
   ],
   "source": [
    "np.sin(a)"
   ]
  },
  {
   "cell_type": "markdown",
   "id": "8b9d495b-5d83-499f-8b98-d6ab3b7386f3",
   "metadata": {},
   "source": [
    "### 3. Exponential and logarithmic functions:"
   ]
  },
  {
   "cell_type": "markdown",
   "id": "7de92685-c239-4dba-8387-86b3a93cf4ca",
   "metadata": {},
   "source": [
    "- exp() and logarithmic functions:\n",
    "- natural logarithm (log())\n",
    "- base-10 logarithm (log10())"
   ]
  },
  {
   "cell_type": "code",
   "execution_count": 56,
   "id": "06aecb37-3c24-408c-b92b-f85271517fd8",
   "metadata": {},
   "outputs": [
    {
     "data": {
      "text/plain": [
       "array([ 2.71828183,  7.3890561 , 20.08553692])"
      ]
     },
     "execution_count": 56,
     "metadata": {},
     "output_type": "execute_result"
    }
   ],
   "source": [
    "np.exp(a)"
   ]
  },
  {
   "cell_type": "code",
   "execution_count": 57,
   "id": "6bd242e6-e5f1-47ac-8226-708d4ec55125",
   "metadata": {},
   "outputs": [
    {
     "data": {
      "text/plain": [
       "2.0"
      ]
     },
     "execution_count": 57,
     "metadata": {},
     "output_type": "execute_result"
    }
   ],
   "source": [
    "np.mean(a)"
   ]
  },
  {
   "cell_type": "markdown",
   "id": "26184942-6b4e-4a86-b560-ef0f69ffea35",
   "metadata": {},
   "source": [
    "### 4. Linear algebra operations"
   ]
  },
  {
   "cell_type": "markdown",
   "id": "9700a1bb-7019-4aa1-aa55-5a941cee1696",
   "metadata": {},
   "source": [
    "- matrix multiplication (dot()), matrix inversion (inv())\n",
    "- eigenvalue decomposition (eig())"
   ]
  },
  {
   "cell_type": "code",
   "execution_count": 59,
   "id": "a2ab07f9-d405-4601-b72f-0bf172bafdb6",
   "metadata": {},
   "outputs": [
    {
     "data": {
      "text/plain": [
       "32"
      ]
     },
     "execution_count": 59,
     "metadata": {},
     "output_type": "execute_result"
    }
   ],
   "source": [
    "np.dot(a, b)"
   ]
  },
  {
   "cell_type": "markdown",
   "id": "593b1291-d4bf-404f-a3e2-6be870e575bb",
   "metadata": {
    "tags": []
   },
   "source": [
    "### 5. Statistical functions"
   ]
  },
  {
   "cell_type": "markdown",
   "id": "08b93592-c21d-4aec-b837-6c80b7d341e0",
   "metadata": {},
   "source": [
    "- mean(np.mean())\n",
    "- median (np.median())\n",
    "- standard deviation (np.std())\n",
    "- and variance (np.var())\n",
    "- np.sum()\n",
    "- np.min()\n",
    "- np.max()"
   ]
  },
  {
   "cell_type": "markdown",
   "id": "325c6e2b-340d-4fd2-8a15-4cec4df5fb7e",
   "metadata": {
    "tags": []
   },
   "source": [
    "#### Axis"
   ]
  },
  {
   "cell_type": "markdown",
   "id": "246014f4-ce7d-4878-9a36-51387aafe5ce",
   "metadata": {},
   "source": [
    "These functions can be applied to multi-dimensional arrays as well, where they will perform the aggregation operation across all dimensions or along a specific dimension, depending on the **axis argument**."
   ]
  },
  {
   "cell_type": "markdown",
   "id": "502f9e7c-9452-441e-93d5-e4a32aae1003",
   "metadata": {
    "tags": []
   },
   "source": [
    "#### **None**: This value is used when performing an operation that does not require a specific axis. \n",
    "- For example, when computing the sum of all elements in **an array** using **np.sum()**, you can use **axis=None** or omit the axis parameter altogether."
   ]
  },
  {
   "cell_type": "code",
   "execution_count": 60,
   "id": "c39564e7-e84e-49e0-b4c7-43175fd73fd7",
   "metadata": {},
   "outputs": [
    {
     "data": {
      "text/plain": [
       "15"
      ]
     },
     "execution_count": 60,
     "metadata": {},
     "output_type": "execute_result"
    }
   ],
   "source": [
    "np.sum(b)"
   ]
  },
  {
   "cell_type": "markdown",
   "id": "cee69229-1a77-4d0e-ab60-3ad31dacbf6c",
   "metadata": {},
   "source": [
    "#### 0: This value is used to specify the operation is performed along the **vertical axis** (i.e., for each column). \n",
    "For example, when computing the sum of each column of a 2D array using np.sum(), you can use axis=0."
   ]
  },
  {
   "cell_type": "code",
   "execution_count": 65,
   "id": "4f1d6322-b162-42d1-93ef-24cddeb0f11b",
   "metadata": {},
   "outputs": [
    {
     "name": "stdout",
     "output_type": "stream",
     "text": [
      "[5 7 9]\n"
     ]
    }
   ],
   "source": [
    "arr = np.array([[1, 2, 3],\n",
    "                [4, 5, 6]])\n",
    "\n",
    "\n",
    "sum_along_axis0 = np.sum(arr, axis=0)\n",
    "print(sum_along_axis0)"
   ]
  },
  {
   "cell_type": "markdown",
   "id": "6bb1b2ce-1c27-47a2-9dd6-de42eca21469",
   "metadata": {},
   "source": [
    "#### 1: This value is used to specify the operation is performed along the horizontal axis (i.e., for each row). \n",
    "For example, when computing the sum of each row of a **2D array using np.sum()**, you can use **axis=1**"
   ]
  },
  {
   "cell_type": "code",
   "execution_count": 66,
   "id": "2dfdadee-b622-4e53-abc4-f89f04eaa9d2",
   "metadata": {},
   "outputs": [
    {
     "name": "stdout",
     "output_type": "stream",
     "text": [
      "[ 6 15]\n"
     ]
    }
   ],
   "source": [
    "sum_along_axis1 = np.sum(arr, axis=1)\n",
    "print(sum_along_axis1)"
   ]
  }
 ],
 "metadata": {
  "kernelspec": {
   "display_name": "Python 3 (ipykernel)",
   "language": "python",
   "name": "python3"
  },
  "language_info": {
   "codemirror_mode": {
    "name": "ipython",
    "version": 3
   },
   "file_extension": ".py",
   "mimetype": "text/x-python",
   "name": "python",
   "nbconvert_exporter": "python",
   "pygments_lexer": "ipython3",
   "version": "3.9.19"
  }
 },
 "nbformat": 4,
 "nbformat_minor": 5
}
