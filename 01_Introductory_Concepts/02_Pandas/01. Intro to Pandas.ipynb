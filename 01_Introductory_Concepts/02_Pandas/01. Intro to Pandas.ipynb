{
 "cells": [
  {
   "cell_type": "markdown",
   "id": "56f8bd80-dd9f-443a-917f-69aa5ca42fd7",
   "metadata": {
    "tags": []
   },
   "source": [
    "# Session 1 - Introduction to Pandas"
   ]
  },
  {
   "cell_type": "markdown",
   "id": "9689f7bd",
   "metadata": {},
   "source": [
    "## Installing and Importing Pandas"
   ]
  },
  {
   "cell_type": "code",
   "execution_count": 1,
   "id": "77e59631",
   "metadata": {},
   "outputs": [
    {
     "name": "stdout",
     "output_type": "stream",
     "text": [
      "2.2.2\n"
     ]
    }
   ],
   "source": [
    "# pip install pandas\n",
    "\n",
    "import pandas as pd\n",
    "print(pd.__version__)"
   ]
  },
  {
   "cell_type": "markdown",
   "id": "75e3313d",
   "metadata": {},
   "source": [
    "## Series"
   ]
  },
  {
   "cell_type": "markdown",
   "id": "8056c3c1",
   "metadata": {},
   "source": [
    "- Series is a one-dimensional array-like object that can hold a variety of data types, including integers, floats, and strings. A Series is essentially a column in a DataFrame, and can be thought of as a single column of data.\n",
    "- Not only is each attribute a series, but each row is also a series."
   ]
  },
  {
   "cell_type": "code",
   "execution_count": 2,
   "id": "7370ff2e",
   "metadata": {},
   "outputs": [
    {
     "name": "stdout",
     "output_type": "stream",
     "text": [
      "a    10\n",
      "b    20\n",
      "c    30\n",
      "d    40\n",
      "e    50\n",
      "dtype: int64\n"
     ]
    }
   ],
   "source": [
    "import pandas as pd\n",
    "\n",
    "# Creating a Series\n",
    "data = pd.Series([10, 20, 30, 40, 50], index=['a', 'b', 'c', 'd', 'e'])\n",
    "print(data)"
   ]
  },
  {
   "cell_type": "markdown",
   "id": "5947f3e5",
   "metadata": {},
   "source": [
    "- Access elements using these indices"
   ]
  },
  {
   "cell_type": "code",
   "execution_count": 3,
   "id": "f718820b",
   "metadata": {},
   "outputs": [
    {
     "name": "stdout",
     "output_type": "stream",
     "text": [
      "30\n"
     ]
    }
   ],
   "source": [
    "print(data['c'])  # Output: 30"
   ]
  },
  {
   "cell_type": "markdown",
   "id": "9e44a3b9",
   "metadata": {},
   "source": [
    "- We can print values, and index by the following command:"
   ]
  },
  {
   "cell_type": "code",
   "execution_count": 4,
   "id": "f095737d",
   "metadata": {},
   "outputs": [
    {
     "name": "stdout",
     "output_type": "stream",
     "text": [
      "Index(['a', 'b', 'c', 'd', 'e'], dtype='object')\n",
      "[10 20 30 40 50]\n"
     ]
    }
   ],
   "source": [
    "print(data.index)\n",
    "print(data.values)"
   ]
  },
  {
   "cell_type": "markdown",
   "id": "9013e43d",
   "metadata": {},
   "source": [
    "- If we want to change the index of a series, we will encounter this error:"
   ]
  },
  {
   "cell_type": "code",
   "execution_count": 6,
   "id": "8bbf4c65",
   "metadata": {},
   "outputs": [
    {
     "name": "stdout",
     "output_type": "stream",
     "text": [
      "An error occurred: Index does not support mutable operations\n"
     ]
    }
   ],
   "source": [
    "try:  \n",
    "    data.index[0] = 'z'  \n",
    "except Exception as e:  \n",
    "    print(f\"An error occurred: {e}\")  "
   ]
  },
  {
   "cell_type": "markdown",
   "id": "4f639256",
   "metadata": {},
   "source": [
    "- The index ['a', 'b', 'c'] is immutable. If you want to change the index, you can do so by reassigning it:"
   ]
  },
  {
   "cell_type": "code",
   "execution_count": 7,
   "id": "0d009590",
   "metadata": {},
   "outputs": [
    {
     "data": {
      "text/plain": [
       "x    10\n",
       "y    20\n",
       "c    30\n",
       "d    40\n",
       "e    50\n",
       "dtype: int64"
      ]
     },
     "execution_count": 7,
     "metadata": {},
     "output_type": "execute_result"
    }
   ],
   "source": [
    "new_series = data.rename(index={'a': 'x', 'b': 'y'})\n",
    "new_series"
   ]
  },
  {
   "cell_type": "markdown",
   "id": "e188c8a3",
   "metadata": {},
   "source": [
    "## DataFrame: The Two-Dimensional Data Structure"
   ]
  },
  {
   "cell_type": "code",
   "execution_count": 8,
   "id": "b55ae106",
   "metadata": {},
   "outputs": [
    {
     "name": "stdout",
     "output_type": "stream",
     "text": [
      "    Name  Age    City\n",
      "0  Nahid   28  Tehran\n",
      "1   Anna   24   Paris\n",
      "2   Sara   35  Berlin\n",
      "3  Cyrus   32  London\n"
     ]
    }
   ],
   "source": [
    "# Creating a DataFrame\n",
    "data = {\n",
    "    'Name': ['Nahid', 'Anna', 'Sara', 'Cyrus'],\n",
    "    'Age': [28, 24, 35, 32],\n",
    "    'City': ['Tehran', 'Paris', 'Berlin', 'London']\n",
    "}\n",
    "\n",
    "df = pd.DataFrame(data)\n",
    "print(df)"
   ]
  },
  {
   "cell_type": "markdown",
   "id": "4fe0394e",
   "metadata": {},
   "source": [
    "## Basic DataFrame Operations"
   ]
  },
  {
   "cell_type": "markdown",
   "id": "189ac45c",
   "metadata": {},
   "source": [
    "### 1. Basic Operations"
   ]
  },
  {
   "cell_type": "code",
   "execution_count": 9,
   "id": "b9f49ff0",
   "metadata": {},
   "outputs": [],
   "source": [
    "import pandas as pd\n",
    "df = pd.read_csv('Datasets/pandas/adult.csv')"
   ]
  },
  {
   "cell_type": "markdown",
   "id": "03a8996d",
   "metadata": {},
   "source": [
    "- `.head()`: Retrieves the first five rows"
   ]
  },
  {
   "cell_type": "code",
   "execution_count": 32,
   "id": "2fbeb6dc",
   "metadata": {},
   "outputs": [
    {
     "data": {
      "text/html": [
       "<div>\n",
       "<style scoped>\n",
       "    .dataframe tbody tr th:only-of-type {\n",
       "        vertical-align: middle;\n",
       "    }\n",
       "\n",
       "    .dataframe tbody tr th {\n",
       "        vertical-align: top;\n",
       "    }\n",
       "\n",
       "    .dataframe thead th {\n",
       "        text-align: right;\n",
       "    }\n",
       "</style>\n",
       "<table border=\"1\" class=\"dataframe\">\n",
       "  <thead>\n",
       "    <tr style=\"text-align: right;\">\n",
       "      <th></th>\n",
       "      <th>age</th>\n",
       "      <th>workclass</th>\n",
       "      <th>fnlwgt</th>\n",
       "      <th>education</th>\n",
       "      <th>education-num</th>\n",
       "      <th>marital-status</th>\n",
       "      <th>occupation</th>\n",
       "      <th>relationship</th>\n",
       "      <th>race</th>\n",
       "      <th>sex</th>\n",
       "      <th>capitalGain</th>\n",
       "      <th>capitalLoss</th>\n",
       "      <th>hoursPerWeek</th>\n",
       "      <th>nativeCountry</th>\n",
       "      <th>income</th>\n",
       "    </tr>\n",
       "  </thead>\n",
       "  <tbody>\n",
       "    <tr>\n",
       "      <th>0</th>\n",
       "      <td>39</td>\n",
       "      <td>State-gov</td>\n",
       "      <td>77516</td>\n",
       "      <td>Bachelors</td>\n",
       "      <td>13</td>\n",
       "      <td>Never-married</td>\n",
       "      <td>Adm-clerical</td>\n",
       "      <td>Not-in-family</td>\n",
       "      <td>White</td>\n",
       "      <td>Male</td>\n",
       "      <td>2174</td>\n",
       "      <td>0</td>\n",
       "      <td>40</td>\n",
       "      <td>United-States</td>\n",
       "      <td>&lt;=50K</td>\n",
       "    </tr>\n",
       "    <tr>\n",
       "      <th>1</th>\n",
       "      <td>50</td>\n",
       "      <td>Self-emp-not-inc</td>\n",
       "      <td>83311</td>\n",
       "      <td>Bachelors</td>\n",
       "      <td>13</td>\n",
       "      <td>Married-civ-spouse</td>\n",
       "      <td>Exec-managerial</td>\n",
       "      <td>Husband</td>\n",
       "      <td>White</td>\n",
       "      <td>Male</td>\n",
       "      <td>0</td>\n",
       "      <td>0</td>\n",
       "      <td>13</td>\n",
       "      <td>United-States</td>\n",
       "      <td>&lt;=50K</td>\n",
       "    </tr>\n",
       "    <tr>\n",
       "      <th>2</th>\n",
       "      <td>38</td>\n",
       "      <td>Private</td>\n",
       "      <td>215646</td>\n",
       "      <td>HS-grad</td>\n",
       "      <td>9</td>\n",
       "      <td>Divorced</td>\n",
       "      <td>Handlers-cleaners</td>\n",
       "      <td>Not-in-family</td>\n",
       "      <td>White</td>\n",
       "      <td>Male</td>\n",
       "      <td>0</td>\n",
       "      <td>0</td>\n",
       "      <td>40</td>\n",
       "      <td>United-States</td>\n",
       "      <td>&lt;=50K</td>\n",
       "    </tr>\n",
       "    <tr>\n",
       "      <th>3</th>\n",
       "      <td>53</td>\n",
       "      <td>Private</td>\n",
       "      <td>234721</td>\n",
       "      <td>11th</td>\n",
       "      <td>7</td>\n",
       "      <td>Married-civ-spouse</td>\n",
       "      <td>Handlers-cleaners</td>\n",
       "      <td>Husband</td>\n",
       "      <td>Black</td>\n",
       "      <td>Male</td>\n",
       "      <td>0</td>\n",
       "      <td>0</td>\n",
       "      <td>40</td>\n",
       "      <td>United-States</td>\n",
       "      <td>&lt;=50K</td>\n",
       "    </tr>\n",
       "    <tr>\n",
       "      <th>4</th>\n",
       "      <td>28</td>\n",
       "      <td>Private</td>\n",
       "      <td>338409</td>\n",
       "      <td>Bachelors</td>\n",
       "      <td>13</td>\n",
       "      <td>Married-civ-spouse</td>\n",
       "      <td>Prof-specialty</td>\n",
       "      <td>Wife</td>\n",
       "      <td>Black</td>\n",
       "      <td>Female</td>\n",
       "      <td>0</td>\n",
       "      <td>0</td>\n",
       "      <td>40</td>\n",
       "      <td>Cuba</td>\n",
       "      <td>&lt;=50K</td>\n",
       "    </tr>\n",
       "  </tbody>\n",
       "</table>\n",
       "</div>"
      ],
      "text/plain": [
       "   age         workclass  fnlwgt  education  education-num  \\\n",
       "0   39         State-gov   77516  Bachelors             13   \n",
       "1   50  Self-emp-not-inc   83311  Bachelors             13   \n",
       "2   38           Private  215646    HS-grad              9   \n",
       "3   53           Private  234721       11th              7   \n",
       "4   28           Private  338409  Bachelors             13   \n",
       "\n",
       "       marital-status         occupation   relationship   race     sex  \\\n",
       "0       Never-married       Adm-clerical  Not-in-family  White    Male   \n",
       "1  Married-civ-spouse    Exec-managerial        Husband  White    Male   \n",
       "2            Divorced  Handlers-cleaners  Not-in-family  White    Male   \n",
       "3  Married-civ-spouse  Handlers-cleaners        Husband  Black    Male   \n",
       "4  Married-civ-spouse     Prof-specialty           Wife  Black  Female   \n",
       "\n",
       "   capitalGain  capitalLoss  hoursPerWeek  nativeCountry income  \n",
       "0         2174            0            40  United-States  <=50K  \n",
       "1            0            0            13  United-States  <=50K  \n",
       "2            0            0            40  United-States  <=50K  \n",
       "3            0            0            40  United-States  <=50K  \n",
       "4            0            0            40           Cuba  <=50K  "
      ]
     },
     "execution_count": 32,
     "metadata": {},
     "output_type": "execute_result"
    }
   ],
   "source": [
    "df.head()"
   ]
  },
  {
   "cell_type": "markdown",
   "id": "2887fb69",
   "metadata": {},
   "source": [
    "- `.tail()`: Retrieves the last five rows"
   ]
  },
  {
   "cell_type": "code",
   "execution_count": 33,
   "id": "0adbaffb",
   "metadata": {},
   "outputs": [
    {
     "data": {
      "text/html": [
       "<div>\n",
       "<style scoped>\n",
       "    .dataframe tbody tr th:only-of-type {\n",
       "        vertical-align: middle;\n",
       "    }\n",
       "\n",
       "    .dataframe tbody tr th {\n",
       "        vertical-align: top;\n",
       "    }\n",
       "\n",
       "    .dataframe thead th {\n",
       "        text-align: right;\n",
       "    }\n",
       "</style>\n",
       "<table border=\"1\" class=\"dataframe\">\n",
       "  <thead>\n",
       "    <tr style=\"text-align: right;\">\n",
       "      <th></th>\n",
       "      <th>age</th>\n",
       "      <th>workclass</th>\n",
       "      <th>fnlwgt</th>\n",
       "      <th>education</th>\n",
       "      <th>education-num</th>\n",
       "      <th>marital-status</th>\n",
       "      <th>occupation</th>\n",
       "      <th>relationship</th>\n",
       "      <th>race</th>\n",
       "      <th>sex</th>\n",
       "      <th>capitalGain</th>\n",
       "      <th>capitalLoss</th>\n",
       "      <th>hoursPerWeek</th>\n",
       "      <th>nativeCountry</th>\n",
       "      <th>income</th>\n",
       "    </tr>\n",
       "  </thead>\n",
       "  <tbody>\n",
       "    <tr>\n",
       "      <th>32556</th>\n",
       "      <td>27</td>\n",
       "      <td>Private</td>\n",
       "      <td>257302</td>\n",
       "      <td>Assoc-acdm</td>\n",
       "      <td>12</td>\n",
       "      <td>Married-civ-spouse</td>\n",
       "      <td>Tech-support</td>\n",
       "      <td>Wife</td>\n",
       "      <td>White</td>\n",
       "      <td>Female</td>\n",
       "      <td>0</td>\n",
       "      <td>0</td>\n",
       "      <td>38</td>\n",
       "      <td>United-States</td>\n",
       "      <td>&lt;=50K</td>\n",
       "    </tr>\n",
       "    <tr>\n",
       "      <th>32557</th>\n",
       "      <td>40</td>\n",
       "      <td>Private</td>\n",
       "      <td>154374</td>\n",
       "      <td>HS-grad</td>\n",
       "      <td>9</td>\n",
       "      <td>Married-civ-spouse</td>\n",
       "      <td>Machine-op-inspct</td>\n",
       "      <td>Husband</td>\n",
       "      <td>White</td>\n",
       "      <td>Male</td>\n",
       "      <td>0</td>\n",
       "      <td>0</td>\n",
       "      <td>40</td>\n",
       "      <td>United-States</td>\n",
       "      <td>&gt;50K</td>\n",
       "    </tr>\n",
       "    <tr>\n",
       "      <th>32558</th>\n",
       "      <td>58</td>\n",
       "      <td>Private</td>\n",
       "      <td>151910</td>\n",
       "      <td>HS-grad</td>\n",
       "      <td>9</td>\n",
       "      <td>Widowed</td>\n",
       "      <td>Adm-clerical</td>\n",
       "      <td>Unmarried</td>\n",
       "      <td>White</td>\n",
       "      <td>Female</td>\n",
       "      <td>0</td>\n",
       "      <td>0</td>\n",
       "      <td>40</td>\n",
       "      <td>United-States</td>\n",
       "      <td>&lt;=50K</td>\n",
       "    </tr>\n",
       "    <tr>\n",
       "      <th>32559</th>\n",
       "      <td>22</td>\n",
       "      <td>Private</td>\n",
       "      <td>201490</td>\n",
       "      <td>HS-grad</td>\n",
       "      <td>9</td>\n",
       "      <td>Never-married</td>\n",
       "      <td>Adm-clerical</td>\n",
       "      <td>Own-child</td>\n",
       "      <td>White</td>\n",
       "      <td>Male</td>\n",
       "      <td>0</td>\n",
       "      <td>0</td>\n",
       "      <td>20</td>\n",
       "      <td>United-States</td>\n",
       "      <td>&lt;=50K</td>\n",
       "    </tr>\n",
       "    <tr>\n",
       "      <th>32560</th>\n",
       "      <td>52</td>\n",
       "      <td>Self-emp-inc</td>\n",
       "      <td>287927</td>\n",
       "      <td>HS-grad</td>\n",
       "      <td>9</td>\n",
       "      <td>Married-civ-spouse</td>\n",
       "      <td>Exec-managerial</td>\n",
       "      <td>Wife</td>\n",
       "      <td>White</td>\n",
       "      <td>Female</td>\n",
       "      <td>15024</td>\n",
       "      <td>0</td>\n",
       "      <td>40</td>\n",
       "      <td>United-States</td>\n",
       "      <td>&gt;50K</td>\n",
       "    </tr>\n",
       "  </tbody>\n",
       "</table>\n",
       "</div>"
      ],
      "text/plain": [
       "       age     workclass  fnlwgt   education  education-num  \\\n",
       "32556   27       Private  257302  Assoc-acdm             12   \n",
       "32557   40       Private  154374     HS-grad              9   \n",
       "32558   58       Private  151910     HS-grad              9   \n",
       "32559   22       Private  201490     HS-grad              9   \n",
       "32560   52  Self-emp-inc  287927     HS-grad              9   \n",
       "\n",
       "           marital-status         occupation relationship   race     sex  \\\n",
       "32556  Married-civ-spouse       Tech-support         Wife  White  Female   \n",
       "32557  Married-civ-spouse  Machine-op-inspct      Husband  White    Male   \n",
       "32558             Widowed       Adm-clerical    Unmarried  White  Female   \n",
       "32559       Never-married       Adm-clerical    Own-child  White    Male   \n",
       "32560  Married-civ-spouse    Exec-managerial         Wife  White  Female   \n",
       "\n",
       "       capitalGain  capitalLoss  hoursPerWeek  nativeCountry income  \n",
       "32556            0            0            38  United-States  <=50K  \n",
       "32557            0            0            40  United-States   >50K  \n",
       "32558            0            0            40  United-States  <=50K  \n",
       "32559            0            0            20  United-States  <=50K  \n",
       "32560        15024            0            40  United-States   >50K  "
      ]
     },
     "execution_count": 33,
     "metadata": {},
     "output_type": "execute_result"
    }
   ],
   "source": [
    "df.tail()"
   ]
  },
  {
   "cell_type": "markdown",
   "id": "8d2c8514",
   "metadata": {},
   "source": [
    "- `.columns`: lists all the column names"
   ]
  },
  {
   "cell_type": "code",
   "execution_count": 12,
   "id": "a689d663",
   "metadata": {},
   "outputs": [
    {
     "data": {
      "text/plain": [
       "Index(['age', 'workclass', 'fnlwgt', 'education', 'education-num',\n",
       "       'marital-status', 'occupation', 'relationship', 'race', 'sex',\n",
       "       'capitalGain', 'capitalLoss', 'hoursPerWeek', 'nativeCountry',\n",
       "       'income'],\n",
       "      dtype='object')"
      ]
     },
     "execution_count": 12,
     "metadata": {},
     "output_type": "execute_result"
    }
   ],
   "source": [
    "df.columns"
   ]
  },
  {
   "cell_type": "markdown",
   "id": "db7c78ba",
   "metadata": {},
   "source": [
    "- `len`: length of Dataframe"
   ]
  },
  {
   "cell_type": "code",
   "execution_count": 13,
   "id": "58a86974",
   "metadata": {},
   "outputs": [
    {
     "data": {
      "text/plain": [
       "32561"
      ]
     },
     "execution_count": 13,
     "metadata": {},
     "output_type": "execute_result"
    }
   ],
   "source": [
    "len(df)"
   ]
  },
  {
   "cell_type": "markdown",
   "id": "ae1cf30c",
   "metadata": {},
   "source": [
    "### 2. Accessing Data"
   ]
  },
  {
   "cell_type": "markdown",
   "id": "419439b4",
   "metadata": {},
   "source": [
    "Two of the most commonly used methods for accessing data are .loc and .iloc. Each method allows us to retrieve specific rows and columns from a DataFrame, but they do so in slightly different ways."
   ]
  },
  {
   "cell_type": "markdown",
   "id": "e33693e9",
   "metadata": {},
   "source": [
    "#### 2–1. Using .loc"
   ]
  },
  {
   "cell_type": "markdown",
   "id": "aef62c2a",
   "metadata": {},
   "source": [
    "The .loc method is label-based, meaning that it allows you to access a group of rows and columns using their labels.   \n",
    "This is particularly useful when you want to retrieve data based on the specific names of the rows or column headers.  \n",
    "- loc is used to access data in a DataFrame using label-based indexing.\n",
    "- df.loc['row_label', 'column_label']"
   ]
  },
  {
   "cell_type": "markdown",
   "id": "a5a25319",
   "metadata": {},
   "source": [
    "##### 2–1–1. Indexing in loc"
   ]
  },
  {
   "cell_type": "code",
   "execution_count": 14,
   "id": "e649235e",
   "metadata": {},
   "outputs": [
    {
     "data": {
      "text/plain": [
       "age                          22\n",
       "workclass               Private\n",
       "fnlwgt                   201490\n",
       "education               HS-grad\n",
       "education-num                 9\n",
       "marital-status    Never-married\n",
       "occupation         Adm-clerical\n",
       "relationship          Own-child\n",
       "race                      White\n",
       "sex                        Male\n",
       "capitalGain                   0\n",
       "capitalLoss                   0\n",
       "hoursPerWeek                 20\n",
       "nativeCountry     United-States\n",
       "income                    <=50K\n",
       "Name: 32559, dtype: object"
      ]
     },
     "execution_count": 14,
     "metadata": {},
     "output_type": "execute_result"
    }
   ],
   "source": [
    "df.loc[32559]"
   ]
  },
  {
   "cell_type": "markdown",
   "id": "444ec77d",
   "metadata": {},
   "source": [
    "- Accessing Specific Data in a DataFrame Using Indexing and Slicing"
   ]
  },
  {
   "cell_type": "code",
   "execution_count": 15,
   "id": "a4cd1fdf",
   "metadata": {},
   "outputs": [
    {
     "data": {
      "text/plain": [
       "'Some-college'"
      ]
     },
     "execution_count": 15,
     "metadata": {},
     "output_type": "execute_result"
    }
   ],
   "source": [
    "df.loc[10000, 'education']"
   ]
  },
  {
   "cell_type": "markdown",
   "id": "bbbcc2eb",
   "metadata": {},
   "source": [
    "##### 2–1–2. Slicing in loc"
   ]
  },
  {
   "cell_type": "markdown",
   "id": "c0b4a50e",
   "metadata": {},
   "source": [
    "- df.loc['row_label_1':'row_label_3', 'column_label_1':'column_label_2']"
   ]
  },
  {
   "cell_type": "markdown",
   "id": "1a52ad4c",
   "metadata": {},
   "source": [
    "- For Example:"
   ]
  },
  {
   "cell_type": "code",
   "execution_count": 17,
   "id": "5359081d",
   "metadata": {},
   "outputs": [
    {
     "data": {
      "text/html": [
       "<div>\n",
       "<style scoped>\n",
       "    .dataframe tbody tr th:only-of-type {\n",
       "        vertical-align: middle;\n",
       "    }\n",
       "\n",
       "    .dataframe tbody tr th {\n",
       "        vertical-align: top;\n",
       "    }\n",
       "\n",
       "    .dataframe thead th {\n",
       "        text-align: right;\n",
       "    }\n",
       "</style>\n",
       "<table border=\"1\" class=\"dataframe\">\n",
       "  <thead>\n",
       "    <tr style=\"text-align: right;\">\n",
       "      <th></th>\n",
       "      <th>age</th>\n",
       "      <th>workclass</th>\n",
       "      <th>fnlwgt</th>\n",
       "      <th>education</th>\n",
       "      <th>education-num</th>\n",
       "      <th>marital-status</th>\n",
       "      <th>occupation</th>\n",
       "    </tr>\n",
       "  </thead>\n",
       "  <tbody>\n",
       "    <tr>\n",
       "      <th>10000</th>\n",
       "      <td>34</td>\n",
       "      <td>Private</td>\n",
       "      <td>120461</td>\n",
       "      <td>Some-college</td>\n",
       "      <td>10</td>\n",
       "      <td>Divorced</td>\n",
       "      <td>Adm-clerical</td>\n",
       "    </tr>\n",
       "    <tr>\n",
       "      <th>10001</th>\n",
       "      <td>23</td>\n",
       "      <td>Private</td>\n",
       "      <td>268145</td>\n",
       "      <td>Bachelors</td>\n",
       "      <td>13</td>\n",
       "      <td>Never-married</td>\n",
       "      <td>Exec-managerial</td>\n",
       "    </tr>\n",
       "    <tr>\n",
       "      <th>10002</th>\n",
       "      <td>54</td>\n",
       "      <td>Private</td>\n",
       "      <td>257337</td>\n",
       "      <td>Some-college</td>\n",
       "      <td>10</td>\n",
       "      <td>Married-civ-spouse</td>\n",
       "      <td>Craft-repair</td>\n",
       "    </tr>\n",
       "  </tbody>\n",
       "</table>\n",
       "</div>"
      ],
      "text/plain": [
       "       age workclass  fnlwgt     education  education-num      marital-status  \\\n",
       "10000   34   Private  120461  Some-college             10            Divorced   \n",
       "10001   23   Private  268145     Bachelors             13       Never-married   \n",
       "10002   54   Private  257337  Some-college             10  Married-civ-spouse   \n",
       "\n",
       "            occupation  \n",
       "10000     Adm-clerical  \n",
       "10001  Exec-managerial  \n",
       "10002     Craft-repair  "
      ]
     },
     "execution_count": 17,
     "metadata": {},
     "output_type": "execute_result"
    }
   ],
   "source": [
    "df.loc[10000:10002, 'age': 'occupation']"
   ]
  },
  {
   "cell_type": "markdown",
   "id": "f1f0d787",
   "metadata": {},
   "source": [
    "#### 2–2. Using .iloc"
   ]
  },
  {
   "cell_type": "markdown",
   "id": "ccfb143b",
   "metadata": {},
   "source": [
    "On the other hand, the .iloc method is integer-location based, which means it allows you to access rows and columns by their integer index positions.   \n",
    "This is ideal when the exact position of the rows or columns is known but labels are not."
   ]
  },
  {
   "cell_type": "markdown",
   "id": "317e3cba",
   "metadata": {},
   "source": [
    "- Access to one column"
   ]
  },
  {
   "cell_type": "code",
   "execution_count": 18,
   "id": "a7e18cb8",
   "metadata": {},
   "outputs": [
    {
     "data": {
      "text/plain": [
       "0        39\n",
       "1        50\n",
       "2        38\n",
       "3        53\n",
       "4        28\n",
       "         ..\n",
       "32556    27\n",
       "32557    40\n",
       "32558    58\n",
       "32559    22\n",
       "32560    52\n",
       "Name: age, Length: 32561, dtype: int64"
      ]
     },
     "execution_count": 18,
     "metadata": {},
     "output_type": "execute_result"
    }
   ],
   "source": [
    "df.age"
   ]
  },
  {
   "cell_type": "markdown",
   "id": "f0d2a461",
   "metadata": {},
   "source": [
    "##### 2–2–1. indexing in iloc"
   ]
  },
  {
   "cell_type": "code",
   "execution_count": 19,
   "id": "9d9162ce",
   "metadata": {},
   "outputs": [
    {
     "data": {
      "text/plain": [
       "age                          39\n",
       "workclass             State-gov\n",
       "fnlwgt                    77516\n",
       "education             Bachelors\n",
       "education-num                13\n",
       "marital-status    Never-married\n",
       "occupation         Adm-clerical\n",
       "relationship      Not-in-family\n",
       "race                      White\n",
       "sex                        Male\n",
       "capitalGain                2174\n",
       "capitalLoss                   0\n",
       "hoursPerWeek                 40\n",
       "nativeCountry     United-States\n",
       "income                    <=50K\n",
       "Name: 0, dtype: object"
      ]
     },
     "execution_count": 19,
     "metadata": {},
     "output_type": "execute_result"
    }
   ],
   "source": [
    "df.iloc[0]"
   ]
  },
  {
   "cell_type": "markdown",
   "id": "19e9d459",
   "metadata": {},
   "source": [
    "- More than one elements:"
   ]
  },
  {
   "cell_type": "code",
   "execution_count": 20,
   "id": "7705fd26",
   "metadata": {},
   "outputs": [
    {
     "data": {
      "text/plain": [
       "'State-gov'"
      ]
     },
     "execution_count": 20,
     "metadata": {},
     "output_type": "execute_result"
    }
   ],
   "source": [
    "df.iloc[0, 1]"
   ]
  },
  {
   "cell_type": "markdown",
   "id": "c6c309fe",
   "metadata": {},
   "source": [
    "##### 2–2–2. Slicing in iloc"
   ]
  },
  {
   "cell_type": "code",
   "execution_count": 24,
   "id": "87b03211",
   "metadata": {},
   "outputs": [
    {
     "data": {
      "text/html": [
       "<div>\n",
       "<style scoped>\n",
       "    .dataframe tbody tr th:only-of-type {\n",
       "        vertical-align: middle;\n",
       "    }\n",
       "\n",
       "    .dataframe tbody tr th {\n",
       "        vertical-align: top;\n",
       "    }\n",
       "\n",
       "    .dataframe thead th {\n",
       "        text-align: right;\n",
       "    }\n",
       "</style>\n",
       "<table border=\"1\" class=\"dataframe\">\n",
       "  <thead>\n",
       "    <tr style=\"text-align: right;\">\n",
       "      <th></th>\n",
       "      <th>age</th>\n",
       "      <th>workclass</th>\n",
       "      <th>fnlwgt</th>\n",
       "      <th>education</th>\n",
       "      <th>education-num</th>\n",
       "      <th>marital-status</th>\n",
       "      <th>occupation</th>\n",
       "      <th>relationship</th>\n",
       "      <th>race</th>\n",
       "      <th>sex</th>\n",
       "      <th>capitalGain</th>\n",
       "      <th>capitalLoss</th>\n",
       "      <th>hoursPerWeek</th>\n",
       "      <th>nativeCountry</th>\n",
       "      <th>income</th>\n",
       "    </tr>\n",
       "  </thead>\n",
       "  <tbody>\n",
       "    <tr>\n",
       "      <th>0</th>\n",
       "      <td>39</td>\n",
       "      <td>State-gov</td>\n",
       "      <td>77516</td>\n",
       "      <td>Bachelors</td>\n",
       "      <td>13</td>\n",
       "      <td>Never-married</td>\n",
       "      <td>Adm-clerical</td>\n",
       "      <td>Not-in-family</td>\n",
       "      <td>White</td>\n",
       "      <td>Male</td>\n",
       "      <td>2174</td>\n",
       "      <td>0</td>\n",
       "      <td>40</td>\n",
       "      <td>United-States</td>\n",
       "      <td>&lt;=50K</td>\n",
       "    </tr>\n",
       "    <tr>\n",
       "      <th>1</th>\n",
       "      <td>50</td>\n",
       "      <td>Self-emp-not-inc</td>\n",
       "      <td>83311</td>\n",
       "      <td>Bachelors</td>\n",
       "      <td>13</td>\n",
       "      <td>Married-civ-spouse</td>\n",
       "      <td>Exec-managerial</td>\n",
       "      <td>Husband</td>\n",
       "      <td>White</td>\n",
       "      <td>Male</td>\n",
       "      <td>0</td>\n",
       "      <td>0</td>\n",
       "      <td>13</td>\n",
       "      <td>United-States</td>\n",
       "      <td>&lt;=50K</td>\n",
       "    </tr>\n",
       "  </tbody>\n",
       "</table>\n",
       "</div>"
      ],
      "text/plain": [
       "   age         workclass  fnlwgt  education  education-num  \\\n",
       "0   39         State-gov   77516  Bachelors             13   \n",
       "1   50  Self-emp-not-inc   83311  Bachelors             13   \n",
       "\n",
       "       marital-status       occupation   relationship   race   sex  \\\n",
       "0       Never-married     Adm-clerical  Not-in-family  White  Male   \n",
       "1  Married-civ-spouse  Exec-managerial        Husband  White  Male   \n",
       "\n",
       "   capitalGain  capitalLoss  hoursPerWeek  nativeCountry income  \n",
       "0         2174            0            40  United-States  <=50K  \n",
       "1            0            0            13  United-States  <=50K  "
      ]
     },
     "execution_count": 24,
     "metadata": {},
     "output_type": "execute_result"
    }
   ],
   "source": [
    "df.iloc[0:2]"
   ]
  },
  {
   "cell_type": "code",
   "execution_count": 25,
   "id": "639938cb",
   "metadata": {},
   "outputs": [
    {
     "data": {
      "text/html": [
       "<div>\n",
       "<style scoped>\n",
       "    .dataframe tbody tr th:only-of-type {\n",
       "        vertical-align: middle;\n",
       "    }\n",
       "\n",
       "    .dataframe tbody tr th {\n",
       "        vertical-align: top;\n",
       "    }\n",
       "\n",
       "    .dataframe thead th {\n",
       "        text-align: right;\n",
       "    }\n",
       "</style>\n",
       "<table border=\"1\" class=\"dataframe\">\n",
       "  <thead>\n",
       "    <tr style=\"text-align: right;\">\n",
       "      <th></th>\n",
       "      <th>fnlwgt</th>\n",
       "      <th>education</th>\n",
       "      <th>education-num</th>\n",
       "    </tr>\n",
       "  </thead>\n",
       "  <tbody>\n",
       "    <tr>\n",
       "      <th>0</th>\n",
       "      <td>77516</td>\n",
       "      <td>Bachelors</td>\n",
       "      <td>13</td>\n",
       "    </tr>\n",
       "    <tr>\n",
       "      <th>1</th>\n",
       "      <td>83311</td>\n",
       "      <td>Bachelors</td>\n",
       "      <td>13</td>\n",
       "    </tr>\n",
       "  </tbody>\n",
       "</table>\n",
       "</div>"
      ],
      "text/plain": [
       "   fnlwgt  education  education-num\n",
       "0   77516  Bachelors             13\n",
       "1   83311  Bachelors             13"
      ]
     },
     "execution_count": 25,
     "metadata": {},
     "output_type": "execute_result"
    }
   ],
   "source": [
    "df.iloc[0:2, 2:5]"
   ]
  },
  {
   "cell_type": "markdown",
   "id": "a0da791c",
   "metadata": {},
   "source": [
    "**Note**: The only difference between a column series and a row series is that the index of   \n",
    "a column series is the index of the DataFrame, and the index of a row series is the column names."
   ]
  },
  {
   "cell_type": "markdown",
   "id": "f66bdda4",
   "metadata": {},
   "source": [
    "- Index of a row series:"
   ]
  },
  {
   "cell_type": "code",
   "execution_count": 26,
   "id": "a212aad9",
   "metadata": {},
   "outputs": [
    {
     "data": {
      "text/plain": [
       "Index(['age', 'workclass', 'fnlwgt', 'education', 'education-num',\n",
       "       'marital-status', 'occupation', 'relationship', 'race', 'sex',\n",
       "       'capitalGain', 'capitalLoss', 'hoursPerWeek', 'nativeCountry',\n",
       "       'income'],\n",
       "      dtype='object')"
      ]
     },
     "execution_count": 26,
     "metadata": {},
     "output_type": "execute_result"
    }
   ],
   "source": [
    "df.loc[0].index"
   ]
  },
  {
   "cell_type": "markdown",
   "id": "5794b573",
   "metadata": {},
   "source": [
    "- Index of a column series"
   ]
  },
  {
   "cell_type": "code",
   "execution_count": 27,
   "id": "b6051cc0",
   "metadata": {},
   "outputs": [
    {
     "data": {
      "text/plain": [
       "RangeIndex(start=0, stop=32561, step=1)"
      ]
     },
     "execution_count": 27,
     "metadata": {},
     "output_type": "execute_result"
    }
   ],
   "source": [
    "df.age.index"
   ]
  },
  {
   "cell_type": "markdown",
   "id": "66e2e83a",
   "metadata": {},
   "source": [
    "## 3. Filtering Data"
   ]
  },
  {
   "cell_type": "code",
   "execution_count": 28,
   "id": "6c17f7f7",
   "metadata": {},
   "outputs": [
    {
     "data": {
      "text/html": [
       "<div>\n",
       "<style scoped>\n",
       "    .dataframe tbody tr th:only-of-type {\n",
       "        vertical-align: middle;\n",
       "    }\n",
       "\n",
       "    .dataframe tbody tr th {\n",
       "        vertical-align: top;\n",
       "    }\n",
       "\n",
       "    .dataframe thead th {\n",
       "        text-align: right;\n",
       "    }\n",
       "</style>\n",
       "<table border=\"1\" class=\"dataframe\">\n",
       "  <thead>\n",
       "    <tr style=\"text-align: right;\">\n",
       "      <th></th>\n",
       "      <th>age</th>\n",
       "      <th>workclass</th>\n",
       "      <th>fnlwgt</th>\n",
       "      <th>education</th>\n",
       "      <th>education-num</th>\n",
       "      <th>marital-status</th>\n",
       "      <th>occupation</th>\n",
       "      <th>relationship</th>\n",
       "      <th>race</th>\n",
       "      <th>sex</th>\n",
       "      <th>capitalGain</th>\n",
       "      <th>capitalLoss</th>\n",
       "      <th>hoursPerWeek</th>\n",
       "      <th>nativeCountry</th>\n",
       "      <th>income</th>\n",
       "    </tr>\n",
       "  </thead>\n",
       "  <tbody>\n",
       "    <tr>\n",
       "      <th>222</th>\n",
       "      <td>90</td>\n",
       "      <td>Private</td>\n",
       "      <td>51744</td>\n",
       "      <td>HS-grad</td>\n",
       "      <td>9</td>\n",
       "      <td>Never-married</td>\n",
       "      <td>Other-service</td>\n",
       "      <td>Not-in-family</td>\n",
       "      <td>Black</td>\n",
       "      <td>Male</td>\n",
       "      <td>0</td>\n",
       "      <td>2206</td>\n",
       "      <td>40</td>\n",
       "      <td>United-States</td>\n",
       "      <td>&lt;=50K</td>\n",
       "    </tr>\n",
       "    <tr>\n",
       "      <th>1040</th>\n",
       "      <td>90</td>\n",
       "      <td>Private</td>\n",
       "      <td>137018</td>\n",
       "      <td>HS-grad</td>\n",
       "      <td>9</td>\n",
       "      <td>Never-married</td>\n",
       "      <td>Other-service</td>\n",
       "      <td>Not-in-family</td>\n",
       "      <td>White</td>\n",
       "      <td>Female</td>\n",
       "      <td>0</td>\n",
       "      <td>0</td>\n",
       "      <td>40</td>\n",
       "      <td>United-States</td>\n",
       "      <td>&lt;=50K</td>\n",
       "    </tr>\n",
       "  </tbody>\n",
       "</table>\n",
       "</div>"
      ],
      "text/plain": [
       "      age workclass  fnlwgt education  education-num marital-status  \\\n",
       "222    90   Private   51744   HS-grad              9  Never-married   \n",
       "1040   90   Private  137018   HS-grad              9  Never-married   \n",
       "\n",
       "         occupation   relationship   race     sex  capitalGain  capitalLoss  \\\n",
       "222   Other-service  Not-in-family  Black    Male            0         2206   \n",
       "1040  Other-service  Not-in-family  White  Female            0            0   \n",
       "\n",
       "      hoursPerWeek  nativeCountry income  \n",
       "222             40  United-States  <=50K  \n",
       "1040            40  United-States  <=50K  "
      ]
     },
     "execution_count": 28,
     "metadata": {},
     "output_type": "execute_result"
    }
   ],
   "source": [
    "# Selecting rows where Age > 89\n",
    "filtered_df = df[df['age'] > 89]\n",
    "filtered_df.head(2)"
   ]
  },
  {
   "cell_type": "markdown",
   "id": "26780d79",
   "metadata": {},
   "source": [
    "## 4. Adding New Columns"
   ]
  },
  {
   "cell_type": "code",
   "execution_count": 30,
   "id": "026b1bf7",
   "metadata": {},
   "outputs": [
    {
     "data": {
      "text/html": [
       "<div>\n",
       "<style scoped>\n",
       "    .dataframe tbody tr th:only-of-type {\n",
       "        vertical-align: middle;\n",
       "    }\n",
       "\n",
       "    .dataframe tbody tr th {\n",
       "        vertical-align: top;\n",
       "    }\n",
       "\n",
       "    .dataframe thead th {\n",
       "        text-align: right;\n",
       "    }\n",
       "</style>\n",
       "<table border=\"1\" class=\"dataframe\">\n",
       "  <thead>\n",
       "    <tr style=\"text-align: right;\">\n",
       "      <th></th>\n",
       "      <th>age</th>\n",
       "      <th>workclass</th>\n",
       "      <th>fnlwgt</th>\n",
       "      <th>education</th>\n",
       "      <th>education-num</th>\n",
       "      <th>marital-status</th>\n",
       "      <th>occupation</th>\n",
       "      <th>relationship</th>\n",
       "      <th>race</th>\n",
       "      <th>sex</th>\n",
       "      <th>capitalGain</th>\n",
       "      <th>capitalLoss</th>\n",
       "      <th>hoursPerWeek</th>\n",
       "      <th>nativeCountry</th>\n",
       "      <th>income</th>\n",
       "      <th>random_category</th>\n",
       "    </tr>\n",
       "  </thead>\n",
       "  <tbody>\n",
       "    <tr>\n",
       "      <th>0</th>\n",
       "      <td>39</td>\n",
       "      <td>State-gov</td>\n",
       "      <td>77516</td>\n",
       "      <td>Bachelors</td>\n",
       "      <td>13</td>\n",
       "      <td>Never-married</td>\n",
       "      <td>Adm-clerical</td>\n",
       "      <td>Not-in-family</td>\n",
       "      <td>White</td>\n",
       "      <td>Male</td>\n",
       "      <td>2174</td>\n",
       "      <td>0</td>\n",
       "      <td>40</td>\n",
       "      <td>United-States</td>\n",
       "      <td>&lt;=50K</td>\n",
       "      <td>High</td>\n",
       "    </tr>\n",
       "    <tr>\n",
       "      <th>1</th>\n",
       "      <td>50</td>\n",
       "      <td>Self-emp-not-inc</td>\n",
       "      <td>83311</td>\n",
       "      <td>Bachelors</td>\n",
       "      <td>13</td>\n",
       "      <td>Married-civ-spouse</td>\n",
       "      <td>Exec-managerial</td>\n",
       "      <td>Husband</td>\n",
       "      <td>White</td>\n",
       "      <td>Male</td>\n",
       "      <td>0</td>\n",
       "      <td>0</td>\n",
       "      <td>13</td>\n",
       "      <td>United-States</td>\n",
       "      <td>&lt;=50K</td>\n",
       "      <td>Low</td>\n",
       "    </tr>\n",
       "    <tr>\n",
       "      <th>2</th>\n",
       "      <td>38</td>\n",
       "      <td>Private</td>\n",
       "      <td>215646</td>\n",
       "      <td>HS-grad</td>\n",
       "      <td>9</td>\n",
       "      <td>Divorced</td>\n",
       "      <td>Handlers-cleaners</td>\n",
       "      <td>Not-in-family</td>\n",
       "      <td>White</td>\n",
       "      <td>Male</td>\n",
       "      <td>0</td>\n",
       "      <td>0</td>\n",
       "      <td>40</td>\n",
       "      <td>United-States</td>\n",
       "      <td>&lt;=50K</td>\n",
       "      <td>High</td>\n",
       "    </tr>\n",
       "    <tr>\n",
       "      <th>3</th>\n",
       "      <td>53</td>\n",
       "      <td>Private</td>\n",
       "      <td>234721</td>\n",
       "      <td>11th</td>\n",
       "      <td>7</td>\n",
       "      <td>Married-civ-spouse</td>\n",
       "      <td>Handlers-cleaners</td>\n",
       "      <td>Husband</td>\n",
       "      <td>Black</td>\n",
       "      <td>Male</td>\n",
       "      <td>0</td>\n",
       "      <td>0</td>\n",
       "      <td>40</td>\n",
       "      <td>United-States</td>\n",
       "      <td>&lt;=50K</td>\n",
       "      <td>Medium</td>\n",
       "    </tr>\n",
       "    <tr>\n",
       "      <th>4</th>\n",
       "      <td>28</td>\n",
       "      <td>Private</td>\n",
       "      <td>338409</td>\n",
       "      <td>Bachelors</td>\n",
       "      <td>13</td>\n",
       "      <td>Married-civ-spouse</td>\n",
       "      <td>Prof-specialty</td>\n",
       "      <td>Wife</td>\n",
       "      <td>Black</td>\n",
       "      <td>Female</td>\n",
       "      <td>0</td>\n",
       "      <td>0</td>\n",
       "      <td>40</td>\n",
       "      <td>Cuba</td>\n",
       "      <td>&lt;=50K</td>\n",
       "      <td>Medium</td>\n",
       "    </tr>\n",
       "  </tbody>\n",
       "</table>\n",
       "</div>"
      ],
      "text/plain": [
       "   age         workclass  fnlwgt  education  education-num  \\\n",
       "0   39         State-gov   77516  Bachelors             13   \n",
       "1   50  Self-emp-not-inc   83311  Bachelors             13   \n",
       "2   38           Private  215646    HS-grad              9   \n",
       "3   53           Private  234721       11th              7   \n",
       "4   28           Private  338409  Bachelors             13   \n",
       "\n",
       "       marital-status         occupation   relationship   race     sex  \\\n",
       "0       Never-married       Adm-clerical  Not-in-family  White    Male   \n",
       "1  Married-civ-spouse    Exec-managerial        Husband  White    Male   \n",
       "2            Divorced  Handlers-cleaners  Not-in-family  White    Male   \n",
       "3  Married-civ-spouse  Handlers-cleaners        Husband  Black    Male   \n",
       "4  Married-civ-spouse     Prof-specialty           Wife  Black  Female   \n",
       "\n",
       "   capitalGain  capitalLoss  hoursPerWeek  nativeCountry income  \\\n",
       "0         2174            0            40  United-States  <=50K   \n",
       "1            0            0            13  United-States  <=50K   \n",
       "2            0            0            40  United-States  <=50K   \n",
       "3            0            0            40  United-States  <=50K   \n",
       "4            0            0            40           Cuba  <=50K   \n",
       "\n",
       "  random_category  \n",
       "0            High  \n",
       "1             Low  \n",
       "2            High  \n",
       "3          Medium  \n",
       "4          Medium  "
      ]
     },
     "execution_count": 30,
     "metadata": {},
     "output_type": "execute_result"
    }
   ],
   "source": [
    "import numpy as np\n",
    "\n",
    "choices = ['Low', 'Medium', 'High']  \n",
    "df['random_category'] = np.random.choice(choices, size=len(df))\n",
    "df.head()"
   ]
  },
  {
   "cell_type": "markdown",
   "id": "50947885",
   "metadata": {},
   "source": [
    "## 5. Dropping Columns and Rows"
   ]
  },
  {
   "cell_type": "code",
   "execution_count": 31,
   "id": "0d0fa03d",
   "metadata": {},
   "outputs": [
    {
     "data": {
      "text/html": [
       "<div>\n",
       "<style scoped>\n",
       "    .dataframe tbody tr th:only-of-type {\n",
       "        vertical-align: middle;\n",
       "    }\n",
       "\n",
       "    .dataframe tbody tr th {\n",
       "        vertical-align: top;\n",
       "    }\n",
       "\n",
       "    .dataframe thead th {\n",
       "        text-align: right;\n",
       "    }\n",
       "</style>\n",
       "<table border=\"1\" class=\"dataframe\">\n",
       "  <thead>\n",
       "    <tr style=\"text-align: right;\">\n",
       "      <th></th>\n",
       "      <th>age</th>\n",
       "      <th>workclass</th>\n",
       "      <th>fnlwgt</th>\n",
       "      <th>education</th>\n",
       "      <th>education-num</th>\n",
       "      <th>marital-status</th>\n",
       "      <th>occupation</th>\n",
       "      <th>relationship</th>\n",
       "      <th>race</th>\n",
       "      <th>sex</th>\n",
       "      <th>capitalGain</th>\n",
       "      <th>capitalLoss</th>\n",
       "      <th>hoursPerWeek</th>\n",
       "      <th>nativeCountry</th>\n",
       "      <th>income</th>\n",
       "    </tr>\n",
       "  </thead>\n",
       "  <tbody>\n",
       "    <tr>\n",
       "      <th>0</th>\n",
       "      <td>39</td>\n",
       "      <td>State-gov</td>\n",
       "      <td>77516</td>\n",
       "      <td>Bachelors</td>\n",
       "      <td>13</td>\n",
       "      <td>Never-married</td>\n",
       "      <td>Adm-clerical</td>\n",
       "      <td>Not-in-family</td>\n",
       "      <td>White</td>\n",
       "      <td>Male</td>\n",
       "      <td>2174</td>\n",
       "      <td>0</td>\n",
       "      <td>40</td>\n",
       "      <td>United-States</td>\n",
       "      <td>&lt;=50K</td>\n",
       "    </tr>\n",
       "    <tr>\n",
       "      <th>1</th>\n",
       "      <td>50</td>\n",
       "      <td>Self-emp-not-inc</td>\n",
       "      <td>83311</td>\n",
       "      <td>Bachelors</td>\n",
       "      <td>13</td>\n",
       "      <td>Married-civ-spouse</td>\n",
       "      <td>Exec-managerial</td>\n",
       "      <td>Husband</td>\n",
       "      <td>White</td>\n",
       "      <td>Male</td>\n",
       "      <td>0</td>\n",
       "      <td>0</td>\n",
       "      <td>13</td>\n",
       "      <td>United-States</td>\n",
       "      <td>&lt;=50K</td>\n",
       "    </tr>\n",
       "    <tr>\n",
       "      <th>2</th>\n",
       "      <td>38</td>\n",
       "      <td>Private</td>\n",
       "      <td>215646</td>\n",
       "      <td>HS-grad</td>\n",
       "      <td>9</td>\n",
       "      <td>Divorced</td>\n",
       "      <td>Handlers-cleaners</td>\n",
       "      <td>Not-in-family</td>\n",
       "      <td>White</td>\n",
       "      <td>Male</td>\n",
       "      <td>0</td>\n",
       "      <td>0</td>\n",
       "      <td>40</td>\n",
       "      <td>United-States</td>\n",
       "      <td>&lt;=50K</td>\n",
       "    </tr>\n",
       "    <tr>\n",
       "      <th>3</th>\n",
       "      <td>53</td>\n",
       "      <td>Private</td>\n",
       "      <td>234721</td>\n",
       "      <td>11th</td>\n",
       "      <td>7</td>\n",
       "      <td>Married-civ-spouse</td>\n",
       "      <td>Handlers-cleaners</td>\n",
       "      <td>Husband</td>\n",
       "      <td>Black</td>\n",
       "      <td>Male</td>\n",
       "      <td>0</td>\n",
       "      <td>0</td>\n",
       "      <td>40</td>\n",
       "      <td>United-States</td>\n",
       "      <td>&lt;=50K</td>\n",
       "    </tr>\n",
       "    <tr>\n",
       "      <th>4</th>\n",
       "      <td>28</td>\n",
       "      <td>Private</td>\n",
       "      <td>338409</td>\n",
       "      <td>Bachelors</td>\n",
       "      <td>13</td>\n",
       "      <td>Married-civ-spouse</td>\n",
       "      <td>Prof-specialty</td>\n",
       "      <td>Wife</td>\n",
       "      <td>Black</td>\n",
       "      <td>Female</td>\n",
       "      <td>0</td>\n",
       "      <td>0</td>\n",
       "      <td>40</td>\n",
       "      <td>Cuba</td>\n",
       "      <td>&lt;=50K</td>\n",
       "    </tr>\n",
       "  </tbody>\n",
       "</table>\n",
       "</div>"
      ],
      "text/plain": [
       "   age         workclass  fnlwgt  education  education-num  \\\n",
       "0   39         State-gov   77516  Bachelors             13   \n",
       "1   50  Self-emp-not-inc   83311  Bachelors             13   \n",
       "2   38           Private  215646    HS-grad              9   \n",
       "3   53           Private  234721       11th              7   \n",
       "4   28           Private  338409  Bachelors             13   \n",
       "\n",
       "       marital-status         occupation   relationship   race     sex  \\\n",
       "0       Never-married       Adm-clerical  Not-in-family  White    Male   \n",
       "1  Married-civ-spouse    Exec-managerial        Husband  White    Male   \n",
       "2            Divorced  Handlers-cleaners  Not-in-family  White    Male   \n",
       "3  Married-civ-spouse  Handlers-cleaners        Husband  Black    Male   \n",
       "4  Married-civ-spouse     Prof-specialty           Wife  Black  Female   \n",
       "\n",
       "   capitalGain  capitalLoss  hoursPerWeek  nativeCountry income  \n",
       "0         2174            0            40  United-States  <=50K  \n",
       "1            0            0            13  United-States  <=50K  \n",
       "2            0            0            40  United-States  <=50K  \n",
       "3            0            0            40  United-States  <=50K  \n",
       "4            0            0            40           Cuba  <=50K  "
      ]
     },
     "execution_count": 31,
     "metadata": {},
     "output_type": "execute_result"
    }
   ],
   "source": [
    "# Dropping the 'Country' column\n",
    "df = df.drop('random_category', axis=1)\n",
    "df.head()"
   ]
  },
  {
   "cell_type": "markdown",
   "id": "973804f3",
   "metadata": {},
   "source": [
    "# Session 2 - Data Loading and Exploration"
   ]
  },
  {
   "cell_type": "markdown",
   "id": "d38e1080",
   "metadata": {},
   "source": [
    "## 1. Loading Data from Various Sources"
   ]
  },
  {
   "cell_type": "markdown",
   "id": "e9789931",
   "metadata": {},
   "source": [
    "### a. Loading CSV Files"
   ]
  },
  {
   "cell_type": "code",
   "execution_count": 3,
   "id": "d019e381",
   "metadata": {},
   "outputs": [
    {
     "name": "stdout",
     "output_type": "stream",
     "text": [
      "   Order ID Product Name  Quantity  Price per Unit  Total Sales  Order Date\n",
      "0      1001     Widget A         3            15.0         45.0  2023-01-15\n",
      "1      1002     Widget B         5            22.5        112.5  2023-01-16\n",
      "2      1003     Widget C         2             8.0         16.0  2023-01-17\n",
      "3      1004     Widget A         1            15.0         15.0  2023-01-18\n",
      "4      1005     Widget D         4            30.0        120.0  2023-01-19\n"
     ]
    }
   ],
   "source": [
    "import pandas as pd\n",
    "\n",
    "df = pd.read_csv('Datasets/pandas/Sales_data.csv')\n",
    "print(df.head())"
   ]
  },
  {
   "cell_type": "markdown",
   "id": "bf128e4d",
   "metadata": {},
   "source": [
    "### b. Loading Excel Files"
   ]
  },
  {
   "cell_type": "code",
   "execution_count": 5,
   "id": "9c568185",
   "metadata": {},
   "outputs": [
    {
     "name": "stdout",
     "output_type": "stream",
     "text": [
      "   Order ID Product Name  Quantity  Price per Unit  Total Sales  Order Date\n",
      "0      1001     Widget A         3            15.0         45.0  2023-01-15\n",
      "1      1002     Widget B         5            22.5        112.5  2023-01-16\n",
      "2      1003     Widget C         2             8.0         16.0  2023-01-17\n",
      "3      1004     Widget A         1            15.0         15.0  2023-01-18\n",
      "4      1005     Widget D         4            30.0        120.0  2023-01-19\n"
     ]
    }
   ],
   "source": [
    "df_excel = pd.read_excel('Datasets/pandas/Sales_data.xlsx')\n",
    "print(df_excel.head())"
   ]
  },
  {
   "cell_type": "markdown",
   "id": "bfa0c2e2",
   "metadata": {},
   "source": [
    "### c. Loading Data from SQL Databases"
   ]
  },
  {
   "cell_type": "code",
   "execution_count": 10,
   "id": "d866fe5e",
   "metadata": {},
   "outputs": [
    {
     "name": "stdout",
     "output_type": "stream",
     "text": [
      "   Order_ID Product_Name  Quantity  Price_per_Unit  Total_Sales  Order_Date\n",
      "0      1001     Widget A         3            15.0         45.0  2023-01-15\n",
      "1      1002     Widget B         5            22.5        112.5  2023-01-16\n",
      "2      1003     Widget C         2             8.0         16.0  2023-01-17\n",
      "3      1004     Widget A         1            15.0         15.0  2023-01-18\n",
      "4      1005     Widget D         4            30.0        120.0  2023-01-19\n"
     ]
    }
   ],
   "source": [
    "import sqlite3\n",
    "\n",
    "# Connect to a SQLite database\n",
    "conn = sqlite3.connect('Datasets/pandas/sales_data.db')\n",
    "\n",
    "# Load data using an SQL query\n",
    "df_sql = pd.read_sql('SELECT * FROM sales', conn)\n",
    "conn.close()  \n",
    "\n",
    "print(df_sql.head())"
   ]
  },
  {
   "cell_type": "markdown",
   "id": "277caf60",
   "metadata": {},
   "source": [
    "### d. Loading JSON Files"
   ]
  },
  {
   "cell_type": "code",
   "execution_count": 12,
   "id": "322d4ec2",
   "metadata": {},
   "outputs": [
    {
     "name": "stdout",
     "output_type": "stream",
     "text": [
      "   Order ID Product Name  Quantity  Price per Unit  Total Sales  Order Date\n",
      "0      1001     Widget A         3            15.0         45.0  2023-01-15\n",
      "1      1002     Widget B         5            22.5        112.5  2023-01-16\n",
      "2      1003     Widget C         2             8.0         16.0  2023-01-17\n",
      "3      1004     Widget A         1            15.0         15.0  2023-01-18\n",
      "4      1005     Widget D         4            30.0        120.0  2023-01-19\n"
     ]
    }
   ],
   "source": [
    "# Load a JSON file\n",
    "df_json = pd.read_json('Datasets/pandas/sales_data.json')\n",
    "print(df_json.head())"
   ]
  },
  {
   "cell_type": "markdown",
   "id": "17e268b1",
   "metadata": {},
   "source": [
    "## 2. Inspecting DataFrames"
   ]
  },
  {
   "cell_type": "markdown",
   "id": "eaab8258",
   "metadata": {},
   "source": [
    "### a. Viewing the Top and Bottom Rows"
   ]
  },
  {
   "cell_type": "code",
   "execution_count": 13,
   "id": "cc508037",
   "metadata": {},
   "outputs": [
    {
     "name": "stdout",
     "output_type": "stream",
     "text": [
      "   Order ID Product Name  Quantity  Price per Unit  Total Sales  Order Date\n",
      "0      1001     Widget A         3            15.0         45.0  2023-01-15\n",
      "1      1002     Widget B         5            22.5        112.5  2023-01-16\n",
      "2      1003     Widget C         2             8.0         16.0  2023-01-17\n",
      "3      1004     Widget A         1            15.0         15.0  2023-01-18\n",
      "4      1005     Widget D         4            30.0        120.0  2023-01-19\n",
      "\n",
      "   Order ID Product Name  Quantity  Price per Unit  Total Sales  Order Date\n",
      "0      1001     Widget A         3            15.0         45.0  2023-01-15\n",
      "1      1002     Widget B         5            22.5        112.5  2023-01-16\n",
      "2      1003     Widget C         2             8.0         16.0  2023-01-17\n",
      "3      1004     Widget A         1            15.0         15.0  2023-01-18\n",
      "4      1005     Widget D         4            30.0        120.0  2023-01-19\n"
     ]
    }
   ],
   "source": [
    "# View the first 5 rows\n",
    "print(df.head())\n",
    "\n",
    "print()\n",
    "\n",
    "# View the last 5 rows\n",
    "print(df.tail())"
   ]
  },
  {
   "cell_type": "markdown",
   "id": "0d315060",
   "metadata": {},
   "source": [
    "### b. Getting a Summary of Your Data"
   ]
  },
  {
   "cell_type": "code",
   "execution_count": 14,
   "id": "8c2f5d03",
   "metadata": {},
   "outputs": [
    {
     "name": "stdout",
     "output_type": "stream",
     "text": [
      "<class 'pandas.core.frame.DataFrame'>\n",
      "RangeIndex: 5 entries, 0 to 4\n",
      "Data columns (total 6 columns):\n",
      " #   Column          Non-Null Count  Dtype  \n",
      "---  ------          --------------  -----  \n",
      " 0   Order ID        5 non-null      int64  \n",
      " 1   Product Name    5 non-null      object \n",
      " 2   Quantity        5 non-null      int64  \n",
      " 3   Price per Unit  5 non-null      float64\n",
      " 4   Total Sales     5 non-null      float64\n",
      " 5   Order Date      5 non-null      object \n",
      "dtypes: float64(2), int64(2), object(2)\n",
      "memory usage: 368.0+ bytes\n",
      "None\n"
     ]
    }
   ],
   "source": [
    "# Get a summary of the DataFrame\n",
    "print(df.info())"
   ]
  },
  {
   "cell_type": "markdown",
   "id": "a8015755",
   "metadata": {},
   "source": [
    "### c. Descriptive Statistics"
   ]
  },
  {
   "cell_type": "code",
   "execution_count": 15,
   "id": "f9a25f22",
   "metadata": {},
   "outputs": [
    {
     "name": "stdout",
     "output_type": "stream",
     "text": [
      "          Order ID  Quantity  Price per Unit  Total Sales\n",
      "count     5.000000  5.000000        5.000000     5.000000\n",
      "mean   1003.000000  3.000000       18.100000    61.700000\n",
      "std       1.581139  1.581139        8.399405    51.302534\n",
      "min    1001.000000  1.000000        8.000000    15.000000\n",
      "25%    1002.000000  2.000000       15.000000    16.000000\n",
      "50%    1003.000000  3.000000       15.000000    45.000000\n",
      "75%    1004.000000  4.000000       22.500000   112.500000\n",
      "max    1005.000000  5.000000       30.000000   120.000000\n"
     ]
    }
   ],
   "source": [
    "# Get descriptive statistics\n",
    "print(df.describe())"
   ]
  },
  {
   "cell_type": "markdown",
   "id": "be28b659",
   "metadata": {},
   "source": [
    "## 3. Handling Missing Data"
   ]
  },
  {
   "cell_type": "markdown",
   "id": "84451455",
   "metadata": {},
   "source": [
    "### a. Detecting Missing Data"
   ]
  },
  {
   "cell_type": "code",
   "execution_count": 16,
   "id": "8f088709",
   "metadata": {},
   "outputs": [
    {
     "name": "stdout",
     "output_type": "stream",
     "text": [
      "      Name   Age     City\n",
      "0      Ali  25.0  Isfahan\n",
      "1      Bob  30.0   Madrid\n",
      "2  Charlie   NaN      NaN\n",
      "3    David  35.0  Chicago\n",
      "4      Eve  40.0    Tokyo\n"
     ]
    }
   ],
   "source": [
    "import pandas as pd  \n",
    "import numpy as np  \n",
    "\n",
    "data = {  \n",
    "    'Name': ['Ali', 'Bob', 'Charlie', 'David', 'Eve'],  \n",
    "    'Age': [25, 30, np.nan, 35, 40],  \n",
    "    'City': ['Isfahan', 'Madrid', np.nan, 'Chicago', 'Tokyo']  \n",
    "}  \n",
    "\n",
    "df = pd.DataFrame(data)  \n",
    "print(df)"
   ]
  },
  {
   "cell_type": "markdown",
   "id": "a2b7fb27",
   "metadata": {},
   "source": [
    "- Pandas uses NaN (Not a Number) to represent missing values. You can detect missing values using the isnull() method."
   ]
  },
  {
   "cell_type": "code",
   "execution_count": 17,
   "id": "926f65a9",
   "metadata": {},
   "outputs": [
    {
     "name": "stdout",
     "output_type": "stream",
     "text": [
      "Name    0\n",
      "Age     1\n",
      "City    1\n",
      "dtype: int64\n"
     ]
    }
   ],
   "source": [
    "# Detect missing values\n",
    "print(df.isnull().sum())"
   ]
  },
  {
   "cell_type": "markdown",
   "id": "7afe06bf",
   "metadata": {},
   "source": [
    "### b. Dropping Missing Data"
   ]
  },
  {
   "cell_type": "code",
   "execution_count": 18,
   "id": "e2e667a7",
   "metadata": {},
   "outputs": [
    {
     "data": {
      "text/html": [
       "<div>\n",
       "<style scoped>\n",
       "    .dataframe tbody tr th:only-of-type {\n",
       "        vertical-align: middle;\n",
       "    }\n",
       "\n",
       "    .dataframe tbody tr th {\n",
       "        vertical-align: top;\n",
       "    }\n",
       "\n",
       "    .dataframe thead th {\n",
       "        text-align: right;\n",
       "    }\n",
       "</style>\n",
       "<table border=\"1\" class=\"dataframe\">\n",
       "  <thead>\n",
       "    <tr style=\"text-align: right;\">\n",
       "      <th></th>\n",
       "      <th>Name</th>\n",
       "      <th>Age</th>\n",
       "      <th>City</th>\n",
       "    </tr>\n",
       "  </thead>\n",
       "  <tbody>\n",
       "    <tr>\n",
       "      <th>0</th>\n",
       "      <td>Ali</td>\n",
       "      <td>25.0</td>\n",
       "      <td>Isfahan</td>\n",
       "    </tr>\n",
       "    <tr>\n",
       "      <th>1</th>\n",
       "      <td>Bob</td>\n",
       "      <td>30.0</td>\n",
       "      <td>Madrid</td>\n",
       "    </tr>\n",
       "    <tr>\n",
       "      <th>3</th>\n",
       "      <td>David</td>\n",
       "      <td>35.0</td>\n",
       "      <td>Chicago</td>\n",
       "    </tr>\n",
       "    <tr>\n",
       "      <th>4</th>\n",
       "      <td>Eve</td>\n",
       "      <td>40.0</td>\n",
       "      <td>Tokyo</td>\n",
       "    </tr>\n",
       "  </tbody>\n",
       "</table>\n",
       "</div>"
      ],
      "text/plain": [
       "    Name   Age     City\n",
       "0    Ali  25.0  Isfahan\n",
       "1    Bob  30.0   Madrid\n",
       "3  David  35.0  Chicago\n",
       "4    Eve  40.0    Tokyo"
      ]
     },
     "execution_count": 18,
     "metadata": {},
     "output_type": "execute_result"
    }
   ],
   "source": [
    "# Drop rows with missing values\n",
    "df_cleaned = df.dropna()\n",
    "df_cleaned"
   ]
  },
  {
   "cell_type": "code",
   "execution_count": 19,
   "id": "1c674cda",
   "metadata": {},
   "outputs": [
    {
     "data": {
      "text/html": [
       "<div>\n",
       "<style scoped>\n",
       "    .dataframe tbody tr th:only-of-type {\n",
       "        vertical-align: middle;\n",
       "    }\n",
       "\n",
       "    .dataframe tbody tr th {\n",
       "        vertical-align: top;\n",
       "    }\n",
       "\n",
       "    .dataframe thead th {\n",
       "        text-align: right;\n",
       "    }\n",
       "</style>\n",
       "<table border=\"1\" class=\"dataframe\">\n",
       "  <thead>\n",
       "    <tr style=\"text-align: right;\">\n",
       "      <th></th>\n",
       "      <th>Name</th>\n",
       "    </tr>\n",
       "  </thead>\n",
       "  <tbody>\n",
       "    <tr>\n",
       "      <th>0</th>\n",
       "      <td>Ali</td>\n",
       "    </tr>\n",
       "    <tr>\n",
       "      <th>1</th>\n",
       "      <td>Bob</td>\n",
       "    </tr>\n",
       "    <tr>\n",
       "      <th>2</th>\n",
       "      <td>Charlie</td>\n",
       "    </tr>\n",
       "    <tr>\n",
       "      <th>3</th>\n",
       "      <td>David</td>\n",
       "    </tr>\n",
       "    <tr>\n",
       "      <th>4</th>\n",
       "      <td>Eve</td>\n",
       "    </tr>\n",
       "  </tbody>\n",
       "</table>\n",
       "</div>"
      ],
      "text/plain": [
       "      Name\n",
       "0      Ali\n",
       "1      Bob\n",
       "2  Charlie\n",
       "3    David\n",
       "4      Eve"
      ]
     },
     "execution_count": 19,
     "metadata": {},
     "output_type": "execute_result"
    }
   ],
   "source": [
    "# Drop columns with missing values\n",
    "df_cleaned = df.dropna(axis=1)\n",
    "df_cleaned"
   ]
  },
  {
   "cell_type": "markdown",
   "id": "5a3efbc2",
   "metadata": {},
   "source": [
    "### c. Filling Missing Data"
   ]
  },
  {
   "cell_type": "code",
   "execution_count": 20,
   "id": "f6c9f26a",
   "metadata": {},
   "outputs": [
    {
     "data": {
      "text/html": [
       "<div>\n",
       "<style scoped>\n",
       "    .dataframe tbody tr th:only-of-type {\n",
       "        vertical-align: middle;\n",
       "    }\n",
       "\n",
       "    .dataframe tbody tr th {\n",
       "        vertical-align: top;\n",
       "    }\n",
       "\n",
       "    .dataframe thead th {\n",
       "        text-align: right;\n",
       "    }\n",
       "</style>\n",
       "<table border=\"1\" class=\"dataframe\">\n",
       "  <thead>\n",
       "    <tr style=\"text-align: right;\">\n",
       "      <th></th>\n",
       "      <th>Name</th>\n",
       "      <th>Age</th>\n",
       "      <th>City</th>\n",
       "    </tr>\n",
       "  </thead>\n",
       "  <tbody>\n",
       "    <tr>\n",
       "      <th>0</th>\n",
       "      <td>Ali</td>\n",
       "      <td>25.0</td>\n",
       "      <td>Isfahan</td>\n",
       "    </tr>\n",
       "    <tr>\n",
       "      <th>1</th>\n",
       "      <td>Bob</td>\n",
       "      <td>30.0</td>\n",
       "      <td>Madrid</td>\n",
       "    </tr>\n",
       "    <tr>\n",
       "      <th>2</th>\n",
       "      <td>Charlie</td>\n",
       "      <td>0.0</td>\n",
       "      <td>0</td>\n",
       "    </tr>\n",
       "    <tr>\n",
       "      <th>3</th>\n",
       "      <td>David</td>\n",
       "      <td>35.0</td>\n",
       "      <td>Chicago</td>\n",
       "    </tr>\n",
       "    <tr>\n",
       "      <th>4</th>\n",
       "      <td>Eve</td>\n",
       "      <td>40.0</td>\n",
       "      <td>Tokyo</td>\n",
       "    </tr>\n",
       "  </tbody>\n",
       "</table>\n",
       "</div>"
      ],
      "text/plain": [
       "      Name   Age     City\n",
       "0      Ali  25.0  Isfahan\n",
       "1      Bob  30.0   Madrid\n",
       "2  Charlie   0.0        0\n",
       "3    David  35.0  Chicago\n",
       "4      Eve  40.0    Tokyo"
      ]
     },
     "execution_count": 20,
     "metadata": {},
     "output_type": "execute_result"
    }
   ],
   "source": [
    "# Fill missing values with a constant\n",
    "df_filled = df.fillna(0)\n",
    "df_filled.head()"
   ]
  },
  {
   "cell_type": "markdown",
   "id": "9974d83e",
   "metadata": {},
   "source": [
    "## 4. DataFrame Indexing and Selection"
   ]
  },
  {
   "cell_type": "markdown",
   "id": "d915447f",
   "metadata": {},
   "source": [
    "### a. Selecting Columns"
   ]
  },
  {
   "cell_type": "code",
   "execution_count": 21,
   "id": "38279131",
   "metadata": {},
   "outputs": [
    {
     "data": {
      "text/plain": [
       "0        Ali\n",
       "1        Bob\n",
       "2    Charlie\n",
       "3      David\n",
       "4        Eve\n",
       "Name: Name, dtype: object"
      ]
     },
     "execution_count": 21,
     "metadata": {},
     "output_type": "execute_result"
    }
   ],
   "source": [
    "# Select a single column\n",
    "Names = df['Name']\n",
    "Names"
   ]
  },
  {
   "cell_type": "code",
   "execution_count": 22,
   "id": "363c8246",
   "metadata": {},
   "outputs": [
    {
     "data": {
      "text/html": [
       "<div>\n",
       "<style scoped>\n",
       "    .dataframe tbody tr th:only-of-type {\n",
       "        vertical-align: middle;\n",
       "    }\n",
       "\n",
       "    .dataframe tbody tr th {\n",
       "        vertical-align: top;\n",
       "    }\n",
       "\n",
       "    .dataframe thead th {\n",
       "        text-align: right;\n",
       "    }\n",
       "</style>\n",
       "<table border=\"1\" class=\"dataframe\">\n",
       "  <thead>\n",
       "    <tr style=\"text-align: right;\">\n",
       "      <th></th>\n",
       "      <th>Age</th>\n",
       "      <th>City</th>\n",
       "    </tr>\n",
       "  </thead>\n",
       "  <tbody>\n",
       "    <tr>\n",
       "      <th>0</th>\n",
       "      <td>25.0</td>\n",
       "      <td>Isfahan</td>\n",
       "    </tr>\n",
       "    <tr>\n",
       "      <th>1</th>\n",
       "      <td>30.0</td>\n",
       "      <td>Madrid</td>\n",
       "    </tr>\n",
       "    <tr>\n",
       "      <th>2</th>\n",
       "      <td>NaN</td>\n",
       "      <td>NaN</td>\n",
       "    </tr>\n",
       "    <tr>\n",
       "      <th>3</th>\n",
       "      <td>35.0</td>\n",
       "      <td>Chicago</td>\n",
       "    </tr>\n",
       "    <tr>\n",
       "      <th>4</th>\n",
       "      <td>40.0</td>\n",
       "      <td>Tokyo</td>\n",
       "    </tr>\n",
       "  </tbody>\n",
       "</table>\n",
       "</div>"
      ],
      "text/plain": [
       "    Age     City\n",
       "0  25.0  Isfahan\n",
       "1  30.0   Madrid\n",
       "2   NaN      NaN\n",
       "3  35.0  Chicago\n",
       "4  40.0    Tokyo"
      ]
     },
     "execution_count": 22,
     "metadata": {},
     "output_type": "execute_result"
    }
   ],
   "source": [
    "# Select multiple columns\n",
    "age_name = df[['Age', 'City']]\n",
    "age_name"
   ]
  },
  {
   "cell_type": "markdown",
   "id": "1677c027",
   "metadata": {},
   "source": [
    "### b. Selecting Rows"
   ]
  },
  {
   "cell_type": "markdown",
   "id": "83152a6f",
   "metadata": {},
   "source": [
    "- Select rows by index position  \n"
   ]
  },
  {
   "cell_type": "code",
   "execution_count": 31,
   "id": "31e57602",
   "metadata": {},
   "outputs": [
    {
     "name": "stdout",
     "output_type": "stream",
     "text": [
      "Row by index position (0):\n",
      "Name        Ali\n",
      "Age        25.0\n",
      "City    Isfahan\n",
      "Name: 0, dtype: object\n"
     ]
    }
   ],
   "source": [
    "import pandas as pd  \n",
    "\n",
    "# Create the DataFrame  \n",
    "data = {  \n",
    "    'Name': ['Ali', 'Bob', 'Charlie', 'David', 'Eve'],  \n",
    "    'Age': [25.0, 30.0, None, 35.0, 40.0],  \n",
    "    'City': ['Isfahan', 'Madrid', None, 'Chicago', 'Tokyo']  \n",
    "}  \n",
    "df = pd.DataFrame(data)  \n",
    "\n",
    "# Select rows by index position  \n",
    "row_0 = df.iloc[0]  \n",
    "print(\"Row by index position (0):\")  \n",
    "print(row_0)  "
   ]
  },
  {
   "cell_type": "markdown",
   "id": "e31523d1",
   "metadata": {},
   "source": [
    "- select rows by index label  "
   ]
  },
  {
   "cell_type": "code",
   "execution_count": 32,
   "id": "f7b12e44",
   "metadata": {},
   "outputs": [
    {
     "name": "stdout",
     "output_type": "stream",
     "text": [
      "\n",
      "Row by index label ('A'):\n",
      "Name        Ali\n",
      "Age        25.0\n",
      "City    Isfahan\n",
      "Name: A, dtype: object\n"
     ]
    }
   ],
   "source": [
    "# Set a custom index  \n",
    "df.index = ['A', 'B', 'C', 'D', 'E']  \n",
    "\n",
    "# Now, select rows by index label  \n",
    "row_a = df.loc['A']  \n",
    "print(\"\\nRow by index label ('A'):\")  \n",
    "print(row_a)"
   ]
  },
  {
   "cell_type": "markdown",
   "id": "c684c3e2",
   "metadata": {},
   "source": [
    "### c. Boolean Indexing"
   ]
  },
  {
   "cell_type": "code",
   "execution_count": 33,
   "id": "a5e1505e",
   "metadata": {},
   "outputs": [
    {
     "data": {
      "text/html": [
       "<div>\n",
       "<style scoped>\n",
       "    .dataframe tbody tr th:only-of-type {\n",
       "        vertical-align: middle;\n",
       "    }\n",
       "\n",
       "    .dataframe tbody tr th {\n",
       "        vertical-align: top;\n",
       "    }\n",
       "\n",
       "    .dataframe thead th {\n",
       "        text-align: right;\n",
       "    }\n",
       "</style>\n",
       "<table border=\"1\" class=\"dataframe\">\n",
       "  <thead>\n",
       "    <tr style=\"text-align: right;\">\n",
       "      <th></th>\n",
       "      <th>Name</th>\n",
       "      <th>Age</th>\n",
       "      <th>City</th>\n",
       "    </tr>\n",
       "  </thead>\n",
       "  <tbody>\n",
       "    <tr>\n",
       "      <th>D</th>\n",
       "      <td>David</td>\n",
       "      <td>35.0</td>\n",
       "      <td>Chicago</td>\n",
       "    </tr>\n",
       "    <tr>\n",
       "      <th>E</th>\n",
       "      <td>Eve</td>\n",
       "      <td>40.0</td>\n",
       "      <td>Tokyo</td>\n",
       "    </tr>\n",
       "  </tbody>\n",
       "</table>\n",
       "</div>"
      ],
      "text/plain": [
       "    Name   Age     City\n",
       "D  David  35.0  Chicago\n",
       "E    Eve  40.0    Tokyo"
      ]
     },
     "execution_count": 33,
     "metadata": {},
     "output_type": "execute_result"
    }
   ],
   "source": [
    "# Select rows where ages are greater than 30\n",
    "greater_that_30 = df[df['Age'] > 30]\n",
    "greater_that_30"
   ]
  },
  {
   "cell_type": "markdown",
   "id": "6c288bff",
   "metadata": {},
   "source": [
    "### d. Setting and Resetting Index"
   ]
  },
  {
   "cell_type": "code",
   "execution_count": 34,
   "id": "b4a6a5aa",
   "metadata": {},
   "outputs": [
    {
     "data": {
      "text/html": [
       "<div>\n",
       "<style scoped>\n",
       "    .dataframe tbody tr th:only-of-type {\n",
       "        vertical-align: middle;\n",
       "    }\n",
       "\n",
       "    .dataframe tbody tr th {\n",
       "        vertical-align: top;\n",
       "    }\n",
       "\n",
       "    .dataframe thead th {\n",
       "        text-align: right;\n",
       "    }\n",
       "</style>\n",
       "<table border=\"1\" class=\"dataframe\">\n",
       "  <thead>\n",
       "    <tr style=\"text-align: right;\">\n",
       "      <th></th>\n",
       "      <th>Name</th>\n",
       "      <th>City</th>\n",
       "    </tr>\n",
       "    <tr>\n",
       "      <th>Age</th>\n",
       "      <th></th>\n",
       "      <th></th>\n",
       "    </tr>\n",
       "  </thead>\n",
       "  <tbody>\n",
       "    <tr>\n",
       "      <th>25.0</th>\n",
       "      <td>Ali</td>\n",
       "      <td>Isfahan</td>\n",
       "    </tr>\n",
       "    <tr>\n",
       "      <th>30.0</th>\n",
       "      <td>Bob</td>\n",
       "      <td>Madrid</td>\n",
       "    </tr>\n",
       "    <tr>\n",
       "      <th>NaN</th>\n",
       "      <td>Charlie</td>\n",
       "      <td>None</td>\n",
       "    </tr>\n",
       "    <tr>\n",
       "      <th>35.0</th>\n",
       "      <td>David</td>\n",
       "      <td>Chicago</td>\n",
       "    </tr>\n",
       "    <tr>\n",
       "      <th>40.0</th>\n",
       "      <td>Eve</td>\n",
       "      <td>Tokyo</td>\n",
       "    </tr>\n",
       "  </tbody>\n",
       "</table>\n",
       "</div>"
      ],
      "text/plain": [
       "         Name     City\n",
       "Age                   \n",
       "25.0      Ali  Isfahan\n",
       "30.0      Bob   Madrid\n",
       "NaN   Charlie     None\n",
       "35.0    David  Chicago\n",
       "40.0      Eve    Tokyo"
      ]
     },
     "execution_count": 34,
     "metadata": {},
     "output_type": "execute_result"
    }
   ],
   "source": [
    "# Set 'Date' as the index\n",
    "df = df.set_index('Age')\n",
    "df"
   ]
  },
  {
   "cell_type": "code",
   "execution_count": 35,
   "id": "b4aa1e98",
   "metadata": {},
   "outputs": [
    {
     "data": {
      "text/html": [
       "<div>\n",
       "<style scoped>\n",
       "    .dataframe tbody tr th:only-of-type {\n",
       "        vertical-align: middle;\n",
       "    }\n",
       "\n",
       "    .dataframe tbody tr th {\n",
       "        vertical-align: top;\n",
       "    }\n",
       "\n",
       "    .dataframe thead th {\n",
       "        text-align: right;\n",
       "    }\n",
       "</style>\n",
       "<table border=\"1\" class=\"dataframe\">\n",
       "  <thead>\n",
       "    <tr style=\"text-align: right;\">\n",
       "      <th></th>\n",
       "      <th>Age</th>\n",
       "      <th>Name</th>\n",
       "      <th>City</th>\n",
       "    </tr>\n",
       "  </thead>\n",
       "  <tbody>\n",
       "    <tr>\n",
       "      <th>0</th>\n",
       "      <td>25.0</td>\n",
       "      <td>Ali</td>\n",
       "      <td>Isfahan</td>\n",
       "    </tr>\n",
       "    <tr>\n",
       "      <th>1</th>\n",
       "      <td>30.0</td>\n",
       "      <td>Bob</td>\n",
       "      <td>Madrid</td>\n",
       "    </tr>\n",
       "    <tr>\n",
       "      <th>2</th>\n",
       "      <td>NaN</td>\n",
       "      <td>Charlie</td>\n",
       "      <td>None</td>\n",
       "    </tr>\n",
       "    <tr>\n",
       "      <th>3</th>\n",
       "      <td>35.0</td>\n",
       "      <td>David</td>\n",
       "      <td>Chicago</td>\n",
       "    </tr>\n",
       "    <tr>\n",
       "      <th>4</th>\n",
       "      <td>40.0</td>\n",
       "      <td>Eve</td>\n",
       "      <td>Tokyo</td>\n",
       "    </tr>\n",
       "  </tbody>\n",
       "</table>\n",
       "</div>"
      ],
      "text/plain": [
       "    Age     Name     City\n",
       "0  25.0      Ali  Isfahan\n",
       "1  30.0      Bob   Madrid\n",
       "2   NaN  Charlie     None\n",
       "3  35.0    David  Chicago\n",
       "4  40.0      Eve    Tokyo"
      ]
     },
     "execution_count": 35,
     "metadata": {},
     "output_type": "execute_result"
    }
   ],
   "source": [
    "# Reset the index\n",
    "df = df.reset_index()\n",
    "df"
   ]
  },
  {
   "cell_type": "markdown",
   "id": "d690a4b5",
   "metadata": {},
   "source": [
    "# Session 3 - Data Cleaning and Preparation"
   ]
  },
  {
   "cell_type": "markdown",
   "id": "c3560f1f",
   "metadata": {},
   "source": [
    "## 1. Data Type Conversion\n",
    "Data types are the foundation of any dataset, and ensuring that each column has the correct data type is crucial for accurate analysis."
   ]
  },
  {
   "cell_type": "markdown",
   "id": "aaf8ff35",
   "metadata": {},
   "source": [
    "### 1.1 Identifying Data Types"
   ]
  },
  {
   "cell_type": "code",
   "execution_count": 2,
   "id": "3d56f3fa",
   "metadata": {},
   "outputs": [
    {
     "data": {
      "text/plain": [
       "Name      object\n",
       "Age       object\n",
       "Salary     int64\n",
       "dtype: object"
      ]
     },
     "execution_count": 2,
     "metadata": {},
     "output_type": "execute_result"
    }
   ],
   "source": [
    "import pandas as pd\n",
    "\n",
    "# Sample DataFrame\n",
    "data = {'Name': ['Alex', 'Reza', 'Maryam', 'Irvin'],\n",
    "        'Age': ['25', '30', '35', '40'],\n",
    "        'Salary': [70000, 80000, 120000, 90000]}\n",
    "\n",
    "df = pd.DataFrame(data)\n",
    "df.dtypes"
   ]
  },
  {
   "cell_type": "markdown",
   "id": "f8599975",
   "metadata": {},
   "source": [
    "### 1.2 Converting Data Types"
   ]
  },
  {
   "cell_type": "code",
   "execution_count": 3,
   "id": "cbc6756f",
   "metadata": {},
   "outputs": [
    {
     "name": "stdout",
     "output_type": "stream",
     "text": [
      "Name      object\n",
      "Age        int64\n",
      "Salary     int64\n",
      "dtype: object\n"
     ]
    }
   ],
   "source": [
    "# Converting 'Age' to integer\n",
    "df['Age'] = df['Age'].astype(int)\n",
    "print(df.dtypes)"
   ]
  },
  {
   "cell_type": "markdown",
   "id": "5e62d786",
   "metadata": {},
   "source": [
    "### 1.3 Handling Conversion Errors"
   ]
  },
  {
   "cell_type": "code",
   "execution_count": 5,
   "id": "f5dc208e",
   "metadata": {},
   "outputs": [
    {
     "data": {
      "text/html": [
       "<div>\n",
       "<style scoped>\n",
       "    .dataframe tbody tr th:only-of-type {\n",
       "        vertical-align: middle;\n",
       "    }\n",
       "\n",
       "    .dataframe tbody tr th {\n",
       "        vertical-align: top;\n",
       "    }\n",
       "\n",
       "    .dataframe thead th {\n",
       "        text-align: right;\n",
       "    }\n",
       "</style>\n",
       "<table border=\"1\" class=\"dataframe\">\n",
       "  <thead>\n",
       "    <tr style=\"text-align: right;\">\n",
       "      <th></th>\n",
       "      <th>Name</th>\n",
       "      <th>Age</th>\n",
       "      <th>Salary</th>\n",
       "    </tr>\n",
       "  </thead>\n",
       "  <tbody>\n",
       "    <tr>\n",
       "      <th>0</th>\n",
       "      <td>Alex</td>\n",
       "      <td>25.0</td>\n",
       "      <td>70000</td>\n",
       "    </tr>\n",
       "    <tr>\n",
       "      <th>1</th>\n",
       "      <td>Reza</td>\n",
       "      <td>30.0</td>\n",
       "      <td>80000</td>\n",
       "    </tr>\n",
       "    <tr>\n",
       "      <th>2</th>\n",
       "      <td>Maryam</td>\n",
       "      <td>NaN</td>\n",
       "      <td>120000</td>\n",
       "    </tr>\n",
       "    <tr>\n",
       "      <th>3</th>\n",
       "      <td>Irvin</td>\n",
       "      <td>40.0</td>\n",
       "      <td>90000</td>\n",
       "    </tr>\n",
       "  </tbody>\n",
       "</table>\n",
       "</div>"
      ],
      "text/plain": [
       "     Name   Age  Salary\n",
       "0    Alex  25.0   70000\n",
       "1    Reza  30.0   80000\n",
       "2  Maryam   NaN  120000\n",
       "3   Irvin  40.0   90000"
      ]
     },
     "execution_count": 5,
     "metadata": {},
     "output_type": "execute_result"
    }
   ],
   "source": [
    "# Introducing an error in data\n",
    "df['Age'] = ['25', '30', 'thirty-five', '40']\n",
    "\n",
    "# Converting with error handling\n",
    "df['Age'] = pd.to_numeric(df['Age'], errors='coerce')\n",
    "df"
   ]
  },
  {
   "cell_type": "markdown",
   "id": "787de393",
   "metadata": {},
   "source": [
    "## 2. Handling Duplicates\n",
    "Duplicates can skew your data analysis by giving more weight to certain observations."
   ]
  },
  {
   "cell_type": "markdown",
   "id": "982425aa",
   "metadata": {},
   "source": [
    "### 2.1 Identifying Duplicates"
   ]
  },
  {
   "cell_type": "code",
   "execution_count": 6,
   "id": "7b2e95c7",
   "metadata": {},
   "outputs": [
    {
     "name": "stdout",
     "output_type": "stream",
     "text": [
      "0    False\n",
      "1    False\n",
      "2    False\n",
      "3     True\n",
      "dtype: bool\n"
     ]
    }
   ],
   "source": [
    "# Sample DataFrame with duplicates\n",
    "data = {'Name': ['Ebrahim', 'Bob', 'Charlie', 'Ebrahim'],\n",
    "        'Age': [25, 30, 35, 25],\n",
    "        'Salary': [70000, 80000, 120000, 70000]}\n",
    "\n",
    "df = pd.DataFrame(data)\n",
    "print(df.duplicated())"
   ]
  },
  {
   "cell_type": "markdown",
   "id": "a8500efd",
   "metadata": {},
   "source": [
    "### 2.2 Removing Duplicates"
   ]
  },
  {
   "cell_type": "code",
   "execution_count": 7,
   "id": "269e83b5",
   "metadata": {},
   "outputs": [
    {
     "name": "stdout",
     "output_type": "stream",
     "text": [
      "      Name  Age  Salary\n",
      "0  Ebrahim   25   70000\n",
      "1      Bob   30   80000\n",
      "2  Charlie   35  120000\n"
     ]
    }
   ],
   "source": [
    "# Removing duplicate rows\n",
    "df = df.drop_duplicates()\n",
    "print(df)"
   ]
  },
  {
   "cell_type": "markdown",
   "id": "7ba13fa0",
   "metadata": {},
   "source": [
    "## 3. Filling and Dropping Missing Data\n",
    "Missing data is a common issue, and handling it effectively is key to maintaining data integrity."
   ]
  },
  {
   "cell_type": "markdown",
   "id": "85a7af83",
   "metadata": {},
   "source": [
    "### 3.1 Identifying Missing Data"
   ]
  },
  {
   "cell_type": "code",
   "execution_count": 8,
   "id": "8ea40a82",
   "metadata": {},
   "outputs": [
    {
     "name": "stdout",
     "output_type": "stream",
     "text": [
      "    Name    Age  Salary\n",
      "0  False  False   False\n",
      "1  False   True   False\n",
      "2  False  False    True\n",
      "3  False  False   False\n"
     ]
    }
   ],
   "source": [
    "# Sample DataFrame with missing values\n",
    "data = {'Name': ['Alex', 'Reza', 'Maryam', 'Irvin'],\n",
    "        'Age': [25, None, 35, 40],\n",
    "        'Salary': [70000, 80000, None, 90000]}\n",
    "\n",
    "df = pd.DataFrame(data)\n",
    "print(df.isnull())"
   ]
  },
  {
   "cell_type": "markdown",
   "id": "7a50e408",
   "metadata": {},
   "source": [
    "### 3.2 Dropping Missing Data"
   ]
  },
  {
   "cell_type": "code",
   "execution_count": 9,
   "id": "510b1bef",
   "metadata": {},
   "outputs": [
    {
     "name": "stdout",
     "output_type": "stream",
     "text": [
      "    Name   Age   Salary\n",
      "0   Alex  25.0  70000.0\n",
      "3  Irvin  40.0  90000.0\n"
     ]
    }
   ],
   "source": [
    "# Dropping rows with missing values\n",
    "df_dropped = df.dropna()\n",
    "print(df_dropped)"
   ]
  },
  {
   "cell_type": "markdown",
   "id": "09e48f9a",
   "metadata": {},
   "source": [
    "### 3.3 Filling Missing Data"
   ]
  },
  {
   "cell_type": "code",
   "execution_count": 10,
   "id": "cef40a88",
   "metadata": {},
   "outputs": [
    {
     "name": "stdout",
     "output_type": "stream",
     "text": [
      "     Name        Age   Salary\n",
      "0    Alex  25.000000  70000.0\n",
      "1    Reza  33.333333  80000.0\n",
      "2  Maryam  35.000000  80000.0\n",
      "3   Irvin  40.000000  90000.0\n"
     ]
    }
   ],
   "source": [
    "# Filling missing values with a specific value\n",
    "df_filled = df.fillna({'Age': df['Age'].mean(), 'Salary': df['Salary'].median()})\n",
    "print(df_filled)"
   ]
  },
  {
   "cell_type": "markdown",
   "id": "52f9f587",
   "metadata": {},
   "source": [
    "## 4. Renaming Columns and Indexes\n",
    "Consistent and descriptive column names are important for readability and maintainability of your code."
   ]
  },
  {
   "cell_type": "markdown",
   "id": "3b4322e0",
   "metadata": {},
   "source": [
    "### 4.1 Renaming Columns"
   ]
  },
  {
   "cell_type": "code",
   "execution_count": 11,
   "id": "aa32cc10",
   "metadata": {},
   "outputs": [
    {
     "name": "stdout",
     "output_type": "stream",
     "text": [
      "  Employee Name  Employee Age   Salary\n",
      "0          Alex          25.0  70000.0\n",
      "1          Reza           NaN  80000.0\n",
      "2        Maryam          35.0      NaN\n",
      "3         Irvin          40.0  90000.0\n"
     ]
    }
   ],
   "source": [
    "# Renaming columns\n",
    "df = df.rename(columns={'Name': 'Employee Name', 'Age': 'Employee Age'})\n",
    "print(df)"
   ]
  },
  {
   "cell_type": "markdown",
   "id": "d01fe98f",
   "metadata": {},
   "source": [
    "### 4.2 Renaming Indexes"
   ]
  },
  {
   "cell_type": "code",
   "execution_count": 12,
   "id": "5e02c54a",
   "metadata": {},
   "outputs": [
    {
     "name": "stdout",
     "output_type": "stream",
     "text": [
      "     Employee Name  Employee Age   Salary\n",
      "Emp1          Alex          25.0  70000.0\n",
      "Emp2          Reza           NaN  80000.0\n",
      "Emp3        Maryam          35.0      NaN\n",
      "Emp4         Irvin          40.0  90000.0\n"
     ]
    }
   ],
   "source": [
    "# Renaming the index\n",
    "df.index = ['Emp1', 'Emp2', 'Emp3', 'Emp4']\n",
    "print(df)"
   ]
  },
  {
   "cell_type": "markdown",
   "id": "a72de16c",
   "metadata": {},
   "source": [
    "# Session 4 - Data Manipulation with Pandas"
   ]
  },
  {
   "cell_type": "markdown",
   "id": "b6e517d4",
   "metadata": {},
   "source": [
    "## 1. Filtering and Selecting Data\n",
    "Filtering and selecting data are fundamental tasks in data analysis. Pandas provides powerful methods for accessing specific data based on conditions."
   ]
  },
  {
   "cell_type": "markdown",
   "id": "22c87ff4",
   "metadata": {},
   "source": [
    "### Example: Filtering Sales Data\n",
    "Imagine you have a DataFrame containing sales data for different products across multiple regions:"
   ]
  },
  {
   "cell_type": "code",
   "execution_count": 13,
   "id": "49802b92",
   "metadata": {},
   "outputs": [
    {
     "name": "stdout",
     "output_type": "stream",
     "text": [
      "  Product Region  Sales\n",
      "1       B  South    400\n",
      "2       C   East    300\n"
     ]
    }
   ],
   "source": [
    "import pandas as pd\n",
    "\n",
    "# Sample DataFrame\n",
    "data = {\n",
    "    'Product': ['A', 'B', 'C', 'D'],\n",
    "    'Region': ['North', 'South', 'East', 'West'],\n",
    "    'Sales': [250, 400, 300, 200]\n",
    "}\n",
    "df = pd.DataFrame(data)\n",
    "\n",
    "# Filtering for products with sales greater than 250\n",
    "filtered_df = df[df['Sales'] > 250]\n",
    "print(filtered_df)"
   ]
  },
  {
   "cell_type": "markdown",
   "id": "b6abd39e",
   "metadata": {},
   "source": [
    "## 2. Adding, Modifying, and Deleting Columns\n",
    "Manipulating columns in a DataFrame is a common task when preparing data for analysis. You may need to add new derived columns, update existing ones, or remove unnecessary columns."
   ]
  },
  {
   "cell_type": "markdown",
   "id": "3459c693",
   "metadata": {},
   "source": [
    "### Example: Adding a Profit Margin Column\n",
    "Continuing with our sales data, let’s add a new column for profit margin:"
   ]
  },
  {
   "cell_type": "code",
   "execution_count": 14,
   "id": "0fa1cf58",
   "metadata": {},
   "outputs": [
    {
     "name": "stdout",
     "output_type": "stream",
     "text": [
      "  Product Region  Sales  Profit Margin\n",
      "0       A  North    250           0.10\n",
      "1       B  South    400           0.15\n",
      "2       C   East    300           0.12\n",
      "3       D   West    200           0.08\n",
      "\n",
      "  Product Region  Sales  Profit Margin\n",
      "0       A  North  225.0           0.10\n",
      "1       B  South  360.0           0.15\n",
      "2       C   East  270.0           0.12\n",
      "3       D   West  180.0           0.08\n",
      "\n",
      "  Product Region  Sales\n",
      "0       A  North  225.0\n",
      "1       B  South  360.0\n",
      "2       C   East  270.0\n",
      "3       D   West  180.0\n"
     ]
    }
   ],
   "source": [
    "# Adding a new column for profit margin\n",
    "df['Profit Margin'] = [0.1, 0.15, 0.12, 0.08]\n",
    "print(df)\n",
    "print()\n",
    "\n",
    "# Modifying the Sales column to reflect discounted sales\n",
    "df['Sales'] = df['Sales'] * 0.9\n",
    "print(df)\n",
    "print()\n",
    "\n",
    "# Deleting the Profit Margin column\n",
    "df.drop('Profit Margin', axis=1, inplace=True)\n",
    "print(df)"
   ]
  },
  {
   "cell_type": "markdown",
   "id": "0375b1f4",
   "metadata": {},
   "source": [
    "## 3. DataFrame Merging and Concatenation\n",
    "In data analysis, it’s common to work with multiple datasets that need to be combined. Pandas provides robust functions to merge and concatenate DataFrames."
   ]
  },
  {
   "cell_type": "markdown",
   "id": "071b5eae",
   "metadata": {},
   "source": [
    "### Example: Merging Sales and Customer Data\n",
    "Suppose you have a second DataFrame with customer satisfaction scores:"
   ]
  },
  {
   "cell_type": "code",
   "execution_count": 15,
   "id": "d655027d",
   "metadata": {},
   "outputs": [
    {
     "name": "stdout",
     "output_type": "stream",
     "text": [
      "  Product Region  Sales  Customer Satisfaction\n",
      "0       A  North  225.0                    4.5\n",
      "1       B  South  360.0                    4.7\n",
      "2       C   East  270.0                    4.3\n",
      "3       D   West  180.0                    4.1\n"
     ]
    }
   ],
   "source": [
    "# Sample DataFrame for customer satisfaction\n",
    "customer_data = {\n",
    "    'Product': ['A', 'B', 'C', 'D'],\n",
    "    'Customer Satisfaction': [4.5, 4.7, 4.3, 4.1]\n",
    "}\n",
    "df_customers = pd.DataFrame(customer_data)\n",
    "\n",
    "# Merging sales data with customer satisfaction\n",
    "merged_df = pd.merge(df, df_customers, on='Product')\n",
    "print(merged_df)"
   ]
  },
  {
   "cell_type": "markdown",
   "id": "8c243705",
   "metadata": {},
   "source": [
    "## 4. Reshaping Data: Melt, Pivot, and Pivot Table\n",
    "Reshaping data is often necessary to transform it into a format suitable for analysis. Pandas offers tools like melt, pivot, and pivot_table for this purpose."
   ]
  },
  {
   "cell_type": "markdown",
   "id": "c589a850",
   "metadata": {},
   "source": [
    "### Example: Reshaping Sales Data with Pivot Table\n",
    "Let’s assume you want to analyze sales by region and product category:"
   ]
  },
  {
   "cell_type": "code",
   "execution_count": 16,
   "id": "b01f8afa",
   "metadata": {},
   "outputs": [
    {
     "name": "stdout",
     "output_type": "stream",
     "text": [
      "  Product Region  Sales     Category\n",
      "0       A  North  225.0  Electronics\n",
      "1       B  South  360.0  Electronics\n",
      "2       C   East  270.0    Furniture\n",
      "3       D   West  180.0    Furniture\n"
     ]
    }
   ],
   "source": [
    "# Adding a new column for product category\n",
    "df['Category'] = ['Electronics', 'Electronics', 'Furniture', 'Furniture']\n",
    "print(df.head())"
   ]
  },
  {
   "cell_type": "markdown",
   "id": "d3c528f3",
   "metadata": {},
   "source": [
    "# Session 5 - Data Aggregation and Grouping"
   ]
  },
  {
   "cell_type": "markdown",
   "id": "3e3c49dc",
   "metadata": {},
   "source": [
    "## 1. Understanding GroupBy Operations"
   ]
  },
  {
   "cell_type": "code",
   "execution_count": 17,
   "id": "f79c5b7f",
   "metadata": {},
   "outputs": [
    {
     "name": "stdout",
     "output_type": "stream",
     "text": [
      "Category\n",
      "Clothing        600\n",
      "Electronics    1800\n",
      "Furniture      2100\n",
      "Name: Sales, dtype: int64\n"
     ]
    }
   ],
   "source": [
    "import pandas as pd  \n",
    "\n",
    "# Sample sales data with different categories  \n",
    "data = {  \n",
    "    'Product': ['Laptop', 'Smartphone', 'Sofa', \n",
    "                'Chair', 'T-shirt', 'Jeans'], \n",
    "\n",
    "    'Category': ['Electronics', 'Electronics', 'Furniture', \n",
    "                 'Furniture', 'Clothing', 'Clothing'],  \n",
    "                 \n",
    "    'Sales': [1000, 800, 1500, 600, 200, 400]  \n",
    "}  \n",
    "\n",
    "df = pd.DataFrame(data)  \n",
    "\n",
    "# Group by Category and sum the Sales  \n",
    "category_sales = df.groupby('Category')['Sales'].sum()  \n",
    "print(category_sales)"
   ]
  },
  {
   "cell_type": "markdown",
   "id": "7fba48ee",
   "metadata": {},
   "source": [
    "## 2. Aggregation Functions"
   ]
  },
  {
   "cell_type": "code",
   "execution_count": 18,
   "id": "733ce11e",
   "metadata": {},
   "outputs": [
    {
     "name": "stdout",
     "output_type": "stream",
     "text": [
      "Category\n",
      "Clothing        300.0\n",
      "Electronics     900.0\n",
      "Furniture      1050.0\n",
      "Name: Sales, dtype: float64\n",
      "\n",
      "Category\n",
      "Clothing       2\n",
      "Electronics    2\n",
      "Furniture      2\n",
      "Name: Sales, dtype: int64\n",
      "\n",
      "Category\n",
      "Clothing        600\n",
      "Electronics    1800\n",
      "Furniture      2100\n",
      "Name: Sales, dtype: int64\n"
     ]
    }
   ],
   "source": [
    "average_sales = df.groupby('Category')['Sales'].mean()\n",
    "print(average_sales)\n",
    "print()\n",
    "\n",
    "count_sales = df.groupby('Category')['Sales'].count()\n",
    "print(count_sales)\n",
    "print()\n",
    "\n",
    "sum_sales = df.groupby('Category')['Sales'].sum()\n",
    "print(sum_sales)"
   ]
  },
  {
   "cell_type": "markdown",
   "id": "3685481e",
   "metadata": {},
   "source": [
    "## 3. Applying Multiple Aggregations"
   ]
  },
  {
   "cell_type": "code",
   "execution_count": 19,
   "id": "fff7daf0",
   "metadata": {},
   "outputs": [
    {
     "name": "stdout",
     "output_type": "stream",
     "text": [
      "              sum    mean  count\n",
      "Category                        \n",
      "Clothing      600   300.0      2\n",
      "Electronics  1800   900.0      2\n",
      "Furniture    2100  1050.0      2\n"
     ]
    }
   ],
   "source": [
    "# Multiple aggregations using agg()\n",
    "aggregated_sales = df.groupby('Category')['Sales'].agg(['sum', 'mean', 'count'])\n",
    "print(aggregated_sales)"
   ]
  },
  {
   "cell_type": "markdown",
   "id": "1a5b53f5",
   "metadata": {},
   "source": [
    "## 4. Working with Hierarchical Indexes"
   ]
  },
  {
   "cell_type": "code",
   "execution_count": 20,
   "id": "f57429c8",
   "metadata": {},
   "outputs": [
    {
     "name": "stdout",
     "output_type": "stream",
     "text": [
      "Category     Region\n",
      "Clothing     East       400\n",
      "             South      200\n",
      "Electronics  North     1000\n",
      "             South      800\n",
      "Furniture    North      600\n",
      "             West      1500\n",
      "Name: Sales, dtype: int64\n"
     ]
    }
   ],
   "source": [
    "import pandas as pd  \n",
    "\n",
    "# Sample data with different categories and regions  \n",
    "data = {  \n",
    "    'Product': ['Laptop', 'Smartphone', \n",
    "                'Sofa', 'Chair', \n",
    "                'T-shirt', 'Jeans'],  \n",
    "\n",
    "    'Category': ['Electronics', 'Electronics', \n",
    "                 'Furniture', 'Furniture', \n",
    "                 'Clothing', 'Clothing'],  \n",
    "                 \n",
    "    'Region': ['North', 'South', 'West', 'North', 'South', 'East'],  \n",
    "    'Sales': [1000, 800, 1500, 600, 200, 400]  \n",
    "}  \n",
    "df = pd.DataFrame(data)  \n",
    "\n",
    "# Group by Category and Region, then sum the Sales  \n",
    "regional_sales = df.groupby(['Category', 'Region'])['Sales'].sum()  \n",
    "print(regional_sales)"
   ]
  },
  {
   "cell_type": "markdown",
   "id": "7c9e2552",
   "metadata": {},
   "source": [
    "## 5. Practical Use Case: Sales Data Analysis"
   ]
  },
  {
   "cell_type": "code",
   "execution_count": 21,
   "id": "108dfba1",
   "metadata": {},
   "outputs": [
    {
     "name": "stdout",
     "output_type": "stream",
     "text": [
      "                    Total Sales  Average Sales  Number of Transactions\n",
      "Category    Region                                                    \n",
      "Clothing    East            400          400.0                       1\n",
      "            South           200          200.0                       1\n",
      "Electronics North          1000         1000.0                       1\n",
      "            South           800          800.0                       1\n",
      "Furniture   North           600          600.0                       1\n",
      "            West           1500         1500.0                       1\n"
     ]
    }
   ],
   "source": [
    "# Real-world example: Aggregating sales by category and region\n",
    "sales_summary = df.groupby(['Category', 'Region'])['Sales'].agg(['sum', \n",
    "                                                                 'mean', \n",
    "                                                                 'count'])\n",
    "sales_summary.columns = ['Total Sales', \n",
    "                         'Average Sales', \n",
    "                         'Number of Transactions']\n",
    "\n",
    "print(sales_summary)"
   ]
  }
 ],
 "metadata": {
  "kernelspec": {
   "display_name": "nlp_env",
   "language": "python",
   "name": "python3"
  },
  "language_info": {
   "codemirror_mode": {
    "name": "ipython",
    "version": 3
   },
   "file_extension": ".py",
   "mimetype": "text/x-python",
   "name": "python",
   "nbconvert_exporter": "python",
   "pygments_lexer": "ipython3",
   "version": "3.9.21"
  }
 },
 "nbformat": 4,
 "nbformat_minor": 5
}
