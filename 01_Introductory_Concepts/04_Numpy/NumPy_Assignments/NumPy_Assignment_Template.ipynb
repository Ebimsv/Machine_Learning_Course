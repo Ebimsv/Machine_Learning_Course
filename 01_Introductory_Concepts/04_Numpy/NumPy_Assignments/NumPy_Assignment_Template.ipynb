{
 "cells": [
  {
   "cell_type": "markdown",
   "metadata": {},
   "source": [
    "# 📝 **NumPy Assignment Series**"
   ]
  },
  {
   "cell_type": "markdown",
   "metadata": {},
   "source": [
    "## Assignment 1: Array Creation and Initialization\n",
    "\n",
    "### **Concept:**\n",
    "Learn how to create and initialize NumPy arrays using different methods.\n",
    "\n",
    "### **Tasks:**\n",
    "\n",
    "1. **Create an array from a list:**  \n",
    "   Convert the following list into a NumPy array: `[1, 2, 3, 4, 5]`.\n",
    "\n",
    "2. **Create arrays using functions:**  \n",
    "   - Create an array of zeros with shape `(3, 3)`.\n",
    "   - Create an array of ones with shape `(2, 4)`.\n",
    "   - Create an array of evenly spaced values between 0 and 10 with a step of 2.\n",
    "\n",
    "3. **Create an identity matrix:**  \n",
    "   Create a 4x4 identity matrix.\n",
    "\n",
    "### **Solution:**"
   ]
  },
  {
   "cell_type": "code",
   "execution_count": null,
   "metadata": {},
   "outputs": [],
   "source": []
  },
  {
   "cell_type": "markdown",
   "metadata": {},
   "source": [
    "## Assignment 2: Array Manipulation\n",
    "\n",
    "### **Concept:**\n",
    "Learn how to reshape, flatten, and concatenate arrays.\n",
    "\n",
    "### **Tasks:**\n",
    "\n",
    "1. **Reshape an array:**  \n",
    "   Reshape the array `[1, 2, 3, 4, 5, 6]` into a 2x3 matrix.\n",
    "\n",
    "2. **Flatten a 2D array:**  \n",
    "   Flatten the following 2D array:  \n",
    "   ```\n",
    "   [[1, 2, 3],\n",
    "    [4, 5, 6]]\n",
    "   ```\n",
    "\n",
    "3. **Concatenate arrays:**  \n",
    "   Concatenate the arrays `[1, 2, 3]` and `[4, 5, 6]` horizontally.\n",
    "\n",
    "### **Solution:**"
   ]
  },
  {
   "cell_type": "code",
   "execution_count": null,
   "metadata": {},
   "outputs": [],
   "source": []
  },
  {
   "cell_type": "markdown",
   "metadata": {},
   "source": [
    "## Assignment 3: Array Broadcasting\n",
    "\n",
    "### **Concept:**\n",
    "Practice broadcasting rules in NumPy for element-wise operations.\n",
    "\n",
    "### **Tasks:**\n",
    "\n",
    "1. **Add a scalar to an array:**  \n",
    "   Add `10` to each element of the array `[1, 2, 3, 4]`.\n",
    "\n",
    "2. **Add a 1D array to a 2D array:**  \n",
    "   Add `[1, 2, 3]` to each row of the 2D array:  \n",
    "   ```\n",
    "   [[10, 20, 30],\n",
    "    [40, 50, 60]]\n",
    "   ```\n",
    "\n",
    "### **Solution:**"
   ]
  },
  {
   "cell_type": "code",
   "execution_count": 1,
   "metadata": {},
   "outputs": [
    {
     "name": "stdout",
     "output_type": "stream",
     "text": [
      "3D Matrix:\n",
      "[[[ 1  2  3  4]\n",
      "  [ 5  6  7  8]\n",
      "  [ 9 10 11 12]]\n",
      "\n",
      " [[13 14 15 16]\n",
      "  [17 18 19 20]\n",
      "  [21 22 23 24]]]\n",
      "\n",
      "1D Vector:\n",
      "[10 20 30 40]\n",
      "\n",
      "Result after broadcasting addition:\n",
      "[[[11 22 33 44]\n",
      "  [15 26 37 48]\n",
      "  [19 30 41 52]]\n",
      "\n",
      " [[23 34 45 56]\n",
      "  [27 38 49 60]\n",
      "  [31 42 53 64]]]\n"
     ]
    }
   ],
   "source": [
    "import numpy as np  \n",
    "\n",
    "# Create a 3D matrix (shape: 2x3x4)  \n",
    "matrix_3d = np.array([[[1, 2, 3, 4],   \n",
    "                        [5, 6, 7, 8],   \n",
    "                        [9, 10, 11, 12]],   \n",
    "                       \n",
    "                       [[13, 14, 15, 16],   \n",
    "                        [17, 18, 19, 20],   \n",
    "                        [21, 22, 23, 24]]])  \n",
    "\n",
    "# Create a 1D vector (shape: 4)  \n",
    "vector_1d = np.array([10, 20, 30, 40])  \n",
    "\n",
    "# Add the 1D vector to the 3D matrix using broadcasting  \n",
    "result = matrix_3d + vector_1d  \n",
    "\n",
    "print(\"3D Matrix:\")  \n",
    "print(matrix_3d)  \n",
    "print(\"\\n1D Vector:\")  \n",
    "print(vector_1d)  \n",
    "print(\"\\nResult after broadcasting addition:\")  \n",
    "print(result)"
   ]
  },
  {
   "cell_type": "markdown",
   "metadata": {},
   "source": [
    "## Assignment 4: Mathematical Operations\n",
    "\n",
    "### **Concept:**\n",
    "Perform mathematical operations on NumPy arrays.\n",
    "\n",
    "### **Tasks:**\n",
    "\n",
    "1. **Element-wise operations:**  \n",
    "   Given `arr1 = [1, 2, 3]` and `arr2 = [4, 5, 6]`, compute the following:\n",
    "   - Sum of `arr1` and `arr2`\n",
    "   - Product of `arr1` and `arr2`\n",
    "\n",
    "2. **Compute mean and standard deviation:**  \n",
    "   Calculate the mean and standard deviation of the array `[2, 4, 6, 8, 10]`.\n",
    "\n",
    "### **Solution:**"
   ]
  },
  {
   "cell_type": "code",
   "execution_count": null,
   "metadata": {},
   "outputs": [],
   "source": []
  },
  {
   "cell_type": "markdown",
   "metadata": {},
   "source": [
    "## Assignment 5: Indexing and Slicing\n",
    "\n",
    "### **Concept:**\n",
    "Practice advanced indexing and slicing techniques in NumPy.\n",
    "\n",
    "### **Tasks:**\n",
    "\n",
    "1. **Indexing:**  \n",
    "   Extract the element at position `(1, 2)` from the following array:  \n",
    "   ```\n",
    "   [[10, 20, 30],\n",
    "    [40, 50, 60],\n",
    "    [70, 80, 90]]\n",
    "   ```\n",
    "\n",
    "2. **Slicing:**  \n",
    "   Extract the second row and first two columns from the array above.\n",
    "\n",
    "3. **Boolean indexing:**  \n",
    "   Given `arr = [5, 10, 15, 20]`, extract elements greater than `10`.\n",
    "\n",
    "### **Solution:**"
   ]
  },
  {
   "cell_type": "code",
   "execution_count": null,
   "metadata": {},
   "outputs": [],
   "source": []
  },
  {
   "cell_type": "markdown",
   "metadata": {},
   "source": [
    "## Assignment 6: Common Functions\n",
    "\n",
    "### **Concept:**\n",
    "Explore common NumPy functions such as `sum`, `max`, `min`, and `argmax`.\n",
    "\n",
    "### **Tasks:**\n",
    "\n",
    "1. **Compute sum and max:**  \n",
    "   Given the array `[3, 7, 2, 9, 5]`, compute the sum and maximum value.\n",
    "\n",
    "2. **Find the index of the maximum value:**  \n",
    "   Find the index of the maximum value in the same array.\n",
    "\n",
    "### **Solution:**"
   ]
  },
  {
   "cell_type": "code",
   "execution_count": null,
   "metadata": {},
   "outputs": [],
   "source": []
  },
  {
   "cell_type": "markdown",
   "metadata": {},
   "source": [
    "## Assignment 7: Array Creation with Random Numbers\n",
    "\n",
    "### **Concept:**\n",
    "Creating arrays using random number generation.\n",
    "\n",
    "### **Tasks:**\n",
    "\n",
    "1. **Generate a random 3x3 array of floats between 0 and 1.**\n",
    "\n",
    "2. **Create a 4x4 array of random integers between 10 and 50.**\n",
    "\n",
    "3. **Set a random seed to make the random numbers reproducible. Generate a 2x3 array of random numbers.**\n",
    "\n",
    "### **Solution:**"
   ]
  },
  {
   "cell_type": "code",
   "execution_count": null,
   "metadata": {},
   "outputs": [],
   "source": []
  },
  {
   "cell_type": "markdown",
   "metadata": {},
   "source": [
    "## Assignment 8: Advanced Array Manipulation\n",
    "\n",
    "### **Concept:**\n",
    "Stacking and splitting arrays.\n",
    "\n",
    "### **Tasks:**\n",
    "\n",
    "1. **Vertically stack the following arrays:**  \n",
    "   ```\n",
    "   arr1 = [[1, 2], [3, 4]]\n",
    "   arr2 = [[5, 6], [7, 8]]\n",
    "   ```\n",
    "\n",
    "2. **Horizontally stack the same arrays.**\n",
    "\n",
    "3. **Split the following array into 3 equal parts along the first axis:**  \n",
    "   ```\n",
    "   arr = [[1, 2], [3, 4], [5, 6]]\n",
    "   ```\n",
    "\n",
    "### **Solution:**"
   ]
  },
  {
   "cell_type": "code",
   "execution_count": null,
   "metadata": {},
   "outputs": [],
   "source": []
  },
  {
   "cell_type": "markdown",
   "metadata": {},
   "source": [
    "## Assignment 9: Broadcasting and Advanced Arithmetic\n",
    "\n",
    "### **Concept:**\n",
    "Performing broadcasting with arithmetic operations.\n",
    "\n",
    "### **Tasks:**\n",
    "\n",
    "1. **Broadcast the following 1D array to a 3x3 array and add:**  \n",
    "   ```\n",
    "   base = [[1, 2, 3], [4, 5, 6], [7, 8, 9]]\n",
    "   add_array = [10, 20, 30]\n",
    "   ```\n",
    "\n",
    "2. **Multiply a 3x3 matrix by a scalar value of 2.**\n",
    "\n",
    "3. **Divide each row of the following matrix by a different value:**  \n",
    "   ```\n",
    "   arr = [[10, 20, 30],\n",
    "          [40, 50, 60],\n",
    "          [70, 80, 90]]\n",
    "   divisors = [10, 20, 30]\n",
    "   ```\n",
    "\n",
    "### **Solution:**"
   ]
  },
  {
   "cell_type": "code",
   "execution_count": null,
   "metadata": {},
   "outputs": [],
   "source": []
  },
  {
   "cell_type": "markdown",
   "metadata": {},
   "source": [
    "## Assignment 10: Indexing, Slicing, and Fancy Indexing\n",
    "\n",
    "### **Concept:**\n",
    "Practice with indexing techniques and fancy indexing.\n",
    "\n",
    "### **Tasks:**\n",
    "\n",
    "1. **Extract all even numbers from the following array:**  \n",
    "   ```\n",
    "   arr = [1, 2, 3, 4, 5, 6, 7, 8, 9, 10]\n",
    "   ```\n",
    "\n",
    "2. **Using fancy indexing, select the elements at positions `[0, 2, 4]` from the array:**  \n",
    "   ```\n",
    "   arr = [10, 20, 30, 40, 50]\n",
    "   ```\n",
    "\n",
    "3. **Extract the second and third rows and the first and second columns from this 2D array:**  \n",
    "   ```\n",
    "   arr = [[1, 2, 3],\n",
    "          [4, 5, 6],\n",
    "          [7, 8, 9],\n",
    "          [10, 11, 12]]\n",
    "   ```\n",
    "\n",
    "### **Solution:**"
   ]
  },
  {
   "cell_type": "code",
   "execution_count": null,
   "metadata": {},
   "outputs": [],
   "source": []
  },
  {
   "cell_type": "markdown",
   "metadata": {},
   "source": [
    "## Assignment 11: Common Functions and Statistics\n",
    "\n",
    "### **Concept:**\n",
    "Using NumPy's built-in statistical functions.\n",
    "\n",
    "### **Tasks:**\n",
    "\n",
    "1. **Find the minimum, maximum, and sum of the following array:**  \n",
    "   ```\n",
    "   arr = [3, 7, 1, 9, 5]\n",
    "   ```\n",
    "\n",
    "2. **Compute the mean, median, and standard deviation of the following array:**  \n",
    "   ```\n",
    "   arr = [10, 20, 30, 40, 50]\n",
    "   ```\n",
    "\n",
    "3. **Find the indices of the minimum and maximum values in the array:**  \n",
    "   ```\n",
    "   arr = [4, 2, 9, 1, 6]\n",
    "   ```\n",
    "\n",
    "### **Solution:**"
   ]
  },
  {
   "cell_type": "code",
   "execution_count": null,
   "metadata": {},
   "outputs": [],
   "source": []
  }
 ],
 "metadata": {
  "kernelspec": {
   "display_name": "pytorch23",
   "language": "python",
   "name": "python3"
  },
  "language_info": {
   "codemirror_mode": {
    "name": "ipython",
    "version": 3
   },
   "file_extension": ".py",
   "mimetype": "text/x-python",
   "name": "python",
   "nbconvert_exporter": "python",
   "pygments_lexer": "ipython3",
   "version": "3.9.19"
  }
 },
 "nbformat": 4,
 "nbformat_minor": 2
}
