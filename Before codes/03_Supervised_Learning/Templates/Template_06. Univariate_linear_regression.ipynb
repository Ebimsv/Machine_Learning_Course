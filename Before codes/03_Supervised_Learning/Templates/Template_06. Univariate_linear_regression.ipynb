{
 "cells": [
  {
   "cell_type": "markdown",
   "id": "b46dfaac",
   "metadata": {},
   "source": [
    "# Example 1: Advertising Data"
   ]
  },
  {
   "cell_type": "markdown",
   "id": "34cbbbd1",
   "metadata": {},
   "source": [
    "![alt text](https://raw.githubusercontent.com/Ebimsv/Machine_Learning_Course/refs/heads/main/pics/adv.png)"
   ]
  },
  {
   "cell_type": "markdown",
   "id": "02e9e101",
   "metadata": {},
   "source": [
    "This dataset contains information on advertising expenditures across three media channels—TV, Radio, and Newspaper—and their corresponding sales figures. Each row represents a unique observation, including both the financial investment in advertising and the resulting sales performance. \n",
    "\n",
    "The columns are defined as follows:\n",
    "\n",
    "- **TV**: Advertising spend in thousands of dollars on TV.\n",
    "- **Radio**: Advertising spend in thousands of dollars on Radio.\n",
    "- **Newspaper**: Advertising spend in thousands of dollars on Newspaper.\n",
    "- **Sales**: The number of units sold, measured in thousands.\n",
    "\n",
    "For instance, the first entry indicates that spending $230.1K on TV, $37.8K on Radio, and $69.2K on Newspaper resulted in sales of 22.1K units."
   ]
  },
  {
   "cell_type": "markdown",
   "id": "eb0aaa48-ea27-43ea-8f49-1c120af69ae1",
   "metadata": {
    "jp-MarkdownHeadingCollapsed": true,
    "tags": []
   },
   "source": [
    "## imports"
   ]
  },
  {
   "cell_type": "code",
   "execution_count": 5,
   "id": "6cfc7dfd-b79f-42ed-a12e-11a6dc14beda",
   "metadata": {},
   "outputs": [],
   "source": [
    "import pandas as pd\n",
    "import numpy as np\n",
    "import matplotlib.pyplot as plt"
   ]
  },
  {
   "cell_type": "markdown",
   "id": "8cbd0742-4327-4dca-9d9c-03c01086ccb4",
   "metadata": {
    "tags": []
   },
   "source": [
    "## Dataset"
   ]
  },
  {
   "cell_type": "code",
   "execution_count": 7,
   "id": "0c4da9d5-1593-42c8-a1e6-e777345d42b2",
   "metadata": {},
   "outputs": [
    {
     "data": {
      "text/html": [
       "<div>\n",
       "<style scoped>\n",
       "    .dataframe tbody tr th:only-of-type {\n",
       "        vertical-align: middle;\n",
       "    }\n",
       "\n",
       "    .dataframe tbody tr th {\n",
       "        vertical-align: top;\n",
       "    }\n",
       "\n",
       "    .dataframe thead th {\n",
       "        text-align: right;\n",
       "    }\n",
       "</style>\n",
       "<table border=\"1\" class=\"dataframe\">\n",
       "  <thead>\n",
       "    <tr style=\"text-align: right;\">\n",
       "      <th></th>\n",
       "      <th>Unnamed: 0</th>\n",
       "      <th>TV</th>\n",
       "      <th>Radio</th>\n",
       "      <th>Newspaper</th>\n",
       "      <th>Sales</th>\n",
       "    </tr>\n",
       "  </thead>\n",
       "  <tbody>\n",
       "    <tr>\n",
       "      <th>0</th>\n",
       "      <td>1</td>\n",
       "      <td>230.1</td>\n",
       "      <td>37.8</td>\n",
       "      <td>69.2</td>\n",
       "      <td>22.1</td>\n",
       "    </tr>\n",
       "    <tr>\n",
       "      <th>1</th>\n",
       "      <td>2</td>\n",
       "      <td>44.5</td>\n",
       "      <td>39.3</td>\n",
       "      <td>45.1</td>\n",
       "      <td>10.4</td>\n",
       "    </tr>\n",
       "    <tr>\n",
       "      <th>2</th>\n",
       "      <td>3</td>\n",
       "      <td>17.2</td>\n",
       "      <td>45.9</td>\n",
       "      <td>69.3</td>\n",
       "      <td>9.3</td>\n",
       "    </tr>\n",
       "    <tr>\n",
       "      <th>3</th>\n",
       "      <td>4</td>\n",
       "      <td>151.5</td>\n",
       "      <td>41.3</td>\n",
       "      <td>58.5</td>\n",
       "      <td>18.5</td>\n",
       "    </tr>\n",
       "    <tr>\n",
       "      <th>4</th>\n",
       "      <td>5</td>\n",
       "      <td>180.8</td>\n",
       "      <td>10.8</td>\n",
       "      <td>58.4</td>\n",
       "      <td>12.9</td>\n",
       "    </tr>\n",
       "  </tbody>\n",
       "</table>\n",
       "</div>"
      ],
      "text/plain": [
       "   Unnamed: 0     TV  Radio  Newspaper  Sales\n",
       "0           1  230.1   37.8       69.2   22.1\n",
       "1           2   44.5   39.3       45.1   10.4\n",
       "2           3   17.2   45.9       69.3    9.3\n",
       "3           4  151.5   41.3       58.5   18.5\n",
       "4           5  180.8   10.8       58.4   12.9"
      ]
     },
     "execution_count": 7,
     "metadata": {},
     "output_type": "execute_result"
    }
   ],
   "source": [
    "df = pd.read_csv('../../Data/Advertising.csv')\n",
    "df.head()"
   ]
  },
  {
   "cell_type": "markdown",
   "id": "65d194c5-08ae-48fd-b5bb-49a095e1e89a",
   "metadata": {},
   "source": [
    "Advertising dataset contains information about the sales of a product in different markets, along with the advertising budget for the product in each market.   \n",
    "The dataset includes 200 instances with **3 features**, such as the TV advertising budget, the radio advertising budget, and the newspaper advertising budget.\n",
    "\n",
    "The target variable is the sales of the product, which is also a **continuous** variable."
   ]
  },
  {
   "cell_type": "markdown",
   "id": "279cd4b3-e7fa-4fa1-bcef-d4d8834226a3",
   "metadata": {},
   "source": [
    "## Select two features (columns) from a DataFrame"
   ]
  },
  {
   "cell_type": "markdown",
   "id": "d4bcbe64",
   "metadata": {},
   "source": [
    "### Method 1: Using Double Brackets \n",
    "\n",
    "- You can select multiple columns from a DataFrame by passing a list of column names within double brackets.  "
   ]
  },
  {
   "cell_type": "code",
   "execution_count": null,
   "id": "62766871-c615-4f56-825b-34626b7e3617",
   "metadata": {},
   "outputs": [],
   "source": []
  },
  {
   "cell_type": "markdown",
   "id": "5407e9be",
   "metadata": {},
   "source": [
    "### Method 2: Using `iloc`\n",
    "- You can also select features based on their integer index positions using `iloc`.   \n",
    "- This method is particularly useful when you want to select columns at specific intervals or ranges."
   ]
  },
  {
   "cell_type": "code",
   "execution_count": null,
   "id": "34884f6d-7915-4202-9014-5442b26a23d1",
   "metadata": {},
   "outputs": [],
   "source": []
  },
  {
   "cell_type": "markdown",
   "id": "21b3208c",
   "metadata": {},
   "source": [
    "### Method 3: Using the filter Method\n",
    "- Another way to select multiple columns is by using the `filter()` method, which allows for more flexible selection options."
   ]
  },
  {
   "cell_type": "code",
   "execution_count": null,
   "id": "65b296e9",
   "metadata": {},
   "outputs": [],
   "source": []
  },
  {
   "cell_type": "code",
   "execution_count": null,
   "id": "db63e0cb-f23a-4b65-a2f6-a31ca00e3e41",
   "metadata": {},
   "outputs": [],
   "source": []
  },
  {
   "cell_type": "markdown",
   "id": "080939fe-0930-4a7d-9f5f-73290b48d182",
   "metadata": {},
   "source": [
    "## Convert to NumPy array and then create `X`, and `y`"
   ]
  },
  {
   "cell_type": "markdown",
   "id": "04fd722a",
   "metadata": {},
   "source": [
    "### **Method 1**: Using `to_numpy()`"
   ]
  },
  {
   "cell_type": "code",
   "execution_count": null,
   "id": "1a16ad6e",
   "metadata": {},
   "outputs": [],
   "source": []
  },
  {
   "cell_type": "markdown",
   "id": "6b5932f9",
   "metadata": {},
   "source": [
    "###  **Method 2**: Using `values` Attribute"
   ]
  },
  {
   "cell_type": "code",
   "execution_count": null,
   "id": "1a9cd4fe",
   "metadata": {},
   "outputs": [],
   "source": []
  },
  {
   "cell_type": "markdown",
   "id": "2c45c2fb",
   "metadata": {},
   "source": [
    "### **Method 3**: Using `np.array()`"
   ]
  },
  {
   "cell_type": "code",
   "execution_count": null,
   "id": "f4856042",
   "metadata": {},
   "outputs": [],
   "source": []
  },
  {
   "cell_type": "markdown",
   "id": "079fb512",
   "metadata": {},
   "source": [
    "### **Method 4**: One-Line Selection and Reshape"
   ]
  },
  {
   "cell_type": "code",
   "execution_count": null,
   "id": "9eea6fdf-e99f-471d-8a35-ab67623fc2cd",
   "metadata": {},
   "outputs": [],
   "source": []
  },
  {
   "cell_type": "markdown",
   "id": "d33689b5",
   "metadata": {},
   "source": [
    "## Split the Data into Training and Testing Sets"
   ]
  },
  {
   "cell_type": "code",
   "execution_count": null,
   "id": "6c09a55c-8d84-4f35-a686-f6786a4bf21d",
   "metadata": {},
   "outputs": [],
   "source": []
  },
  {
   "cell_type": "code",
   "execution_count": null,
   "id": "812a3313-54cf-46d0-a4bf-183a8c65b662",
   "metadata": {},
   "outputs": [],
   "source": []
  },
  {
   "cell_type": "markdown",
   "id": "fdd045af-baf6-43cb-b248-d479dd360470",
   "metadata": {
    "tags": []
   },
   "source": [
    "## Visualization"
   ]
  },
  {
   "cell_type": "code",
   "execution_count": null,
   "id": "c5eaf264-b958-4493-b8d7-df8897701254",
   "metadata": {},
   "outputs": [],
   "source": [
    "plt.scatter(x_train, y_train);"
   ]
  },
  {
   "cell_type": "markdown",
   "id": "d618c9f1-c7dc-4c17-816d-e79817bc63b9",
   "metadata": {
    "tags": []
   },
   "source": [
    "## Hypothesis function"
   ]
  },
  {
   "cell_type": "markdown",
   "id": "aa055c38",
   "metadata": {},
   "source": [
    "In the context of univariate linear regression, where we work with a single feature, the equation representing the relationship between the independent variable and the dependent variable can be expressed as the **hypothesis function**:\n",
    "\n",
    "**ŷ = β₀ + β₁x**\n",
    "\n",
    "In this equation:\n",
    "\n",
    "- **ŷ** (y-hat): Represents the predicted value of the dependent variable, also known as the model output or response variable.\n",
    "  \n",
    "- **x**: Denotes the independent variable, often referred to as the input or predictor variable.\n",
    "\n",
    "- **β₀** (beta-zero): This is the y-intercept of the regression line, sometimes called the **bias** term.   \n",
    "    It signifies the point where the line crosses the y-axis. A higher value for β₀ raises the entire line, while a lower value pushes it down.\n",
    "\n",
    "- **β₁** (beta-one): This represents the coefficient (or **weight**) associated with the independent variable x.   \n",
    "    It determines the slope of the regression line  \n",
    "    a larger β₁ results in a steeper line, whereas a smaller β₁ yields a flatter line.\n",
    "\n",
    "- Both **β₀** and **β₁** are considered model parameters, which are estimated during the training process to best fit the data."
   ]
  },
  {
   "cell_type": "markdown",
   "id": "12f23631-06c4-4bb8-ab4b-80404fe656cb",
   "metadata": {},
   "source": [
    "![alt text](https://raw.githubusercontent.com/Ebimsv/Machine_Learning_Course/refs/heads/main/pics/hypothesis_function_lr.png)"
   ]
  },
  {
   "cell_type": "markdown",
   "id": "4de17cf7",
   "metadata": {},
   "source": [
    "## Plotting regression line with random numbers"
   ]
  },
  {
   "cell_type": "code",
   "execution_count": null,
   "id": "74295af9",
   "metadata": {},
   "outputs": [],
   "source": []
  },
  {
   "cell_type": "markdown",
   "id": "727bcd89",
   "metadata": {},
   "source": [
    "## Create and Train the Linear Regression Model"
   ]
  },
  {
   "cell_type": "code",
   "execution_count": null,
   "id": "5f62b03e-05e6-409a-a7a7-faedc458cff5",
   "metadata": {},
   "outputs": [],
   "source": []
  },
  {
   "cell_type": "code",
   "execution_count": null,
   "id": "d1356813-1902-4990-b6a4-1054aa52b261",
   "metadata": {},
   "outputs": [
    {
     "data": {
      "text/plain": [
       "(array([[0.04652973]]), array([7.11963843]))"
      ]
     },
     "execution_count": 16,
     "metadata": {},
     "output_type": "execute_result"
    }
   ],
   "source": []
  },
  {
   "cell_type": "markdown",
   "id": "e9fd95b4",
   "metadata": {},
   "source": [
    "## Make Predictions\n",
    "- After fitting the model, we can make predictions on the test data."
   ]
  },
  {
   "cell_type": "code",
   "execution_count": null,
   "id": "04a99edc",
   "metadata": {},
   "outputs": [],
   "source": []
  },
  {
   "cell_type": "markdown",
   "id": "45eaa22e",
   "metadata": {},
   "source": [
    "## Evaluate the Model\n",
    "Let's evaluate the performance of our model using Mean Squared Error `(MSE)` and `R-squared` score."
   ]
  },
  {
   "cell_type": "code",
   "execution_count": null,
   "id": "61ed2dda",
   "metadata": {},
   "outputs": [
    {
     "name": "stdout",
     "output_type": "stream",
     "text": [
      "Mean Squared Error: 10.20\n",
      "R-squared Score: 0.68\n"
     ]
    }
   ],
   "source": []
  },
  {
   "cell_type": "markdown",
   "id": "26670cc5",
   "metadata": {},
   "source": [
    "## Visualize the Results"
   ]
  },
  {
   "cell_type": "code",
   "execution_count": null,
   "id": "b76f7f2f",
   "metadata": {},
   "outputs": [],
   "source": []
  },
  {
   "cell_type": "markdown",
   "id": "bf533d40-3c5b-4664-be57-030f94804385",
   "metadata": {},
   "source": [
    "# Example 2: Automobile price prediction"
   ]
  },
  {
   "cell_type": "markdown",
   "id": "b9652fb3",
   "metadata": {},
   "source": [
    "![Automobile Price](https://raw.githubusercontent.com/Ebimsv/Machine_Learning_Course/main/pics/car_price_prediction.png)"
   ]
  },
  {
   "cell_type": "markdown",
   "id": "7b84fe69",
   "metadata": {},
   "source": [
    "**Dataset Description**:  \n",
    "This dataset contains 26 columns, which likely include various features about automobiles, such as specifications, make, model, year, fuel type, and more. However, for our analysis, we've narrowed it down to two columns:\n",
    "- **Engine Size**: Measured in liters, this represents the volume of all the engine’s cylinders combined. It's a key determinant of the vehicle's power and efficiency.\n",
    "- **Price**: This is the target variable you want to predict, representing the market price of the automobile.\n",
    "\n",
    "**Importance of Engine Size in Price Prediction**:\n",
    "Engine size often correlates with performance characteristics such as horsepower and torque, which can significantly influence a car’s market price. Generally, vehicles with larger engines tend to be more powerful and are often priced higher, but there are exceptions depending on brand, model, and other features."
   ]
  },
  {
   "cell_type": "markdown",
   "id": "8f70dcca",
   "metadata": {},
   "source": [
    "## Step 1: Import Libraries"
   ]
  },
  {
   "cell_type": "code",
   "execution_count": null,
   "id": "3baf0404",
   "metadata": {},
   "outputs": [],
   "source": [
    "# Import necessary libraries  \n",
    "import pandas as pd  \n",
    "import numpy as np  \n",
    "import matplotlib.pyplot as plt  \n",
    "from sklearn.model_selection import train_test_split  \n",
    "from sklearn.linear_model import LinearRegression  \n",
    "from sklearn.preprocessing import StandardScaler  \n",
    "from sklearn.metrics import mean_squared_error, r2_score  "
   ]
  },
  {
   "cell_type": "markdown",
   "id": "71328c92",
   "metadata": {},
   "source": [
    "## Step 2: Load the Data"
   ]
  },
  {
   "cell_type": "code",
   "execution_count": null,
   "id": "4fe10042",
   "metadata": {},
   "outputs": [
    {
     "data": {
      "text/html": [
       "<div>\n",
       "<style scoped>\n",
       "    .dataframe tbody tr th:only-of-type {\n",
       "        vertical-align: middle;\n",
       "    }\n",
       "\n",
       "    .dataframe tbody tr th {\n",
       "        vertical-align: top;\n",
       "    }\n",
       "\n",
       "    .dataframe thead th {\n",
       "        text-align: right;\n",
       "    }\n",
       "</style>\n",
       "<table border=\"1\" class=\"dataframe\">\n",
       "  <thead>\n",
       "    <tr style=\"text-align: right;\">\n",
       "      <th></th>\n",
       "      <th>symboling</th>\n",
       "      <th>normalized-losses</th>\n",
       "      <th>make</th>\n",
       "      <th>fuel-type</th>\n",
       "      <th>aspiration</th>\n",
       "      <th>num-of-doors</th>\n",
       "      <th>body-style</th>\n",
       "      <th>drive-wheels</th>\n",
       "      <th>engine-location</th>\n",
       "      <th>wheel-base</th>\n",
       "      <th>...</th>\n",
       "      <th>engine-size</th>\n",
       "      <th>fuel-system</th>\n",
       "      <th>bore</th>\n",
       "      <th>stroke</th>\n",
       "      <th>compression-ratio</th>\n",
       "      <th>horsepower</th>\n",
       "      <th>peak-rpm</th>\n",
       "      <th>city-mpg</th>\n",
       "      <th>highway-mpg</th>\n",
       "      <th>price</th>\n",
       "    </tr>\n",
       "  </thead>\n",
       "  <tbody>\n",
       "    <tr>\n",
       "      <th>0</th>\n",
       "      <td>3</td>\n",
       "      <td>?</td>\n",
       "      <td>alfa-romero</td>\n",
       "      <td>gas</td>\n",
       "      <td>std</td>\n",
       "      <td>two</td>\n",
       "      <td>convertible</td>\n",
       "      <td>rwd</td>\n",
       "      <td>front</td>\n",
       "      <td>88.6</td>\n",
       "      <td>...</td>\n",
       "      <td>130</td>\n",
       "      <td>mpfi</td>\n",
       "      <td>3.47</td>\n",
       "      <td>2.68</td>\n",
       "      <td>9.0</td>\n",
       "      <td>111</td>\n",
       "      <td>5000</td>\n",
       "      <td>21</td>\n",
       "      <td>27</td>\n",
       "      <td>13495</td>\n",
       "    </tr>\n",
       "    <tr>\n",
       "      <th>1</th>\n",
       "      <td>3</td>\n",
       "      <td>?</td>\n",
       "      <td>alfa-romero</td>\n",
       "      <td>gas</td>\n",
       "      <td>std</td>\n",
       "      <td>two</td>\n",
       "      <td>convertible</td>\n",
       "      <td>rwd</td>\n",
       "      <td>front</td>\n",
       "      <td>88.6</td>\n",
       "      <td>...</td>\n",
       "      <td>130</td>\n",
       "      <td>mpfi</td>\n",
       "      <td>3.47</td>\n",
       "      <td>2.68</td>\n",
       "      <td>9.0</td>\n",
       "      <td>111</td>\n",
       "      <td>5000</td>\n",
       "      <td>21</td>\n",
       "      <td>27</td>\n",
       "      <td>16500</td>\n",
       "    </tr>\n",
       "    <tr>\n",
       "      <th>2</th>\n",
       "      <td>1</td>\n",
       "      <td>?</td>\n",
       "      <td>alfa-romero</td>\n",
       "      <td>gas</td>\n",
       "      <td>std</td>\n",
       "      <td>two</td>\n",
       "      <td>hatchback</td>\n",
       "      <td>rwd</td>\n",
       "      <td>front</td>\n",
       "      <td>94.5</td>\n",
       "      <td>...</td>\n",
       "      <td>152</td>\n",
       "      <td>mpfi</td>\n",
       "      <td>2.68</td>\n",
       "      <td>3.47</td>\n",
       "      <td>9.0</td>\n",
       "      <td>154</td>\n",
       "      <td>5000</td>\n",
       "      <td>19</td>\n",
       "      <td>26</td>\n",
       "      <td>16500</td>\n",
       "    </tr>\n",
       "    <tr>\n",
       "      <th>3</th>\n",
       "      <td>2</td>\n",
       "      <td>164</td>\n",
       "      <td>audi</td>\n",
       "      <td>gas</td>\n",
       "      <td>std</td>\n",
       "      <td>four</td>\n",
       "      <td>sedan</td>\n",
       "      <td>fwd</td>\n",
       "      <td>front</td>\n",
       "      <td>99.8</td>\n",
       "      <td>...</td>\n",
       "      <td>109</td>\n",
       "      <td>mpfi</td>\n",
       "      <td>3.19</td>\n",
       "      <td>3.4</td>\n",
       "      <td>10.0</td>\n",
       "      <td>102</td>\n",
       "      <td>5500</td>\n",
       "      <td>24</td>\n",
       "      <td>30</td>\n",
       "      <td>13950</td>\n",
       "    </tr>\n",
       "    <tr>\n",
       "      <th>4</th>\n",
       "      <td>2</td>\n",
       "      <td>164</td>\n",
       "      <td>audi</td>\n",
       "      <td>gas</td>\n",
       "      <td>std</td>\n",
       "      <td>four</td>\n",
       "      <td>sedan</td>\n",
       "      <td>4wd</td>\n",
       "      <td>front</td>\n",
       "      <td>99.4</td>\n",
       "      <td>...</td>\n",
       "      <td>136</td>\n",
       "      <td>mpfi</td>\n",
       "      <td>3.19</td>\n",
       "      <td>3.4</td>\n",
       "      <td>8.0</td>\n",
       "      <td>115</td>\n",
       "      <td>5500</td>\n",
       "      <td>18</td>\n",
       "      <td>22</td>\n",
       "      <td>17450</td>\n",
       "    </tr>\n",
       "  </tbody>\n",
       "</table>\n",
       "<p>5 rows × 26 columns</p>\n",
       "</div>"
      ],
      "text/plain": [
       "   symboling normalized-losses         make fuel-type aspiration num-of-doors  \\\n",
       "0          3                 ?  alfa-romero       gas        std          two   \n",
       "1          3                 ?  alfa-romero       gas        std          two   \n",
       "2          1                 ?  alfa-romero       gas        std          two   \n",
       "3          2               164         audi       gas        std         four   \n",
       "4          2               164         audi       gas        std         four   \n",
       "\n",
       "    body-style drive-wheels engine-location  wheel-base  ...  engine-size  \\\n",
       "0  convertible          rwd           front        88.6  ...          130   \n",
       "1  convertible          rwd           front        88.6  ...          130   \n",
       "2    hatchback          rwd           front        94.5  ...          152   \n",
       "3        sedan          fwd           front        99.8  ...          109   \n",
       "4        sedan          4wd           front        99.4  ...          136   \n",
       "\n",
       "   fuel-system  bore  stroke compression-ratio horsepower  peak-rpm city-mpg  \\\n",
       "0         mpfi  3.47    2.68               9.0        111      5000       21   \n",
       "1         mpfi  3.47    2.68               9.0        111      5000       21   \n",
       "2         mpfi  2.68    3.47               9.0        154      5000       19   \n",
       "3         mpfi  3.19     3.4              10.0        102      5500       24   \n",
       "4         mpfi  3.19     3.4               8.0        115      5500       18   \n",
       "\n",
       "  highway-mpg  price  \n",
       "0          27  13495  \n",
       "1          27  16500  \n",
       "2          26  16500  \n",
       "3          30  13950  \n",
       "4          22  17450  \n",
       "\n",
       "[5 rows x 26 columns]"
      ]
     },
     "execution_count": 3,
     "metadata": {},
     "output_type": "execute_result"
    }
   ],
   "source": [
    "df = pd.read_csv('../Data/Regression/Automobile_data.csv')  \n",
    "df.head() "
   ]
  },
  {
   "cell_type": "markdown",
   "id": "7547b143",
   "metadata": {},
   "source": [
    "## Step 3: Select and Rename Relevant Columns\n",
    "- Filter to select the relevant columns: `engine-size` and `price`."
   ]
  },
  {
   "cell_type": "code",
   "execution_count": null,
   "id": "3fd79301",
   "metadata": {},
   "outputs": [],
   "source": []
  },
  {
   "cell_type": "markdown",
   "id": "71ddbf1a",
   "metadata": {},
   "source": [
    "## Step 4: Check Data Types"
   ]
  },
  {
   "cell_type": "code",
   "execution_count": null,
   "id": "9bb19375",
   "metadata": {},
   "outputs": [],
   "source": []
  },
  {
   "cell_type": "markdown",
   "id": "d1185f8f",
   "metadata": {},
   "source": [
    "## Step 5: Convert to Numeric"
   ]
  },
  {
   "cell_type": "markdown",
   "id": "9416102b",
   "metadata": {},
   "source": [
    "- If the columns contain numeric data in string format (**price**), convert them to numeric, handling any non-numeric cases by **coercing** them to NaN."
   ]
  },
  {
   "cell_type": "code",
   "execution_count": null,
   "id": "0920443f",
   "metadata": {},
   "outputs": [],
   "source": []
  },
  {
   "cell_type": "markdown",
   "id": "e443db0b",
   "metadata": {},
   "source": [
    "## Step 6: Handle Missing Values"
   ]
  },
  {
   "cell_type": "code",
   "execution_count": null,
   "id": "90c7cd7d",
   "metadata": {},
   "outputs": [],
   "source": []
  },
  {
   "cell_type": "markdown",
   "id": "784efd41",
   "metadata": {},
   "source": [
    "### Option 1: Drop rows with NaN values  "
   ]
  },
  {
   "cell_type": "code",
   "execution_count": null,
   "id": "6347e0f0",
   "metadata": {},
   "outputs": [],
   "source": []
  },
  {
   "cell_type": "markdown",
   "id": "7744ab1f",
   "metadata": {},
   "source": [
    "### Option 2: Fill missing values, if appropriate"
   ]
  },
  {
   "cell_type": "code",
   "execution_count": null,
   "id": "99b7c4e4",
   "metadata": {},
   "outputs": [],
   "source": []
  },
  {
   "cell_type": "markdown",
   "id": "db6e3188",
   "metadata": {},
   "source": [
    "## Step 7: Exploratory Data Analysis (EDA)"
   ]
  },
  {
   "cell_type": "markdown",
   "id": "325afeb5",
   "metadata": {},
   "source": [
    "### 1. Plot the Data:\n",
    "- Visualize the relationship between `engine_size` and `price` using a scatter plot."
   ]
  },
  {
   "cell_type": "code",
   "execution_count": null,
   "id": "d2b8c789",
   "metadata": {},
   "outputs": [],
   "source": []
  },
  {
   "cell_type": "markdown",
   "id": "3394d7a4",
   "metadata": {},
   "source": [
    "### 2. Check Summary Statistics:\n",
    "- Get an overview of the data."
   ]
  },
  {
   "cell_type": "code",
   "execution_count": null,
   "id": "4f431455",
   "metadata": {},
   "outputs": [],
   "source": []
  },
  {
   "cell_type": "markdown",
   "id": "462a2e95",
   "metadata": {},
   "source": [
    "## Step 8: Prepare for Univariate Linear Regression"
   ]
  },
  {
   "cell_type": "markdown",
   "id": "542f598a",
   "metadata": {},
   "source": [
    "### 1. Define Your Features and Target Variable:"
   ]
  },
  {
   "cell_type": "code",
   "execution_count": null,
   "id": "3d172106",
   "metadata": {},
   "outputs": [],
   "source": []
  },
  {
   "cell_type": "markdown",
   "id": "f9e7a97e",
   "metadata": {},
   "source": [
    "### 2. Split the Data into train and test"
   ]
  },
  {
   "cell_type": "code",
   "execution_count": null,
   "id": "3f0e4dd6",
   "metadata": {},
   "outputs": [],
   "source": []
  },
  {
   "cell_type": "code",
   "execution_count": null,
   "id": "b2010367",
   "metadata": {},
   "outputs": [],
   "source": []
  },
  {
   "cell_type": "markdown",
   "id": "e42afc83",
   "metadata": {},
   "source": [
    "## Step 9: Standardize the Features and Target Variable  "
   ]
  },
  {
   "cell_type": "code",
   "execution_count": null,
   "id": "72ca203a",
   "metadata": {},
   "outputs": [],
   "source": []
  },
  {
   "cell_type": "markdown",
   "id": "bfd104fb",
   "metadata": {},
   "source": [
    "## Step 10: Train the Linear Regression Model  "
   ]
  },
  {
   "cell_type": "code",
   "execution_count": null,
   "id": "57bb3cc0",
   "metadata": {},
   "outputs": [],
   "source": []
  },
  {
   "cell_type": "markdown",
   "id": "7e8e0435",
   "metadata": {},
   "source": [
    "## Step 11: Make Predictions  "
   ]
  },
  {
   "cell_type": "code",
   "execution_count": null,
   "id": "2341089f",
   "metadata": {},
   "outputs": [],
   "source": []
  },
  {
   "cell_type": "markdown",
   "id": "cca0b7fe",
   "metadata": {},
   "source": [
    "## Step 12: Inverse Transform the Predictions  "
   ]
  },
  {
   "cell_type": "code",
   "execution_count": null,
   "id": "1d5f22b5",
   "metadata": {},
   "outputs": [],
   "source": []
  },
  {
   "cell_type": "markdown",
   "id": "49ebf309",
   "metadata": {},
   "source": [
    "## Step 13: Evaluate the Model, and Plot   "
   ]
  },
  {
   "cell_type": "code",
   "execution_count": null,
   "id": "eb5215c1",
   "metadata": {},
   "outputs": [],
   "source": []
  },
  {
   "cell_type": "markdown",
   "id": "f66bc249",
   "metadata": {},
   "source": [
    "## Step 14: Plotting the Train and Test Data with the Linear Regression Line  "
   ]
  },
  {
   "cell_type": "code",
   "execution_count": null,
   "id": "76899fa9",
   "metadata": {},
   "outputs": [],
   "source": []
  },
  {
   "cell_type": "markdown",
   "id": "5173beca",
   "metadata": {},
   "source": [
    "# Example 3: Univariate Linear Regression with LinearRegression and SGDRegressor in Scikit-Learn"
   ]
  },
  {
   "cell_type": "markdown",
   "id": "46931154",
   "metadata": {},
   "source": [
    "## 1. Importing Libraries\n",
    "Import the necessary libraries for data generation, modeling, evaluation, and visualization."
   ]
  },
  {
   "cell_type": "code",
   "execution_count": null,
   "id": "f957111b",
   "metadata": {},
   "outputs": [],
   "source": [
    "import numpy as np\n",
    "import matplotlib.pyplot as plt\n",
    "from sklearn.datasets import make_regression\n",
    "from sklearn.linear_model import LinearRegression, SGDRegressor\n",
    "from sklearn.model_selection import train_test_split\n",
    "from sklearn.metrics import mean_squared_error, r2_score"
   ]
  },
  {
   "cell_type": "markdown",
   "id": "3ee8098f",
   "metadata": {},
   "source": [
    "## 2. Generating and Splitting the Dataset\n",
    "Create a synthetic univariate dataset and split it into training and testing sets."
   ]
  },
  {
   "cell_type": "code",
   "execution_count": null,
   "id": "8eafff6d",
   "metadata": {},
   "outputs": [],
   "source": [
    "# Generate a synthetic dataset (univariate)\n",
    "X, y = make_regression(n_samples=200, n_features=1, noise=15, random_state=42)\n",
    "\n",
    "# Split data into training and testing sets\n",
    "X_train, X_test, y_train, y_test = train_test_split(X, y, test_size=0.2, random_state=42)"
   ]
  },
  {
   "cell_type": "markdown",
   "id": "8330d353",
   "metadata": {},
   "source": [
    "## 3. Defining and Training the Models\n",
    "Train two regression models: Linear Regression and SGD Regressor."
   ]
  },
  {
   "cell_type": "code",
   "execution_count": null,
   "id": "6bd74bdd",
   "metadata": {},
   "outputs": [],
   "source": []
  },
  {
   "cell_type": "code",
   "execution_count": null,
   "id": "8f63397d",
   "metadata": {},
   "outputs": [],
   "source": []
  },
  {
   "cell_type": "markdown",
   "id": "647efb37",
   "metadata": {},
   "source": [
    "## 4. Making Predictions\n",
    "Generate predictions for the test data using both models."
   ]
  },
  {
   "cell_type": "code",
   "execution_count": null,
   "id": "471f7e5f",
   "metadata": {},
   "outputs": [],
   "source": []
  },
  {
   "cell_type": "markdown",
   "id": "b127cc54",
   "metadata": {},
   "source": [
    "## 5. Evaluating the Models\n",
    "Compute and display the Mean Squared Error (MSE) and R-squared ($𝑅^2$) score for both models.\n"
   ]
  },
  {
   "cell_type": "code",
   "execution_count": null,
   "id": "781f2f06",
   "metadata": {},
   "outputs": [],
   "source": []
  },
  {
   "cell_type": "markdown",
   "id": "23b4a18f",
   "metadata": {},
   "source": [
    "## 6. Visualizing the Results\n",
    "Create scatter plots of the test data with regression lines predicted by each model."
   ]
  },
  {
   "cell_type": "code",
   "execution_count": null,
   "id": "44bb3bd1",
   "metadata": {},
   "outputs": [],
   "source": []
  },
  {
   "cell_type": "code",
   "execution_count": null,
   "id": "d703cc38",
   "metadata": {},
   "outputs": [],
   "source": []
  }
 ],
 "metadata": {
  "kernelspec": {
   "display_name": "pytorch23",
   "language": "python",
   "name": "python3"
  },
  "language_info": {
   "codemirror_mode": {
    "name": "ipython",
    "version": 3
   },
   "file_extension": ".py",
   "mimetype": "text/x-python",
   "name": "python",
   "nbconvert_exporter": "python",
   "pygments_lexer": "ipython3",
   "version": "3.9.19"
  }
 },
 "nbformat": 4,
 "nbformat_minor": 5
}
