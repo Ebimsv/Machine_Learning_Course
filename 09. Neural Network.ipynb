{
 "cells": [
  {
   "cell_type": "markdown",
   "id": "209136e1-ffb5-411a-a697-0ad4a28bb469",
   "metadata": {},
   "source": [
    "## Imports"
   ]
  },
  {
   "cell_type": "code",
   "execution_count": 2,
   "id": "df5340b6-fbba-46a9-a063-bf8f570089d7",
   "metadata": {},
   "outputs": [],
   "source": [
    "import torch\n",
    "from torch.utils.data import TensorDataset, DataLoader\n",
    "import torch.nn as nn\n",
    "import torch.optim as optim\n",
    "import pandas as pd\n",
    "from sklearn.model_selection import train_test_split\n",
    "from sklearn.preprocessing import StandardScaler, LabelEncoder\n",
    "from torchmetrics import Accuracy\n",
    "import matplotlib.pyplot as plt"
   ]
  },
  {
   "cell_type": "markdown",
   "id": "b206daef-21df-4d8b-894d-50ee0f499fab",
   "metadata": {
    "tags": []
   },
   "source": [
    "## Load dataset"
   ]
  },
  {
   "cell_type": "code",
   "execution_count": 3,
   "id": "daf3dd59-4426-4d70-b3e5-7ea506f45368",
   "metadata": {},
   "outputs": [],
   "source": [
    "df = pd.read_csv('Datasets/classification/Social_Network_Ads.csv')"
   ]
  },
  {
   "cell_type": "code",
   "execution_count": 4,
   "id": "90537649-59b8-4983-b8cd-d1c2952fb657",
   "metadata": {},
   "outputs": [
    {
     "data": {
      "text/html": [
       "<div>\n",
       "<style scoped>\n",
       "    .dataframe tbody tr th:only-of-type {\n",
       "        vertical-align: middle;\n",
       "    }\n",
       "\n",
       "    .dataframe tbody tr th {\n",
       "        vertical-align: top;\n",
       "    }\n",
       "\n",
       "    .dataframe thead th {\n",
       "        text-align: right;\n",
       "    }\n",
       "</style>\n",
       "<table border=\"1\" class=\"dataframe\">\n",
       "  <thead>\n",
       "    <tr style=\"text-align: right;\">\n",
       "      <th></th>\n",
       "      <th>User ID</th>\n",
       "      <th>Gender</th>\n",
       "      <th>Age</th>\n",
       "      <th>Estimated_Salary</th>\n",
       "      <th>Purchased</th>\n",
       "    </tr>\n",
       "  </thead>\n",
       "  <tbody>\n",
       "    <tr>\n",
       "      <th>0</th>\n",
       "      <td>15624510</td>\n",
       "      <td>Male</td>\n",
       "      <td>19</td>\n",
       "      <td>19000</td>\n",
       "      <td>0</td>\n",
       "    </tr>\n",
       "    <tr>\n",
       "      <th>1</th>\n",
       "      <td>15810944</td>\n",
       "      <td>Male</td>\n",
       "      <td>35</td>\n",
       "      <td>20000</td>\n",
       "      <td>0</td>\n",
       "    </tr>\n",
       "  </tbody>\n",
       "</table>\n",
       "</div>"
      ],
      "text/plain": [
       "    User ID Gender  Age  Estimated_Salary  Purchased\n",
       "0  15624510   Male   19             19000          0\n",
       "1  15810944   Male   35             20000          0"
      ]
     },
     "execution_count": 4,
     "metadata": {},
     "output_type": "execute_result"
    }
   ],
   "source": [
    "df.head(2)"
   ]
  },
  {
   "cell_type": "code",
   "execution_count": 5,
   "id": "51661945-79c2-482d-a8d7-10bc7911bd07",
   "metadata": {},
   "outputs": [
    {
     "data": {
      "text/plain": [
       "User ID              int64\n",
       "Gender              object\n",
       "Age                  int64\n",
       "Estimated_Salary     int64\n",
       "Purchased            int64\n",
       "dtype: object"
      ]
     },
     "execution_count": 5,
     "metadata": {},
     "output_type": "execute_result"
    }
   ],
   "source": [
    "df.dtypes"
   ]
  },
  {
   "cell_type": "markdown",
   "id": "1457bb6e-96b7-43ed-81b5-72026339f348",
   "metadata": {},
   "source": [
    "### convert object to category"
   ]
  },
  {
   "cell_type": "code",
   "execution_count": 6,
   "id": "b49b650d-783e-4217-a51e-37e8f740bafe",
   "metadata": {},
   "outputs": [
    {
     "data": {
      "text/plain": [
       "User ID                int64\n",
       "Gender              category\n",
       "Age                    int64\n",
       "Estimated_Salary       int64\n",
       "Purchased              int64\n",
       "dtype: object"
      ]
     },
     "execution_count": 6,
     "metadata": {},
     "output_type": "execute_result"
    }
   ],
   "source": [
    "df[\"Gender\"] = df['Gender'].astype('category')\n",
    "df.dtypes"
   ]
  },
  {
   "cell_type": "markdown",
   "id": "7f7db429-d5be-4756-96b6-80d2db37fc11",
   "metadata": {
    "tags": []
   },
   "source": [
    "## Preprocess"
   ]
  },
  {
   "cell_type": "markdown",
   "id": "21cc42ba-14b8-4907-b06b-188a566fcd63",
   "metadata": {},
   "source": [
    "### Check and handle missing values"
   ]
  },
  {
   "cell_type": "code",
   "execution_count": 7,
   "id": "29edf4a6-2e51-476d-a933-168ed5cf6acc",
   "metadata": {},
   "outputs": [
    {
     "data": {
      "text/plain": [
       "User ID             0\n",
       "Gender              0\n",
       "Age                 0\n",
       "Estimated_Salary    0\n",
       "Purchased           0\n",
       "dtype: int64"
      ]
     },
     "execution_count": 7,
     "metadata": {},
     "output_type": "execute_result"
    }
   ],
   "source": [
    "df.isnull().sum()"
   ]
  },
  {
   "cell_type": "markdown",
   "id": "57dff905-d99e-4af0-bbdb-1462349ae614",
   "metadata": {},
   "source": [
    "### Encoding categorical feature"
   ]
  },
  {
   "cell_type": "code",
   "execution_count": 8,
   "id": "a463ae75-59a0-4aff-9f2e-d468d507263c",
   "metadata": {},
   "outputs": [
    {
     "data": {
      "text/html": [
       "<div>\n",
       "<style scoped>\n",
       "    .dataframe tbody tr th:only-of-type {\n",
       "        vertical-align: middle;\n",
       "    }\n",
       "\n",
       "    .dataframe tbody tr th {\n",
       "        vertical-align: top;\n",
       "    }\n",
       "\n",
       "    .dataframe thead th {\n",
       "        text-align: right;\n",
       "    }\n",
       "</style>\n",
       "<table border=\"1\" class=\"dataframe\">\n",
       "  <thead>\n",
       "    <tr style=\"text-align: right;\">\n",
       "      <th></th>\n",
       "      <th>User ID</th>\n",
       "      <th>Gender</th>\n",
       "      <th>Age</th>\n",
       "      <th>Estimated_Salary</th>\n",
       "      <th>Purchased</th>\n",
       "    </tr>\n",
       "  </thead>\n",
       "  <tbody>\n",
       "    <tr>\n",
       "      <th>0</th>\n",
       "      <td>15624510</td>\n",
       "      <td>Male</td>\n",
       "      <td>19</td>\n",
       "      <td>19000</td>\n",
       "      <td>0</td>\n",
       "    </tr>\n",
       "    <tr>\n",
       "      <th>1</th>\n",
       "      <td>15810944</td>\n",
       "      <td>Male</td>\n",
       "      <td>35</td>\n",
       "      <td>20000</td>\n",
       "      <td>0</td>\n",
       "    </tr>\n",
       "    <tr>\n",
       "      <th>2</th>\n",
       "      <td>15668575</td>\n",
       "      <td>Female</td>\n",
       "      <td>26</td>\n",
       "      <td>43000</td>\n",
       "      <td>0</td>\n",
       "    </tr>\n",
       "    <tr>\n",
       "      <th>3</th>\n",
       "      <td>15603246</td>\n",
       "      <td>Female</td>\n",
       "      <td>27</td>\n",
       "      <td>57000</td>\n",
       "      <td>0</td>\n",
       "    </tr>\n",
       "    <tr>\n",
       "      <th>4</th>\n",
       "      <td>15804002</td>\n",
       "      <td>Male</td>\n",
       "      <td>19</td>\n",
       "      <td>76000</td>\n",
       "      <td>0</td>\n",
       "    </tr>\n",
       "  </tbody>\n",
       "</table>\n",
       "</div>"
      ],
      "text/plain": [
       "    User ID  Gender  Age  Estimated_Salary  Purchased\n",
       "0  15624510    Male   19             19000          0\n",
       "1  15810944    Male   35             20000          0\n",
       "2  15668575  Female   26             43000          0\n",
       "3  15603246  Female   27             57000          0\n",
       "4  15804002    Male   19             76000          0"
      ]
     },
     "execution_count": 8,
     "metadata": {},
     "output_type": "execute_result"
    }
   ],
   "source": [
    "df.head()"
   ]
  },
  {
   "cell_type": "code",
   "execution_count": 9,
   "id": "015ce53d-ffeb-4164-8db8-6448dee362c8",
   "metadata": {},
   "outputs": [],
   "source": [
    "cat_features = 'Gender'\n",
    "\n",
    "le = LabelEncoder()\n",
    "le.fit(df[cat_features].unique())\n",
    "df[cat_features] = le.transform(df[cat_features])"
   ]
  },
  {
   "cell_type": "code",
   "execution_count": 10,
   "id": "6b622167-9a74-42b9-b700-9cb1f68c34b6",
   "metadata": {},
   "outputs": [
    {
     "data": {
      "text/html": [
       "<div>\n",
       "<style scoped>\n",
       "    .dataframe tbody tr th:only-of-type {\n",
       "        vertical-align: middle;\n",
       "    }\n",
       "\n",
       "    .dataframe tbody tr th {\n",
       "        vertical-align: top;\n",
       "    }\n",
       "\n",
       "    .dataframe thead th {\n",
       "        text-align: right;\n",
       "    }\n",
       "</style>\n",
       "<table border=\"1\" class=\"dataframe\">\n",
       "  <thead>\n",
       "    <tr style=\"text-align: right;\">\n",
       "      <th></th>\n",
       "      <th>User ID</th>\n",
       "      <th>Gender</th>\n",
       "      <th>Age</th>\n",
       "      <th>Estimated_Salary</th>\n",
       "      <th>Purchased</th>\n",
       "    </tr>\n",
       "  </thead>\n",
       "  <tbody>\n",
       "    <tr>\n",
       "      <th>0</th>\n",
       "      <td>15624510</td>\n",
       "      <td>1</td>\n",
       "      <td>19</td>\n",
       "      <td>19000</td>\n",
       "      <td>0</td>\n",
       "    </tr>\n",
       "    <tr>\n",
       "      <th>1</th>\n",
       "      <td>15810944</td>\n",
       "      <td>1</td>\n",
       "      <td>35</td>\n",
       "      <td>20000</td>\n",
       "      <td>0</td>\n",
       "    </tr>\n",
       "    <tr>\n",
       "      <th>2</th>\n",
       "      <td>15668575</td>\n",
       "      <td>0</td>\n",
       "      <td>26</td>\n",
       "      <td>43000</td>\n",
       "      <td>0</td>\n",
       "    </tr>\n",
       "    <tr>\n",
       "      <th>3</th>\n",
       "      <td>15603246</td>\n",
       "      <td>0</td>\n",
       "      <td>27</td>\n",
       "      <td>57000</td>\n",
       "      <td>0</td>\n",
       "    </tr>\n",
       "    <tr>\n",
       "      <th>4</th>\n",
       "      <td>15804002</td>\n",
       "      <td>1</td>\n",
       "      <td>19</td>\n",
       "      <td>76000</td>\n",
       "      <td>0</td>\n",
       "    </tr>\n",
       "  </tbody>\n",
       "</table>\n",
       "</div>"
      ],
      "text/plain": [
       "    User ID  Gender  Age  Estimated_Salary  Purchased\n",
       "0  15624510       1   19             19000          0\n",
       "1  15810944       1   35             20000          0\n",
       "2  15668575       0   26             43000          0\n",
       "3  15603246       0   27             57000          0\n",
       "4  15804002       1   19             76000          0"
      ]
     },
     "execution_count": 10,
     "metadata": {},
     "output_type": "execute_result"
    }
   ],
   "source": [
    "df.head()"
   ]
  },
  {
   "cell_type": "markdown",
   "id": "51d3ae94-8c1a-44fe-8872-8a69d9d0861a",
   "metadata": {
    "tags": []
   },
   "source": [
    "## Train test split"
   ]
  },
  {
   "cell_type": "code",
   "execution_count": 11,
   "id": "0889b933-2857-4801-8651-4a9ad90efc03",
   "metadata": {},
   "outputs": [],
   "source": [
    "x = df[['Gender', 'Age', 'Estimated_Salary']].values\n",
    "y = df['Purchased'].values"
   ]
  },
  {
   "cell_type": "code",
   "execution_count": 12,
   "id": "7353a461-9a91-42f0-a416-efa4aa99dc24",
   "metadata": {},
   "outputs": [
    {
     "data": {
      "text/plain": [
       "(numpy.ndarray, numpy.ndarray)"
      ]
     },
     "execution_count": 12,
     "metadata": {},
     "output_type": "execute_result"
    }
   ],
   "source": [
    "type(x), type(y)"
   ]
  },
  {
   "cell_type": "code",
   "execution_count": 13,
   "id": "f7bd5d37-6a38-4577-b491-fe6590473a2c",
   "metadata": {},
   "outputs": [],
   "source": [
    "x_train, x_test, y_train, y_test = train_test_split(x, y, test_size=0.2, random_state=42)"
   ]
  },
  {
   "cell_type": "code",
   "execution_count": 14,
   "id": "1ca9e93e-cb54-4eed-b716-c86327b7fe29",
   "metadata": {},
   "outputs": [
    {
     "data": {
      "text/plain": [
       "(320, 3)"
      ]
     },
     "execution_count": 14,
     "metadata": {},
     "output_type": "execute_result"
    }
   ],
   "source": [
    "x_train.shape"
   ]
  },
  {
   "cell_type": "code",
   "execution_count": 15,
   "id": "a287a826-899f-424e-b751-3ae1566638d0",
   "metadata": {},
   "outputs": [
    {
     "data": {
      "text/plain": [
       "(320,)"
      ]
     },
     "execution_count": 15,
     "metadata": {},
     "output_type": "execute_result"
    }
   ],
   "source": [
    "y_train.shape"
   ]
  },
  {
   "cell_type": "code",
   "execution_count": 16,
   "id": "0dcd8173-0378-4305-a5d8-7f069a0e11bb",
   "metadata": {},
   "outputs": [
    {
     "data": {
      "text/plain": [
       "(80, 3)"
      ]
     },
     "execution_count": 16,
     "metadata": {},
     "output_type": "execute_result"
    }
   ],
   "source": [
    "x_test.shape"
   ]
  },
  {
   "cell_type": "markdown",
   "id": "ced32a99-1981-4614-b149-e87118bd73a4",
   "metadata": {
    "tags": []
   },
   "source": [
    "## Standardization"
   ]
  },
  {
   "cell_type": "code",
   "execution_count": 17,
   "id": "67a7dbdb-ddba-4c1f-b325-ec74d9ddac67",
   "metadata": {},
   "outputs": [],
   "source": [
    "scaler = StandardScaler()\n",
    "\n",
    "x_train = scaler.fit_transform(x_train)\n",
    "x_test =scaler.transform(x_test)"
   ]
  },
  {
   "cell_type": "markdown",
   "id": "1a097bcd-d5dd-4fc9-a40f-c1197938db85",
   "metadata": {
    "tags": []
   },
   "source": [
    "## Convert to tensor"
   ]
  },
  {
   "cell_type": "code",
   "execution_count": 18,
   "id": "eb8bf640-6316-4122-ba39-59ce750aad31",
   "metadata": {},
   "outputs": [],
   "source": [
    "x_train = torch.FloatTensor(x_train)\n",
    "y_train = torch.FloatTensor(y_train)"
   ]
  },
  {
   "cell_type": "code",
   "execution_count": 19,
   "id": "a2fd3621-c008-472f-b34d-7b5f8d485637",
   "metadata": {},
   "outputs": [],
   "source": [
    "x_test = torch.FloatTensor(x_test)\n",
    "y_test = torch.FloatTensor(y_test)"
   ]
  },
  {
   "cell_type": "markdown",
   "id": "d14bd25e-fee8-4ec5-8a1a-ce652eace2cc",
   "metadata": {
    "tags": []
   },
   "source": [
    "## DataLoader"
   ]
  },
  {
   "cell_type": "code",
   "execution_count": 20,
   "id": "d3e64270-fea8-407c-a636-13fd25ea710b",
   "metadata": {},
   "outputs": [],
   "source": [
    "train_set = TensorDataset(x_train, y_train)\n",
    "test_set = TensorDataset(x_test, y_test)"
   ]
  },
  {
   "cell_type": "markdown",
   "id": "a7f5146d-9242-462f-a3dc-0e39c79f0295",
   "metadata": {
    "tags": []
   },
   "source": [
    "### Train loader"
   ]
  },
  {
   "cell_type": "code",
   "execution_count": 21,
   "id": "65a5aae5-ece1-4221-a5ef-658e9e3cae55",
   "metadata": {},
   "outputs": [],
   "source": [
    "train_loader = DataLoader(train_set, batch_size=32, shuffle=True)"
   ]
  },
  {
   "cell_type": "markdown",
   "id": "03be9505-ff0b-4f2a-86aa-8c29fafc04a1",
   "metadata": {},
   "source": [
    "### Test loader"
   ]
  },
  {
   "cell_type": "code",
   "execution_count": 22,
   "id": "0bf1b89f-3fba-4509-8c81-20ba8cfc60e4",
   "metadata": {},
   "outputs": [],
   "source": [
    "test_loader = DataLoader(test_set, batch_size=40)"
   ]
  },
  {
   "cell_type": "markdown",
   "id": "f18e606a-a9b8-4827-8284-9c8b14acb39e",
   "metadata": {},
   "source": [
    "### Get one batch"
   ]
  },
  {
   "cell_type": "code",
   "execution_count": 23,
   "id": "35c86ba7-0bd5-4fca-9fb2-d826ee7717dc",
   "metadata": {},
   "outputs": [],
   "source": [
    "x, y = next(iter(train_loader))"
   ]
  },
  {
   "cell_type": "code",
   "execution_count": 24,
   "id": "3f5bc7f1-43a9-4913-8a3a-468b04e6bcf9",
   "metadata": {},
   "outputs": [
    {
     "data": {
      "text/plain": [
       "(torch.Size([32, 3]),\n",
       " tensor([0., 1., 0., 1., 0., 1., 0., 0., 0., 0., 0., 0., 1., 0., 0., 0., 1., 1.,\n",
       "         0., 0., 0., 0., 1., 1., 0., 1., 0., 0., 0., 0., 0., 0.]))"
      ]
     },
     "execution_count": 24,
     "metadata": {},
     "output_type": "execute_result"
    }
   ],
   "source": [
    "x.shape, y"
   ]
  },
  {
   "cell_type": "markdown",
   "id": "f99092e2-cc1b-4f8e-bf14-d1a7421e2760",
   "metadata": {
    "tags": []
   },
   "source": [
    "## Device"
   ]
  },
  {
   "cell_type": "code",
   "execution_count": 25,
   "id": "35476ec1-b01c-44c8-b708-ed450adab655",
   "metadata": {},
   "outputs": [],
   "source": [
    "device = 'cuda' if torch.cuda.is_available() else 'cpu'"
   ]
  },
  {
   "cell_type": "markdown",
   "id": "83c7f973-188e-4304-8c42-acabf68302bc",
   "metadata": {
    "tags": []
   },
   "source": [
    "## Model"
   ]
  },
  {
   "cell_type": "code",
   "execution_count": 26,
   "id": "01d26c32-f784-49cb-b674-ee47096ed3ad",
   "metadata": {},
   "outputs": [],
   "source": [
    "class MLP(nn.Module):\n",
    "    def __init__(self, in_feat, h1, h2, num_class):\n",
    "        super(MLP, self).__init__()\n",
    "        self.fc1 = nn.Linear(in_feat, h1)\n",
    "        self.fc2 = nn.Linear(h1, h2)\n",
    "        self.fc3 = nn.Linear(h2, num_class)\n",
    "        self.Relu = nn.ReLU()\n",
    "        self.sigmoid = nn.Sigmoid()\n",
    "        self.dropout = nn.Dropout(p=0.3)\n",
    "\n",
    "    def forward(self, x):\n",
    "        out = self.fc1(x)\n",
    "        out = self.Relu(out)\n",
    "        out = self.dropout(out)\n",
    "        \n",
    "        out = self.fc2(out)\n",
    "        out = self.Relu(out)\n",
    "        out = self.dropout(out)\n",
    "        \n",
    "        out = self.fc3(out)\n",
    "        out = self.sigmoid(out)\n",
    "        return out"
   ]
  },
  {
   "cell_type": "code",
   "execution_count": 27,
   "id": "18cc490d-31d2-4549-a193-aafc6d792b8a",
   "metadata": {},
   "outputs": [],
   "source": [
    "# Define MLP model\n",
    "model = MLP(in_feat=3, h1=32, h2=16, num_class=1)"
   ]
  },
  {
   "cell_type": "code",
   "execution_count": 28,
   "id": "71e8f47e-6536-471a-a2b8-6883d70dfec3",
   "metadata": {},
   "outputs": [
    {
     "data": {
      "text/plain": [
       "MLP(\n",
       "  (fc1): Linear(in_features=3, out_features=32, bias=True)\n",
       "  (fc2): Linear(in_features=32, out_features=16, bias=True)\n",
       "  (fc3): Linear(in_features=16, out_features=1, bias=True)\n",
       "  (Relu): ReLU()\n",
       "  (sigmoid): Sigmoid()\n",
       "  (dropout): Dropout(p=0.3, inplace=False)\n",
       ")"
      ]
     },
     "execution_count": 28,
     "metadata": {},
     "output_type": "execute_result"
    }
   ],
   "source": [
    "model"
   ]
  },
  {
   "cell_type": "markdown",
   "id": "8503d96e-c521-4f1b-944d-862c7093f8a3",
   "metadata": {
    "tags": []
   },
   "source": [
    "## loss function & Optimizer "
   ]
  },
  {
   "cell_type": "code",
   "execution_count": 29,
   "id": "7383d67e-3885-496a-aa4b-c48061cb08d0",
   "metadata": {},
   "outputs": [],
   "source": [
    "criterion = nn.BCELoss()\n",
    "optimizer = optim.Adam(model.parameters(), lr=0.001)"
   ]
  },
  {
   "cell_type": "markdown",
   "id": "047c1053-9d43-4571-be7c-49559db46c9d",
   "metadata": {
    "tags": []
   },
   "source": [
    "## Utils"
   ]
  },
  {
   "cell_type": "code",
   "execution_count": 30,
   "id": "12de6f33-b8e7-418d-a673-21cc26f5e927",
   "metadata": {},
   "outputs": [],
   "source": [
    "class AverageMeter(object):\n",
    "    \"\"\"Computes and stores the average and current value\"\"\"\n",
    "    def __init__(self):\n",
    "        self.reset()\n",
    "\n",
    "    def reset(self):\n",
    "        self.val = 0\n",
    "        self.avg = 0\n",
    "        self.sum = 0\n",
    "        self.count = 0\n",
    "\n",
    "    def update(self, val, n=1):\n",
    "        self.val = val\n",
    "        self.sum += val * n\n",
    "        self.count += n\n",
    "        self.avg = self.sum / self.count"
   ]
  },
  {
   "cell_type": "markdown",
   "id": "7b2b8363-28ab-47c2-9080-82d372061c82",
   "metadata": {},
   "source": [
    "## train loop"
   ]
  },
  {
   "cell_type": "code",
   "execution_count": 31,
   "id": "0efbd50d-4b68-457d-8c9b-84a066520f2e",
   "metadata": {},
   "outputs": [
    {
     "name": "stdout",
     "output_type": "stream",
     "text": [
      "Epoch: 0\n",
      "Train: loss = 0.669, Acc = 0.647\n",
      "Valid: loss = 0.632, Acc = 0.65\n",
      "\n",
      "Epoch: 10\n",
      "Train: loss = 0.452, Acc = 0.803\n",
      "Valid: loss = 0.458, Acc = 0.95\n",
      "\n",
      "Epoch: 20\n",
      "Train: loss = 0.349, Acc = 0.859\n",
      "Valid: loss = 0.38, Acc = 0.925\n",
      "\n",
      "Epoch: 30\n",
      "Train: loss = 0.314, Acc = 0.887\n",
      "Valid: loss = 0.255, Acc = 0.925\n",
      "\n",
      "Epoch: 40\n",
      "Train: loss = 0.287, Acc = 0.887\n",
      "Valid: loss = 0.159, Acc = 0.925\n",
      "\n",
      "Epoch: 50\n",
      "Train: loss = 0.282, Acc = 0.913\n",
      "Valid: loss = 0.174, Acc = 0.913\n",
      "\n",
      "Epoch: 60\n",
      "Train: loss = 0.281, Acc = 0.894\n",
      "Valid: loss = 0.329, Acc = 0.925\n",
      "\n",
      "Epoch: 70\n",
      "Train: loss = 0.27, Acc = 0.9\n",
      "Valid: loss = 0.151, Acc = 0.925\n",
      "\n",
      "Epoch: 80\n",
      "Train: loss = 0.26, Acc = 0.913\n",
      "Valid: loss = 0.262, Acc = 0.925\n",
      "\n",
      "Epoch: 90\n",
      "Train: loss = 0.254, Acc = 0.906\n",
      "Valid: loss = 0.252, Acc = 0.925\n",
      "\n",
      "Epoch: 100\n",
      "Train: loss = 0.281, Acc = 0.897\n",
      "Valid: loss = 0.309, Acc = 0.925\n",
      "\n",
      "Epoch: 110\n",
      "Train: loss = 0.226, Acc = 0.916\n",
      "Valid: loss = 0.218, Acc = 0.925\n",
      "\n",
      "Epoch: 120\n",
      "Train: loss = 0.237, Acc = 0.925\n",
      "Valid: loss = 0.0776, Acc = 0.925\n",
      "\n",
      "Epoch: 130\n",
      "Train: loss = 0.258, Acc = 0.916\n",
      "Valid: loss = 0.151, Acc = 0.925\n",
      "\n",
      "Epoch: 140\n",
      "Train: loss = 0.266, Acc = 0.909\n",
      "Valid: loss = 0.13, Acc = 0.925\n",
      "\n",
      "Epoch: 150\n",
      "Train: loss = 0.229, Acc = 0.913\n",
      "Valid: loss = 0.288, Acc = 0.925\n",
      "\n",
      "Epoch: 160\n",
      "Train: loss = 0.254, Acc = 0.909\n",
      "Valid: loss = 0.134, Acc = 0.925\n",
      "\n",
      "Epoch: 170\n",
      "Train: loss = 0.239, Acc = 0.916\n",
      "Valid: loss = 0.198, Acc = 0.925\n",
      "\n",
      "Epoch: 180\n",
      "Train: loss = 0.242, Acc = 0.903\n",
      "Valid: loss = 0.269, Acc = 0.925\n",
      "\n",
      "Epoch: 190\n",
      "Train: loss = 0.23, Acc = 0.925\n",
      "Valid: loss = 0.267, Acc = 0.925\n",
      "\n"
     ]
    }
   ],
   "source": [
    "loss_train_hist = []\n",
    "loss_valid_hist = []\n",
    "\n",
    "acc_train_hist = []\n",
    "acc_valid_hist = []\n",
    "\n",
    "num_epochs = 200\n",
    "\n",
    "for epoch in range(num_epochs):\n",
    "    model.train()\n",
    "    acc_train = Accuracy().to(device)\n",
    "    loss_train = AverageMeter()\n",
    "    for i, (inputs, targets) in enumerate(train_loader):\n",
    "        inputs = inputs.to(device)\n",
    "        targets = targets.to(targets)\n",
    "        \n",
    "        # forward\n",
    "        preds = model(inputs)\n",
    "        \n",
    "        # compute loss\n",
    "        loss = criterion(preds, targets.unsqueeze(1))\n",
    "       \n",
    "        # backward\n",
    "        loss.backward()\n",
    "        optimizer.step()\n",
    "        optimizer.zero_grad()\n",
    "        \n",
    "        loss_train.update(loss.item())\n",
    "        acc_train(preds, targets.unsqueeze(1).int())\n",
    "    \n",
    "    model.eval()\n",
    "    acc_valid = Accuracy().to(device)\n",
    "    loss_valid = AverageMeter()\n",
    "    \n",
    "    with torch.no_grad():\n",
    "        \n",
    "        for i, (inputs, targets) in enumerate(test_loader):\n",
    "            inputs = inputs.to(device)\n",
    "            targets = targets.to(targets)\n",
    "            \n",
    "            # forward\n",
    "            preds = model(inputs)\n",
    "            \n",
    "            # compute loss\n",
    "            criterion(preds, targets.unsqueeze(1))\n",
    "            loss_valid.update(loss.item())\n",
    "            \n",
    "            acc_valid(preds, targets.unsqueeze(1).int())\n",
    "            \n",
    "    loss_train_hist.append(loss_train.avg)\n",
    "    loss_valid_hist.append(loss_valid.avg)\n",
    "    \n",
    "    acc_train_hist.append(acc_train.compute())\n",
    "    acc_valid_hist.append(acc_valid.compute())\n",
    "    \n",
    "    if epoch % 10 == 0:\n",
    "        print(f'Epoch: {epoch}')\n",
    "        print(f'Train: loss = {loss_train.avg:.3}, Acc = {acc_train.compute():.3}')\n",
    "        print(f'Valid: loss = {loss_valid.avg:.3}, Acc = {acc_valid.compute():.3}')\n",
    "        print()"
   ]
  },
  {
   "cell_type": "markdown",
   "id": "62faf711-7aa3-44f9-a38e-4c26aa63915f",
   "metadata": {
    "tags": []
   },
   "source": [
    "## Plot loss"
   ]
  },
  {
   "cell_type": "code",
   "execution_count": 32,
   "id": "fd7466cf-b3d7-43cc-ad7d-703a3e1048b2",
   "metadata": {},
   "outputs": [
    {
     "data": {
      "image/png": "[encoded data removed]",
      "text/plain": [
       "<Figure size 640x480 with 1 Axes>"
      ]
     },
     "metadata": {},
     "output_type": "display_data"
    }
   ],
   "source": [
    "plt.plot(loss_train_hist, 'r-', label='Train')\n",
    "plt.plot(loss_valid_hist, 'b-', label='Validation')\n",
    "plt.title('Train and Validation Loss')\n",
    "plt.xlabel('Epoch')\n",
    "plt.ylabel('Loss')\n",
    "plt.grid(True)\n",
    "plt.legend();"
   ]
  },
  {
   "cell_type": "markdown",
   "id": "03f40cbd-ccd9-4d73-b9a9-486da8fb214b",
   "metadata": {
    "tags": []
   },
   "source": [
    "## Plot accuracy"
   ]
  },
  {
   "cell_type": "code",
   "execution_count": 33,
   "id": "c9c7342f-48b6-4e83-914c-132c44326366",
   "metadata": {},
   "outputs": [
    {
     "data": {
      "image/png": "[encoded data removed]",
      "text/plain": [
       "<Figure size 640x480 with 1 Axes>"
      ]
     },
     "metadata": {},
     "output_type": "display_data"
    }
   ],
   "source": [
    "import matplotlib.pyplot as plt\n",
    "\n",
    "plt.plot(acc_train_hist, 'r-', label='Train')\n",
    "plt.plot(acc_valid_hist, 'b-', label='Validation')\n",
    "plt.title('Train and Validation Accuracy')\n",
    "plt.xlabel('Epoch')\n",
    "plt.ylabel('Acc')\n",
    "plt.grid(True)\n",
    "plt.legend()\n",
    "plt.show()"
   ]
  }
 ],
 "metadata": {
  "kernelspec": {
   "display_name": "Python 3 (ipykernel)",
   "language": "python",
   "name": "python3"
  },
  "language_info": {
   "codemirror_mode": {
    "name": "ipython",
    "version": 3
   },
   "file_extension": ".py",
   "mimetype": "text/x-python",
   "name": "python",
   "nbconvert_exporter": "python",
   "pygments_lexer": "ipython3",
   "version": "3.9.12"
  }
 },
 "nbformat": 4,
 "nbformat_minor": 5
}
