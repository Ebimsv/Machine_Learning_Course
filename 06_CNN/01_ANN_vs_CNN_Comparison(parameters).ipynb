{
 "cells": [
  {
   "cell_type": "code",
   "execution_count": 2,
   "metadata": {},
   "outputs": [],
   "source": [
    "import torch\n",
    "import torch.nn as nn"
   ]
  },
  {
   "cell_type": "code",
   "execution_count": 3,
   "metadata": {},
   "outputs": [],
   "source": [
    "# Define input image size\n",
    "input_image_size = 512 * 512  # For ANN, flatten the image to a 1D vector\n",
    "batch_size = 1  # Just a single batch for simplicity\n",
    "\n",
    "# Sample image input for both ANN and CNN\n",
    "image_tensor_ann = torch.randn(batch_size, input_image_size)  # For ANN\n",
    "image_tensor_cnn = torch.randn(batch_size, 1, 512, 512)       # For CNN\n",
    "\n",
    "\n",
    "### ANN Model\n",
    "class SimpleANN(nn.Module):\n",
    "    def __init__(self):\n",
    "        super(SimpleANN, self).__init__()\n",
    "\n",
    "        # Fully connected layer with 128 neurons\n",
    "        self.fc = nn.Linear(input_image_size, 128)  \n",
    "\n",
    "    def forward(self, x):\n",
    "        return self.fc(x)\n",
    "\n",
    "\n",
    "### CNN Model\n",
    "class SimpleCNN(nn.Module):\n",
    "    def __init__(self):\n",
    "        super(SimpleCNN, self).__init__()\n",
    "        # 3x3 conv, 32 filters\n",
    "        self.conv = nn.Conv2d(in_channels=1, \n",
    "                              out_channels=32, \n",
    "                              kernel_size=3, \n",
    "                              stride=1, \n",
    "                              padding=1) \n",
    "\n",
    "    def forward(self, x):\n",
    "        return self.conv(x)"
   ]
  },
  {
   "cell_type": "code",
   "execution_count": 4,
   "metadata": {},
   "outputs": [
    {
     "name": "stdout",
     "output_type": "stream",
     "text": [
      "ANN Parameter count: 33554560\n",
      "CNN Parameter count: 320\n"
     ]
    }
   ],
   "source": [
    "ann_model = SimpleANN()\n",
    "ann_output = ann_model(image_tensor_ann)\n",
    "\n",
    "cnn_model = SimpleCNN()\n",
    "cnn_output = cnn_model(image_tensor_cnn)\n",
    "\n",
    "# Count ANN parameters\n",
    "ann_params = sum(p.numel() for p in ann_model.parameters())\n",
    "print(f\"ANN Parameter count: {ann_params}\")\n",
    "\n",
    "# Count CNN parameters\n",
    "cnn_params = sum(p.numel() for p in cnn_model.parameters())\n",
    "print(f\"CNN Parameter count: {cnn_params}\")"
   ]
  },
  {
   "cell_type": "code",
   "execution_count": null,
   "metadata": {},
   "outputs": [],
   "source": []
  }
 ],
 "metadata": {
  "kernelspec": {
   "display_name": "pytorch23",
   "language": "python",
   "name": "python3"
  },
  "language_info": {
   "codemirror_mode": {
    "name": "ipython",
    "version": 3
   },
   "file_extension": ".py",
   "mimetype": "text/x-python",
   "name": "python",
   "nbconvert_exporter": "python",
   "pygments_lexer": "ipython3",
   "version": "3.9.19"
  }
 },
 "nbformat": 4,
 "nbformat_minor": 2
}
